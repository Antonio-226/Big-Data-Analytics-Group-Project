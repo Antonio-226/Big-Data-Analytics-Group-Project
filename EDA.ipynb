{
 "cells": [
  {
   "cell_type": "code",
   "execution_count": 13,
   "id": "8c127a95",
   "metadata": {},
   "outputs": [],
   "source": [
    "import pandas as pd \n",
    "import numpy as np\n",
    "import matplotlib.pyplot as plt"
   ]
  },
  {
   "cell_type": "code",
   "execution_count": 14,
   "id": "4c5b53dd",
   "metadata": {},
   "outputs": [],
   "source": [
    "df_accidents = pd.read_pickle('datasets/accidents.pkl')\n",
    "df_weather = pd.read_pickle('datasets/hourly_weather.pkl')\n",
    "df_join = pd.read_csv('datasets/dataset.csv')"
   ]
  },
  {
   "cell_type": "code",
   "execution_count": 15,
   "id": "69875075",
   "metadata": {},
   "outputs": [
    {
     "data": {
      "text/html": [
       "<div>\n",
       "<style scoped>\n",
       "    .dataframe tbody tr th:only-of-type {\n",
       "        vertical-align: middle;\n",
       "    }\n",
       "\n",
       "    .dataframe tbody tr th {\n",
       "        vertical-align: top;\n",
       "    }\n",
       "\n",
       "    .dataframe thead th {\n",
       "        text-align: right;\n",
       "    }\n",
       "</style>\n",
       "<table border=\"1\" class=\"dataframe\">\n",
       "  <thead>\n",
       "    <tr style=\"text-align: right;\">\n",
       "      <th></th>\n",
       "      <th>date</th>\n",
       "      <th>AccidentType</th>\n",
       "      <th>AccidentSeverityCategory</th>\n",
       "      <th>AccidentInvolvingPedestrian</th>\n",
       "      <th>AccidentInvolvingBicycle</th>\n",
       "      <th>AccidentInvolvingMotorcycle</th>\n",
       "      <th>RoadType</th>\n",
       "      <th>AccidentLocation_CHLV95_E</th>\n",
       "      <th>AccidentLocation_CHLV95_N</th>\n",
       "      <th>Year</th>\n",
       "      <th>Month</th>\n",
       "      <th>WeekDay</th>\n",
       "      <th>Hour</th>\n",
       "    </tr>\n",
       "  </thead>\n",
       "  <tbody>\n",
       "    <tr>\n",
       "      <th>0</th>\n",
       "      <td>2011-01-01 00:30:00</td>\n",
       "      <td>at0</td>\n",
       "      <td>as4</td>\n",
       "      <td>0</td>\n",
       "      <td>0</td>\n",
       "      <td>0</td>\n",
       "      <td>rt433</td>\n",
       "      <td>2684605</td>\n",
       "      <td>1245194</td>\n",
       "      <td>2011</td>\n",
       "      <td>1</td>\n",
       "      <td>Saturday</td>\n",
       "      <td>0.0</td>\n",
       "    </tr>\n",
       "    <tr>\n",
       "      <th>1</th>\n",
       "      <td>2011-01-01 01:30:00</td>\n",
       "      <td>at0</td>\n",
       "      <td>as3</td>\n",
       "      <td>0</td>\n",
       "      <td>1</td>\n",
       "      <td>0</td>\n",
       "      <td>rt433</td>\n",
       "      <td>2682382</td>\n",
       "      <td>1246980</td>\n",
       "      <td>2011</td>\n",
       "      <td>1</td>\n",
       "      <td>Saturday</td>\n",
       "      <td>1.0</td>\n",
       "    </tr>\n",
       "    <tr>\n",
       "      <th>2</th>\n",
       "      <td>2011-01-01 02:30:00</td>\n",
       "      <td>at0</td>\n",
       "      <td>as4</td>\n",
       "      <td>0</td>\n",
       "      <td>0</td>\n",
       "      <td>0</td>\n",
       "      <td>rt439</td>\n",
       "      <td>2682791</td>\n",
       "      <td>1247749</td>\n",
       "      <td>2011</td>\n",
       "      <td>1</td>\n",
       "      <td>Saturday</td>\n",
       "      <td>2.0</td>\n",
       "    </tr>\n",
       "    <tr>\n",
       "      <th>3</th>\n",
       "      <td>2011-01-01 02:30:00</td>\n",
       "      <td>at5</td>\n",
       "      <td>as3</td>\n",
       "      <td>0</td>\n",
       "      <td>0</td>\n",
       "      <td>0</td>\n",
       "      <td>rt433</td>\n",
       "      <td>2681199</td>\n",
       "      <td>1247102</td>\n",
       "      <td>2011</td>\n",
       "      <td>1</td>\n",
       "      <td>Saturday</td>\n",
       "      <td>2.0</td>\n",
       "    </tr>\n",
       "    <tr>\n",
       "      <th>4</th>\n",
       "      <td>2011-01-01 03:30:00</td>\n",
       "      <td>at0</td>\n",
       "      <td>as4</td>\n",
       "      <td>0</td>\n",
       "      <td>0</td>\n",
       "      <td>0</td>\n",
       "      <td>rt433</td>\n",
       "      <td>2682479</td>\n",
       "      <td>1250690</td>\n",
       "      <td>2011</td>\n",
       "      <td>1</td>\n",
       "      <td>Saturday</td>\n",
       "      <td>3.0</td>\n",
       "    </tr>\n",
       "  </tbody>\n",
       "</table>\n",
       "</div>"
      ],
      "text/plain": [
       "                 date AccidentType AccidentSeverityCategory  \\\n",
       "0 2011-01-01 00:30:00          at0                      as4   \n",
       "1 2011-01-01 01:30:00          at0                      as3   \n",
       "2 2011-01-01 02:30:00          at0                      as4   \n",
       "3 2011-01-01 02:30:00          at5                      as3   \n",
       "4 2011-01-01 03:30:00          at0                      as4   \n",
       "\n",
       "   AccidentInvolvingPedestrian  AccidentInvolvingBicycle  \\\n",
       "0                            0                         0   \n",
       "1                            0                         1   \n",
       "2                            0                         0   \n",
       "3                            0                         0   \n",
       "4                            0                         0   \n",
       "\n",
       "   AccidentInvolvingMotorcycle RoadType  AccidentLocation_CHLV95_E  \\\n",
       "0                            0    rt433                    2684605   \n",
       "1                            0    rt433                    2682382   \n",
       "2                            0    rt439                    2682791   \n",
       "3                            0    rt433                    2681199   \n",
       "4                            0    rt433                    2682479   \n",
       "\n",
       "   AccidentLocation_CHLV95_N  Year  Month   WeekDay  Hour  \n",
       "0                    1245194  2011      1  Saturday   0.0  \n",
       "1                    1246980  2011      1  Saturday   1.0  \n",
       "2                    1247749  2011      1  Saturday   2.0  \n",
       "3                    1247102  2011      1  Saturday   2.0  \n",
       "4                    1250690  2011      1  Saturday   3.0  "
      ]
     },
     "execution_count": 15,
     "metadata": {},
     "output_type": "execute_result"
    }
   ],
   "source": [
    "df_accidents.head()"
   ]
  },
  {
   "cell_type": "code",
   "execution_count": 16,
   "id": "e6cc2a52",
   "metadata": {},
   "outputs": [
    {
     "data": {
      "text/html": [
       "<div>\n",
       "<style scoped>\n",
       "    .dataframe tbody tr th:only-of-type {\n",
       "        vertical-align: middle;\n",
       "    }\n",
       "\n",
       "    .dataframe tbody tr th {\n",
       "        vertical-align: top;\n",
       "    }\n",
       "\n",
       "    .dataframe thead th {\n",
       "        text-align: right;\n",
       "    }\n",
       "</style>\n",
       "<table border=\"1\" class=\"dataframe\">\n",
       "  <thead>\n",
       "    <tr style=\"text-align: right;\">\n",
       "      <th></th>\n",
       "      <th>date</th>\n",
       "      <th>air_temperature</th>\n",
       "      <th>water_temperature</th>\n",
       "      <th>wind_gust_max_10min</th>\n",
       "      <th>wind_speed_avg_10min</th>\n",
       "      <th>wind_force_avg_10min</th>\n",
       "      <th>wind_direction</th>\n",
       "      <th>windchill</th>\n",
       "      <th>barometric_pressure_qfe</th>\n",
       "      <th>precipitation</th>\n",
       "      <th>dew_point</th>\n",
       "      <th>global_radiation</th>\n",
       "      <th>humidity</th>\n",
       "      <th>water_level</th>\n",
       "    </tr>\n",
       "  </thead>\n",
       "  <tbody>\n",
       "    <tr>\n",
       "      <th>0</th>\n",
       "      <td>2011-01-01 00:30:00</td>\n",
       "      <td>2.233333</td>\n",
       "      <td>5.20</td>\n",
       "      <td>2.4</td>\n",
       "      <td>1.216667</td>\n",
       "      <td>1.216667</td>\n",
       "      <td>1785</td>\n",
       "      <td>2.20</td>\n",
       "      <td>974.55</td>\n",
       "      <td>0.0</td>\n",
       "      <td>1.616667</td>\n",
       "      <td>0.5</td>\n",
       "      <td>95.833333</td>\n",
       "      <td>67.635</td>\n",
       "    </tr>\n",
       "    <tr>\n",
       "      <th>1</th>\n",
       "      <td>2011-01-01 01:30:00</td>\n",
       "      <td>2.380000</td>\n",
       "      <td>5.20</td>\n",
       "      <td>2.8</td>\n",
       "      <td>0.860000</td>\n",
       "      <td>0.860000</td>\n",
       "      <td>1076</td>\n",
       "      <td>2.16</td>\n",
       "      <td>973.98</td>\n",
       "      <td>0.0</td>\n",
       "      <td>1.520000</td>\n",
       "      <td>0.6</td>\n",
       "      <td>93.600000</td>\n",
       "      <td>81.162</td>\n",
       "    </tr>\n",
       "    <tr>\n",
       "      <th>2</th>\n",
       "      <td>2011-01-01 02:30:00</td>\n",
       "      <td>2.580000</td>\n",
       "      <td>5.14</td>\n",
       "      <td>1.2</td>\n",
       "      <td>0.340000</td>\n",
       "      <td>0.340000</td>\n",
       "      <td>1159</td>\n",
       "      <td>2.58</td>\n",
       "      <td>973.64</td>\n",
       "      <td>0.0</td>\n",
       "      <td>1.380000</td>\n",
       "      <td>0.0</td>\n",
       "      <td>92.000000</td>\n",
       "      <td>81.162</td>\n",
       "    </tr>\n",
       "    <tr>\n",
       "      <th>3</th>\n",
       "      <td>2011-01-01 03:30:00</td>\n",
       "      <td>2.500000</td>\n",
       "      <td>5.16</td>\n",
       "      <td>1.9</td>\n",
       "      <td>0.520000</td>\n",
       "      <td>0.520000</td>\n",
       "      <td>1122</td>\n",
       "      <td>2.54</td>\n",
       "      <td>973.42</td>\n",
       "      <td>0.0</td>\n",
       "      <td>1.500000</td>\n",
       "      <td>0.0</td>\n",
       "      <td>92.800000</td>\n",
       "      <td>81.162</td>\n",
       "    </tr>\n",
       "    <tr>\n",
       "      <th>4</th>\n",
       "      <td>2011-01-01 04:30:00</td>\n",
       "      <td>2.500000</td>\n",
       "      <td>5.10</td>\n",
       "      <td>4.0</td>\n",
       "      <td>1.580000</td>\n",
       "      <td>1.580000</td>\n",
       "      <td>1108</td>\n",
       "      <td>1.62</td>\n",
       "      <td>973.16</td>\n",
       "      <td>0.0</td>\n",
       "      <td>0.720000</td>\n",
       "      <td>0.2</td>\n",
       "      <td>88.200000</td>\n",
       "      <td>81.162</td>\n",
       "    </tr>\n",
       "  </tbody>\n",
       "</table>\n",
       "</div>"
      ],
      "text/plain": [
       "                 date  air_temperature  water_temperature  \\\n",
       "0 2011-01-01 00:30:00         2.233333               5.20   \n",
       "1 2011-01-01 01:30:00         2.380000               5.20   \n",
       "2 2011-01-01 02:30:00         2.580000               5.14   \n",
       "3 2011-01-01 03:30:00         2.500000               5.16   \n",
       "4 2011-01-01 04:30:00         2.500000               5.10   \n",
       "\n",
       "   wind_gust_max_10min  wind_speed_avg_10min  wind_force_avg_10min  \\\n",
       "0                  2.4              1.216667              1.216667   \n",
       "1                  2.8              0.860000              0.860000   \n",
       "2                  1.2              0.340000              0.340000   \n",
       "3                  1.9              0.520000              0.520000   \n",
       "4                  4.0              1.580000              1.580000   \n",
       "\n",
       "  wind_direction  windchill  barometric_pressure_qfe  precipitation  \\\n",
       "0           1785       2.20                   974.55            0.0   \n",
       "1           1076       2.16                   973.98            0.0   \n",
       "2           1159       2.58                   973.64            0.0   \n",
       "3           1122       2.54                   973.42            0.0   \n",
       "4           1108       1.62                   973.16            0.0   \n",
       "\n",
       "   dew_point  global_radiation   humidity  water_level  \n",
       "0   1.616667               0.5  95.833333       67.635  \n",
       "1   1.520000               0.6  93.600000       81.162  \n",
       "2   1.380000               0.0  92.000000       81.162  \n",
       "3   1.500000               0.0  92.800000       81.162  \n",
       "4   0.720000               0.2  88.200000       81.162  "
      ]
     },
     "execution_count": 16,
     "metadata": {},
     "output_type": "execute_result"
    }
   ],
   "source": [
    "df_weather.head()"
   ]
  },
  {
   "cell_type": "code",
   "execution_count": 17,
   "id": "d8491399",
   "metadata": {},
   "outputs": [
    {
     "data": {
      "text/html": [
       "<div>\n",
       "<style scoped>\n",
       "    .dataframe tbody tr th:only-of-type {\n",
       "        vertical-align: middle;\n",
       "    }\n",
       "\n",
       "    .dataframe tbody tr th {\n",
       "        vertical-align: top;\n",
       "    }\n",
       "\n",
       "    .dataframe thead th {\n",
       "        text-align: right;\n",
       "    }\n",
       "</style>\n",
       "<table border=\"1\" class=\"dataframe\">\n",
       "  <thead>\n",
       "    <tr style=\"text-align: right;\">\n",
       "      <th></th>\n",
       "      <th>Unnamed: 0</th>\n",
       "      <th>date</th>\n",
       "      <th>air_temperature</th>\n",
       "      <th>water_temperature</th>\n",
       "      <th>wind_gust_max_10min</th>\n",
       "      <th>wind_speed_avg_10min</th>\n",
       "      <th>wind_force_avg_10min</th>\n",
       "      <th>wind_direction</th>\n",
       "      <th>windchill</th>\n",
       "      <th>barometric_pressure_qfe</th>\n",
       "      <th>...</th>\n",
       "      <th>Hour_14.0</th>\n",
       "      <th>Hour_15.0</th>\n",
       "      <th>Hour_16.0</th>\n",
       "      <th>Hour_17.0</th>\n",
       "      <th>Hour_18.0</th>\n",
       "      <th>Hour_19.0</th>\n",
       "      <th>Hour_20.0</th>\n",
       "      <th>Hour_21.0</th>\n",
       "      <th>Hour_22.0</th>\n",
       "      <th>Hour_23.0</th>\n",
       "    </tr>\n",
       "  </thead>\n",
       "  <tbody>\n",
       "    <tr>\n",
       "      <th>0</th>\n",
       "      <td>0</td>\n",
       "      <td>2011-01-01 00:30:00</td>\n",
       "      <td>2.233333</td>\n",
       "      <td>5.20</td>\n",
       "      <td>2.4</td>\n",
       "      <td>1.216667</td>\n",
       "      <td>1.216667</td>\n",
       "      <td>1785</td>\n",
       "      <td>2.20</td>\n",
       "      <td>974.55</td>\n",
       "      <td>...</td>\n",
       "      <td>0</td>\n",
       "      <td>0</td>\n",
       "      <td>0</td>\n",
       "      <td>0</td>\n",
       "      <td>0</td>\n",
       "      <td>0</td>\n",
       "      <td>0</td>\n",
       "      <td>0</td>\n",
       "      <td>0</td>\n",
       "      <td>0</td>\n",
       "    </tr>\n",
       "    <tr>\n",
       "      <th>1</th>\n",
       "      <td>1</td>\n",
       "      <td>2011-01-01 01:30:00</td>\n",
       "      <td>2.380000</td>\n",
       "      <td>5.20</td>\n",
       "      <td>2.8</td>\n",
       "      <td>0.860000</td>\n",
       "      <td>0.860000</td>\n",
       "      <td>1076</td>\n",
       "      <td>2.16</td>\n",
       "      <td>973.98</td>\n",
       "      <td>...</td>\n",
       "      <td>0</td>\n",
       "      <td>0</td>\n",
       "      <td>0</td>\n",
       "      <td>0</td>\n",
       "      <td>0</td>\n",
       "      <td>0</td>\n",
       "      <td>0</td>\n",
       "      <td>0</td>\n",
       "      <td>0</td>\n",
       "      <td>0</td>\n",
       "    </tr>\n",
       "    <tr>\n",
       "      <th>2</th>\n",
       "      <td>2</td>\n",
       "      <td>2011-01-01 02:30:00</td>\n",
       "      <td>2.580000</td>\n",
       "      <td>5.14</td>\n",
       "      <td>1.2</td>\n",
       "      <td>0.340000</td>\n",
       "      <td>0.340000</td>\n",
       "      <td>1159</td>\n",
       "      <td>2.58</td>\n",
       "      <td>973.64</td>\n",
       "      <td>...</td>\n",
       "      <td>0</td>\n",
       "      <td>0</td>\n",
       "      <td>0</td>\n",
       "      <td>0</td>\n",
       "      <td>0</td>\n",
       "      <td>0</td>\n",
       "      <td>0</td>\n",
       "      <td>0</td>\n",
       "      <td>0</td>\n",
       "      <td>0</td>\n",
       "    </tr>\n",
       "    <tr>\n",
       "      <th>3</th>\n",
       "      <td>3</td>\n",
       "      <td>2011-01-01 02:30:00</td>\n",
       "      <td>2.580000</td>\n",
       "      <td>5.14</td>\n",
       "      <td>1.2</td>\n",
       "      <td>0.340000</td>\n",
       "      <td>0.340000</td>\n",
       "      <td>1159</td>\n",
       "      <td>2.58</td>\n",
       "      <td>973.64</td>\n",
       "      <td>...</td>\n",
       "      <td>0</td>\n",
       "      <td>0</td>\n",
       "      <td>0</td>\n",
       "      <td>0</td>\n",
       "      <td>0</td>\n",
       "      <td>0</td>\n",
       "      <td>0</td>\n",
       "      <td>0</td>\n",
       "      <td>0</td>\n",
       "      <td>0</td>\n",
       "    </tr>\n",
       "    <tr>\n",
       "      <th>4</th>\n",
       "      <td>4</td>\n",
       "      <td>2011-01-01 03:30:00</td>\n",
       "      <td>2.500000</td>\n",
       "      <td>5.16</td>\n",
       "      <td>1.9</td>\n",
       "      <td>0.520000</td>\n",
       "      <td>0.520000</td>\n",
       "      <td>1122</td>\n",
       "      <td>2.54</td>\n",
       "      <td>973.42</td>\n",
       "      <td>...</td>\n",
       "      <td>0</td>\n",
       "      <td>0</td>\n",
       "      <td>0</td>\n",
       "      <td>0</td>\n",
       "      <td>0</td>\n",
       "      <td>0</td>\n",
       "      <td>0</td>\n",
       "      <td>0</td>\n",
       "      <td>0</td>\n",
       "      <td>0</td>\n",
       "    </tr>\n",
       "  </tbody>\n",
       "</table>\n",
       "<p>5 rows × 72 columns</p>\n",
       "</div>"
      ],
      "text/plain": [
       "   Unnamed: 0                 date  air_temperature  water_temperature  \\\n",
       "0           0  2011-01-01 00:30:00         2.233333               5.20   \n",
       "1           1  2011-01-01 01:30:00         2.380000               5.20   \n",
       "2           2  2011-01-01 02:30:00         2.580000               5.14   \n",
       "3           3  2011-01-01 02:30:00         2.580000               5.14   \n",
       "4           4  2011-01-01 03:30:00         2.500000               5.16   \n",
       "\n",
       "   wind_gust_max_10min  wind_speed_avg_10min  wind_force_avg_10min  \\\n",
       "0                  2.4              1.216667              1.216667   \n",
       "1                  2.8              0.860000              0.860000   \n",
       "2                  1.2              0.340000              0.340000   \n",
       "3                  1.2              0.340000              0.340000   \n",
       "4                  1.9              0.520000              0.520000   \n",
       "\n",
       "   wind_direction  windchill  barometric_pressure_qfe  ...  Hour_14.0  \\\n",
       "0            1785       2.20                   974.55  ...          0   \n",
       "1            1076       2.16                   973.98  ...          0   \n",
       "2            1159       2.58                   973.64  ...          0   \n",
       "3            1159       2.58                   973.64  ...          0   \n",
       "4            1122       2.54                   973.42  ...          0   \n",
       "\n",
       "   Hour_15.0  Hour_16.0  Hour_17.0  Hour_18.0  Hour_19.0  Hour_20.0  \\\n",
       "0          0          0          0          0          0          0   \n",
       "1          0          0          0          0          0          0   \n",
       "2          0          0          0          0          0          0   \n",
       "3          0          0          0          0          0          0   \n",
       "4          0          0          0          0          0          0   \n",
       "\n",
       "   Hour_21.0  Hour_22.0  Hour_23.0  \n",
       "0          0          0          0  \n",
       "1          0          0          0  \n",
       "2          0          0          0  \n",
       "3          0          0          0  \n",
       "4          0          0          0  \n",
       "\n",
       "[5 rows x 72 columns]"
      ]
     },
     "execution_count": 17,
     "metadata": {},
     "output_type": "execute_result"
    }
   ],
   "source": [
    "df_join.head()"
   ]
  },
  {
   "cell_type": "markdown",
   "id": "ac899bcf",
   "metadata": {},
   "source": [
    "### Visualizations of accidents data"
   ]
  },
  {
   "cell_type": "code",
   "execution_count": 23,
   "id": "019c2acd",
   "metadata": {},
   "outputs": [
    {
     "data": {
      "text/plain": [
       "Index(['date', 'AccidentType', 'AccidentSeverityCategory',\n",
       "       'AccidentInvolvingPedestrian', 'AccidentInvolvingBicycle',\n",
       "       'AccidentInvolvingMotorcycle', 'RoadType', 'AccidentLocation_CHLV95_E',\n",
       "       'AccidentLocation_CHLV95_N', 'Year', 'Month', 'WeekDay', 'Hour'],\n",
       "      dtype='object')"
      ]
     },
     "execution_count": 23,
     "metadata": {},
     "output_type": "execute_result"
    }
   ],
   "source": [
    "df_accidents.columns"
   ]
  },
  {
   "cell_type": "code",
   "execution_count": 24,
   "id": "9d0daf92",
   "metadata": {},
   "outputs": [
    {
     "data": {
      "text/plain": [
       "{'as4': 31867, 'as3': 8874, 'as2': 1918, 'as1': 67}"
      ]
     },
     "execution_count": 24,
     "metadata": {},
     "output_type": "execute_result"
    }
   ],
   "source": [
    "df_accidents['AccidentSeverityCategory'].value_counts().to_dict()"
   ]
  },
  {
   "cell_type": "code",
   "execution_count": null,
   "id": "44fc2d47",
   "metadata": {},
   "outputs": [],
   "source": []
  },
  {
   "cell_type": "code",
   "execution_count": 52,
   "id": "632b11cb",
   "metadata": {},
   "outputs": [],
   "source": [
    "all_ = len(df_accidents.loc[(df_accidents['AccidentInvolvingPedestrian']==1) & (df_accidents['AccidentInvolvingBicycle']==1) \n",
    "                            & (df_accidents['AccidentInvolvingMotorcycle']==1)])\n",
    "\n",
    "bicycle_only_ = len(df_accidents.loc[(df_accidents['AccidentInvolvingBicycle']==1)])\n",
    "moto_only_ = len(df_accidents.loc[(df_accidents['AccidentInvolvingMotorcycle']==1)])\n",
    "ped_only_ = len(df_accidents.loc[(df_accidents['AccidentInvolvingPedestrian']==1)])\n",
    "\n",
    "\n",
    "moto_bicycle_ = len(df_accidents.loc[(df_accidents['AccidentInvolvingMotorcycle']==1) \n",
    "                                    & (df_accidents['AccidentInvolvingBicycle']==1)])\n",
    "\n",
    "moto_ped_ = len(df_accidents.loc[(df_accidents['AccidentInvolvingMotorcycle']==1)\n",
    "                                    & (df_accidents['AccidentInvolvingPedestrian']==1)])\n",
    "\n",
    "ped_bicycle_ = len(df_accidents.loc[(df_accidents['AccidentInvolvingPedestrian']==1) \n",
    "                                    & (df_accidents['AccidentInvolvingBicycle']==1)])"
   ]
  },
  {
   "cell_type": "markdown",
   "id": "b1d9e3aa",
   "metadata": {},
   "source": [
    "**Distribution of accidents across hours:**"
   ]
  },
  {
   "cell_type": "code",
   "execution_count": 18,
   "id": "8f01aa0a",
   "metadata": {
    "scrolled": true
   },
   "outputs": [
    {
     "data": {
      "image/png": "[encoded data removed]",
      "text/plain": [
       "<Figure size 432x288 with 1 Axes>"
      ]
     },
     "metadata": {
      "needs_background": "light"
     },
     "output_type": "display_data"
    }
   ],
   "source": [
    "hourly_accs = df_accidents['Hour'].value_counts().to_dict()\n",
    "hourly_accs[24.0] = hourly_accs.pop(0.0)\n",
    "labels = [int(key) for key, value in hourly_accs.items()]\n",
    "\n",
    "#create barplot of distribution\n",
    "plt.title('Fig.1) Absolute Number of Accidents per time of day', fontweight = 'bold')\n",
    "plt.bar(hourly_accs.keys(), hourly_accs.values(), color='darkblue', edgecolor='white', label='Mean', \n",
    "       tick_label = labels)\n",
    "plt.ylabel('Number of Accidents')\n",
    "plt.xlabel('Time of day')\n",
    "plt.show()"
   ]
  },
  {
   "cell_type": "markdown",
   "id": "9db9026b",
   "metadata": {},
   "source": [
    "**Average number of monthly accidents:**"
   ]
  },
  {
   "cell_type": "code",
   "execution_count": 19,
   "id": "05ca7d55",
   "metadata": {},
   "outputs": [
    {
     "data": {
      "image/png": "[encoded data removed]",
      "text/plain": [
       "<Figure size 432x288 with 1 Axes>"
      ]
     },
     "metadata": {
      "needs_background": "light"
     },
     "output_type": "display_data"
    }
   ],
   "source": [
    "from itertools import groupby\n",
    "import calendar\n",
    "\n",
    "years = np.arange(2011,2020,1).tolist()\n",
    "months = np.arange(1,13,1).tolist()\n",
    "\n",
    "\n",
    "dict_1 = {}\n",
    "\n",
    "for j in years:\n",
    "    accidents_list = []\n",
    "    \n",
    "    for i in months:\n",
    "        row_dim = df_accidents[(df_accidents['Year'] == j) & (df_accidents['Month'] == i)].shape[0]\n",
    "        accidents_list.append(row_dim)\n",
    "    dict_1['{}'.format(j)] = [i for i in accidents_list]\n",
    "\n",
    "\n",
    "monthly_avgs_dict = {}\n",
    "\n",
    "for j in range(12):\n",
    "    \n",
    "    month_list = []\n",
    "    \n",
    "    for key, value in dict_1.items():\n",
    "        month_list.append(value[j]) #stores the number of accidents of the same month for every year\n",
    "    months_name = calendar.month_name[j+1]\n",
    "    monthly_avgs_dict[months_name[:3]] = [np.mean(month_list), np.median(month_list)] #stores the average number of accidents for each month\n",
    "\n",
    "\n",
    "# set heights of bars\n",
    "bars1 = [value[0] for key, value in monthly_avgs_dict.items()]\n",
    "bars2 = [value[1] for key, value in monthly_avgs_dict.items()]\n",
    " \n",
    "barWidth = 0.3\n",
    "\n",
    "r1 = np.arange(len(bars1))\n",
    "r2 = [x + barWidth for x in r1]\n",
    "\n",
    "# Make the plot\n",
    "plt.bar(r1, bars1, width=barWidth, color='darkblue', edgecolor='white', label='Mean')\n",
    "plt.bar(r2, bars2, width=barWidth, color='green', edgecolor='white', label='Median')\n",
    "\n",
    "plt.title('Fig.2: Mean and Median of Accidents per Month', fontweight = 'bold')\n",
    "plt.xlabel('Month', fontweight='bold')\n",
    "plt.ylabel('Number of Accidents', fontweight='bold')\n",
    "plt.xticks([r + (barWidth-0.15) for r in range(len(bars1))], list(monthly_avgs_dict.keys()))\n",
    "\n",
    "\n",
    "# Create legend & Show graphic\n",
    "plt.legend()\n",
    "plt.show()"
   ]
  },
  {
   "cell_type": "markdown",
   "id": "2b24239c",
   "metadata": {},
   "source": [
    "**Average number of yearly accidents:**"
   ]
  },
  {
   "cell_type": "code",
   "execution_count": 20,
   "id": "0dca2a42",
   "metadata": {},
   "outputs": [
    {
     "data": {
      "image/png": "[encoded data removed]",
      "text/plain": [
       "<Figure size 432x288 with 1 Axes>"
      ]
     },
     "metadata": {
      "needs_background": "light"
     },
     "output_type": "display_data"
    }
   ],
   "source": [
    "yearly_avgs_dict = {}\n",
    "\n",
    "for key, value in dict_1.items():\n",
    "    yearly_avgs_dict[key] = [np.mean(value), np.median(value)] #stores the average number of accidents per year\n",
    "    \n",
    "\n",
    "# set heights of bars\n",
    "bars1 = [value[0] for key, value in yearly_avgs_dict.items()]\n",
    "bars2 = [value[1] for key, value in yearly_avgs_dict.items()]\n",
    " \n",
    "barWidth = 0.3\n",
    "\n",
    "r1 = np.arange(len(bars1))\n",
    "r2 = [x + barWidth for x in r1]\n",
    "\n",
    "# Make the plot\n",
    "plt.bar(r1, bars1, width=barWidth, color='darkblue', edgecolor='white', label='Mean')\n",
    "plt.bar(r2, bars2, width=barWidth, color='green', edgecolor='white', label='Median')\n",
    "\n",
    "plt.title('Fig.3: Mean and Median of Accidents per Year', fontweight = 'bold')\n",
    "plt.xlabel('Year', fontweight='bold')\n",
    "plt.ylabel('Number of Accidents', fontweight='bold')\n",
    "plt.xticks([r + (barWidth-0.15) for r in range(len(bars1))], list(yearly_avgs_dict.keys()))\n",
    "\n",
    "\n",
    "# Create legend & Show graphic\n",
    "plt.legend()\n",
    "plt.show()"
   ]
  },
  {
   "cell_type": "markdown",
   "id": "9715e5e4",
   "metadata": {},
   "source": [
    "**Number of accidents per location:**"
   ]
  },
  {
   "cell_type": "code",
   "execution_count": 61,
   "id": "3895eaeb",
   "metadata": {},
   "outputs": [
    {
     "data": {
      "text/plain": [
       "<matplotlib.legend.Legend at 0x233a95770d0>"
      ]
     },
     "execution_count": 61,
     "metadata": {},
     "output_type": "execute_result"
    },
    {
     "data": {
      "image/png": "[encoded data removed]",
      "text/plain": [
       "<Figure size 432x288 with 1 Axes>"
      ]
     },
     "metadata": {
      "needs_background": "light"
     },
     "output_type": "display_data"
    }
   ],
   "source": [
    "location_dict = df_accidents['AccidentLocation_CHLV95_E'].value_counts().to_dict()\n",
    "plt.title('Fig.4) Distribution of accidents across Locations', fontweight = 'bold')\n",
    "plt.scatter(location_dict.keys(), location_dict.values(), label = '# accidents')\n",
    "plt.ylabel('Absolute number of accidents')\n",
    "plt.xlabel('Accident Location (Code)')\n",
    "plt.hlines(np.mean(list(location_dict.values())), min(list(location_dict.keys())), \n",
    "           max(list(location_dict.keys())), color = 'black', label = 'Average # accidents \\nper location')\n",
    "plt.legend(loc = 'upper left')"
   ]
  },
  {
   "cell_type": "markdown",
   "id": "21207410",
   "metadata": {},
   "source": [
    "### Visualizations of weather data"
   ]
  },
  {
   "cell_type": "code",
   "execution_count": 22,
   "id": "0290203c",
   "metadata": {},
   "outputs": [
    {
     "data": {
      "text/plain": [
       "Index(['date', 'air_temperature', 'water_temperature', 'wind_gust_max_10min',\n",
       "       'wind_speed_avg_10min', 'wind_force_avg_10min', 'wind_direction',\n",
       "       'windchill', 'barometric_pressure_qfe', 'precipitation', 'dew_point',\n",
       "       'global_radiation', 'humidity', 'water_level'],\n",
       "      dtype='object')"
      ]
     },
     "execution_count": 22,
     "metadata": {},
     "output_type": "execute_result"
    }
   ],
   "source": [
    "df_weather.columns"
   ]
  },
  {
   "cell_type": "markdown",
   "id": "4b67f999",
   "metadata": {},
   "source": [
    "**Average temperature per month:**"
   ]
  },
  {
   "cell_type": "code",
   "execution_count": 62,
   "id": "6cccf763",
   "metadata": {
    "scrolled": true
   },
   "outputs": [
    {
     "ename": "KeyError",
     "evalue": "'Year'",
     "output_type": "error",
     "traceback": [
      "\u001b[1;31m---------------------------------------------------------------------------\u001b[0m",
      "\u001b[1;31mKeyError\u001b[0m                                  Traceback (most recent call last)",
      "\u001b[1;32m~\\anaconda3\\lib\\site-packages\\pandas\\core\\indexes\\base.py\u001b[0m in \u001b[0;36mget_loc\u001b[1;34m(self, key, method, tolerance)\u001b[0m\n\u001b[0;32m   3079\u001b[0m             \u001b[1;32mtry\u001b[0m\u001b[1;33m:\u001b[0m\u001b[1;33m\u001b[0m\u001b[1;33m\u001b[0m\u001b[0m\n\u001b[1;32m-> 3080\u001b[1;33m                 \u001b[1;32mreturn\u001b[0m \u001b[0mself\u001b[0m\u001b[1;33m.\u001b[0m\u001b[0m_engine\u001b[0m\u001b[1;33m.\u001b[0m\u001b[0mget_loc\u001b[0m\u001b[1;33m(\u001b[0m\u001b[0mcasted_key\u001b[0m\u001b[1;33m)\u001b[0m\u001b[1;33m\u001b[0m\u001b[1;33m\u001b[0m\u001b[0m\n\u001b[0m\u001b[0;32m   3081\u001b[0m             \u001b[1;32mexcept\u001b[0m \u001b[0mKeyError\u001b[0m \u001b[1;32mas\u001b[0m \u001b[0merr\u001b[0m\u001b[1;33m:\u001b[0m\u001b[1;33m\u001b[0m\u001b[1;33m\u001b[0m\u001b[0m\n",
      "\u001b[1;32mpandas\\_libs\\index.pyx\u001b[0m in \u001b[0;36mpandas._libs.index.IndexEngine.get_loc\u001b[1;34m()\u001b[0m\n",
      "\u001b[1;32mpandas\\_libs\\index.pyx\u001b[0m in \u001b[0;36mpandas._libs.index.IndexEngine.get_loc\u001b[1;34m()\u001b[0m\n",
      "\u001b[1;32mpandas\\_libs\\hashtable_class_helper.pxi\u001b[0m in \u001b[0;36mpandas._libs.hashtable.PyObjectHashTable.get_item\u001b[1;34m()\u001b[0m\n",
      "\u001b[1;32mpandas\\_libs\\hashtable_class_helper.pxi\u001b[0m in \u001b[0;36mpandas._libs.hashtable.PyObjectHashTable.get_item\u001b[1;34m()\u001b[0m\n",
      "\u001b[1;31mKeyError\u001b[0m: 'Year'",
      "\nThe above exception was the direct cause of the following exception:\n",
      "\u001b[1;31mKeyError\u001b[0m                                  Traceback (most recent call last)",
      "\u001b[1;32m<ipython-input-62-81c8fd393fa4>\u001b[0m in \u001b[0;36m<module>\u001b[1;34m\u001b[0m\n\u001b[0;32m     12\u001b[0m \u001b[1;33m\u001b[0m\u001b[0m\n\u001b[0;32m     13\u001b[0m     \u001b[1;32mfor\u001b[0m \u001b[0mi\u001b[0m \u001b[1;32min\u001b[0m \u001b[0mmonths\u001b[0m\u001b[1;33m:\u001b[0m\u001b[1;33m\u001b[0m\u001b[1;33m\u001b[0m\u001b[0m\n\u001b[1;32m---> 14\u001b[1;33m         \u001b[0mrow_dim\u001b[0m \u001b[1;33m=\u001b[0m \u001b[0mdf_weather\u001b[0m\u001b[1;33m[\u001b[0m\u001b[1;33m(\u001b[0m\u001b[0mdf_weather\u001b[0m\u001b[1;33m[\u001b[0m\u001b[1;34m'Year'\u001b[0m\u001b[1;33m]\u001b[0m \u001b[1;33m==\u001b[0m \u001b[0mj\u001b[0m\u001b[1;33m)\u001b[0m \u001b[1;33m&\u001b[0m \u001b[1;33m(\u001b[0m\u001b[0mdf_weather\u001b[0m\u001b[1;33m[\u001b[0m\u001b[1;34m'Month'\u001b[0m\u001b[1;33m]\u001b[0m \u001b[1;33m==\u001b[0m \u001b[0mi\u001b[0m\u001b[1;33m)\u001b[0m\u001b[1;33m]\u001b[0m\u001b[1;33m.\u001b[0m\u001b[0mshape\u001b[0m\u001b[1;33m[\u001b[0m\u001b[1;36m0\u001b[0m\u001b[1;33m]\u001b[0m\u001b[1;33m\u001b[0m\u001b[1;33m\u001b[0m\u001b[0m\n\u001b[0m\u001b[0;32m     15\u001b[0m         \u001b[0mtemperature_list\u001b[0m\u001b[1;33m.\u001b[0m\u001b[0mappend\u001b[0m\u001b[1;33m(\u001b[0m\u001b[0mrow_dim\u001b[0m\u001b[1;33m)\u001b[0m\u001b[1;33m\u001b[0m\u001b[1;33m\u001b[0m\u001b[0m\n\u001b[0;32m     16\u001b[0m     \u001b[0mdict_1\u001b[0m\u001b[1;33m[\u001b[0m\u001b[1;34m'{}'\u001b[0m\u001b[1;33m.\u001b[0m\u001b[0mformat\u001b[0m\u001b[1;33m(\u001b[0m\u001b[0mj\u001b[0m\u001b[1;33m)\u001b[0m\u001b[1;33m]\u001b[0m \u001b[1;33m=\u001b[0m \u001b[1;33m[\u001b[0m\u001b[0mi\u001b[0m \u001b[1;32mfor\u001b[0m \u001b[0mi\u001b[0m \u001b[1;32min\u001b[0m \u001b[0mtemperature_list\u001b[0m\u001b[1;33m]\u001b[0m\u001b[1;33m\u001b[0m\u001b[1;33m\u001b[0m\u001b[0m\n",
      "\u001b[1;32m~\\anaconda3\\lib\\site-packages\\pandas\\core\\frame.py\u001b[0m in \u001b[0;36m__getitem__\u001b[1;34m(self, key)\u001b[0m\n\u001b[0;32m   3022\u001b[0m             \u001b[1;32mif\u001b[0m \u001b[0mself\u001b[0m\u001b[1;33m.\u001b[0m\u001b[0mcolumns\u001b[0m\u001b[1;33m.\u001b[0m\u001b[0mnlevels\u001b[0m \u001b[1;33m>\u001b[0m \u001b[1;36m1\u001b[0m\u001b[1;33m:\u001b[0m\u001b[1;33m\u001b[0m\u001b[1;33m\u001b[0m\u001b[0m\n\u001b[0;32m   3023\u001b[0m                 \u001b[1;32mreturn\u001b[0m \u001b[0mself\u001b[0m\u001b[1;33m.\u001b[0m\u001b[0m_getitem_multilevel\u001b[0m\u001b[1;33m(\u001b[0m\u001b[0mkey\u001b[0m\u001b[1;33m)\u001b[0m\u001b[1;33m\u001b[0m\u001b[1;33m\u001b[0m\u001b[0m\n\u001b[1;32m-> 3024\u001b[1;33m             \u001b[0mindexer\u001b[0m \u001b[1;33m=\u001b[0m \u001b[0mself\u001b[0m\u001b[1;33m.\u001b[0m\u001b[0mcolumns\u001b[0m\u001b[1;33m.\u001b[0m\u001b[0mget_loc\u001b[0m\u001b[1;33m(\u001b[0m\u001b[0mkey\u001b[0m\u001b[1;33m)\u001b[0m\u001b[1;33m\u001b[0m\u001b[1;33m\u001b[0m\u001b[0m\n\u001b[0m\u001b[0;32m   3025\u001b[0m             \u001b[1;32mif\u001b[0m \u001b[0mis_integer\u001b[0m\u001b[1;33m(\u001b[0m\u001b[0mindexer\u001b[0m\u001b[1;33m)\u001b[0m\u001b[1;33m:\u001b[0m\u001b[1;33m\u001b[0m\u001b[1;33m\u001b[0m\u001b[0m\n\u001b[0;32m   3026\u001b[0m                 \u001b[0mindexer\u001b[0m \u001b[1;33m=\u001b[0m \u001b[1;33m[\u001b[0m\u001b[0mindexer\u001b[0m\u001b[1;33m]\u001b[0m\u001b[1;33m\u001b[0m\u001b[1;33m\u001b[0m\u001b[0m\n",
      "\u001b[1;32m~\\anaconda3\\lib\\site-packages\\pandas\\core\\indexes\\base.py\u001b[0m in \u001b[0;36mget_loc\u001b[1;34m(self, key, method, tolerance)\u001b[0m\n\u001b[0;32m   3080\u001b[0m                 \u001b[1;32mreturn\u001b[0m \u001b[0mself\u001b[0m\u001b[1;33m.\u001b[0m\u001b[0m_engine\u001b[0m\u001b[1;33m.\u001b[0m\u001b[0mget_loc\u001b[0m\u001b[1;33m(\u001b[0m\u001b[0mcasted_key\u001b[0m\u001b[1;33m)\u001b[0m\u001b[1;33m\u001b[0m\u001b[1;33m\u001b[0m\u001b[0m\n\u001b[0;32m   3081\u001b[0m             \u001b[1;32mexcept\u001b[0m \u001b[0mKeyError\u001b[0m \u001b[1;32mas\u001b[0m \u001b[0merr\u001b[0m\u001b[1;33m:\u001b[0m\u001b[1;33m\u001b[0m\u001b[1;33m\u001b[0m\u001b[0m\n\u001b[1;32m-> 3082\u001b[1;33m                 \u001b[1;32mraise\u001b[0m \u001b[0mKeyError\u001b[0m\u001b[1;33m(\u001b[0m\u001b[0mkey\u001b[0m\u001b[1;33m)\u001b[0m \u001b[1;32mfrom\u001b[0m \u001b[0merr\u001b[0m\u001b[1;33m\u001b[0m\u001b[1;33m\u001b[0m\u001b[0m\n\u001b[0m\u001b[0;32m   3083\u001b[0m \u001b[1;33m\u001b[0m\u001b[0m\n\u001b[0;32m   3084\u001b[0m         \u001b[1;32mif\u001b[0m \u001b[0mtolerance\u001b[0m \u001b[1;32mis\u001b[0m \u001b[1;32mnot\u001b[0m \u001b[1;32mNone\u001b[0m\u001b[1;33m:\u001b[0m\u001b[1;33m\u001b[0m\u001b[1;33m\u001b[0m\u001b[0m\n",
      "\u001b[1;31mKeyError\u001b[0m: 'Year'"
     ]
    }
   ],
   "source": [
    "from itertools import groupby\n",
    "import calendar\n",
    "\n",
    "years = np.arange(2011,2020,1).tolist()\n",
    "months = np.arange(1,13,1).tolist()\n",
    "\n",
    "\n",
    "dict_2 = {}\n",
    "\n",
    "for j in years:\n",
    "    temperature_list = []\n",
    "    \n",
    "    for i in months:\n",
    "        row_dim = df_weather[(df_weather['Year'] == j) & (df_weather['Month'] == i)].shape[0]\n",
    "        temperature_list.append(row_dim)\n",
    "    dict_1['{}'.format(j)] = [i for i in temperature_list]"
   ]
  },
  {
   "cell_type": "markdown",
   "id": "5ef59d97",
   "metadata": {},
   "source": [
    "**Average precipitation per month:**"
   ]
  },
  {
   "cell_type": "code",
   "execution_count": null,
   "id": "3b44e534",
   "metadata": {},
   "outputs": [],
   "source": [
    "a"
   ]
  }
 ],
 "metadata": {
  "kernelspec": {
   "display_name": "Python 3",
   "language": "python",
   "name": "python3"
  },
  "language_info": {
   "codemirror_mode": {
    "name": "ipython",
    "version": 3
   },
   "file_extension": ".py",
   "mimetype": "text/x-python",
   "name": "python",
   "nbconvert_exporter": "python",
   "pygments_lexer": "ipython3",
   "version": "3.8.8"
  }
 },
 "nbformat": 4,
 "nbformat_minor": 5
}
