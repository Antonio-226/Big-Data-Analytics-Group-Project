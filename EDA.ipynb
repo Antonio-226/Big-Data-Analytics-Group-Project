{
 "cells": [
  {
   "cell_type": "code",
   "execution_count": 1,
   "id": "8c127a95",
   "metadata": {},
   "outputs": [],
   "source": [
    "import pandas as pd \n",
    "import numpy as np\n",
    "import matplotlib.pyplot as plt\n",
    "import seaborn as sns"
   ]
  },
  {
   "cell_type": "code",
   "execution_count": 2,
   "id": "4c5b53dd",
   "metadata": {},
   "outputs": [
    {
     "ename": "FileNotFoundError",
     "evalue": "[Errno 2] No such file or directory: 'datasets/dataset.csv'",
     "output_type": "error",
     "traceback": [
      "\u001b[1;31m---------------------------------------------------------------------------\u001b[0m",
      "\u001b[1;31mFileNotFoundError\u001b[0m                         Traceback (most recent call last)",
      "\u001b[1;32m<ipython-input-2-8e7733471fee>\u001b[0m in \u001b[0;36m<module>\u001b[1;34m\u001b[0m\n\u001b[0;32m      1\u001b[0m \u001b[0mdf_accidents\u001b[0m \u001b[1;33m=\u001b[0m \u001b[0mpd\u001b[0m\u001b[1;33m.\u001b[0m\u001b[0mread_pickle\u001b[0m\u001b[1;33m(\u001b[0m\u001b[1;34m'datasets/accidents.pkl'\u001b[0m\u001b[1;33m)\u001b[0m\u001b[1;33m\u001b[0m\u001b[1;33m\u001b[0m\u001b[0m\n\u001b[0;32m      2\u001b[0m \u001b[0mdf_weather\u001b[0m \u001b[1;33m=\u001b[0m \u001b[0mpd\u001b[0m\u001b[1;33m.\u001b[0m\u001b[0mread_pickle\u001b[0m\u001b[1;33m(\u001b[0m\u001b[1;34m'datasets/hourly_weather.pkl'\u001b[0m\u001b[1;33m)\u001b[0m\u001b[1;33m\u001b[0m\u001b[1;33m\u001b[0m\u001b[0m\n\u001b[1;32m----> 3\u001b[1;33m \u001b[0mdf_join\u001b[0m \u001b[1;33m=\u001b[0m \u001b[0mpd\u001b[0m\u001b[1;33m.\u001b[0m\u001b[0mread_csv\u001b[0m\u001b[1;33m(\u001b[0m\u001b[1;34m'datasets/dataset.csv'\u001b[0m\u001b[1;33m)\u001b[0m\u001b[1;33m\u001b[0m\u001b[1;33m\u001b[0m\u001b[0m\n\u001b[0m",
      "\u001b[1;32m~\\anaconda3\\lib\\site-packages\\pandas\\io\\parsers.py\u001b[0m in \u001b[0;36mread_csv\u001b[1;34m(filepath_or_buffer, sep, delimiter, header, names, index_col, usecols, squeeze, prefix, mangle_dupe_cols, dtype, engine, converters, true_values, false_values, skipinitialspace, skiprows, skipfooter, nrows, na_values, keep_default_na, na_filter, verbose, skip_blank_lines, parse_dates, infer_datetime_format, keep_date_col, date_parser, dayfirst, cache_dates, iterator, chunksize, compression, thousands, decimal, lineterminator, quotechar, quoting, doublequote, escapechar, comment, encoding, dialect, error_bad_lines, warn_bad_lines, delim_whitespace, low_memory, memory_map, float_precision, storage_options)\u001b[0m\n\u001b[0;32m    608\u001b[0m     \u001b[0mkwds\u001b[0m\u001b[1;33m.\u001b[0m\u001b[0mupdate\u001b[0m\u001b[1;33m(\u001b[0m\u001b[0mkwds_defaults\u001b[0m\u001b[1;33m)\u001b[0m\u001b[1;33m\u001b[0m\u001b[1;33m\u001b[0m\u001b[0m\n\u001b[0;32m    609\u001b[0m \u001b[1;33m\u001b[0m\u001b[0m\n\u001b[1;32m--> 610\u001b[1;33m     \u001b[1;32mreturn\u001b[0m \u001b[0m_read\u001b[0m\u001b[1;33m(\u001b[0m\u001b[0mfilepath_or_buffer\u001b[0m\u001b[1;33m,\u001b[0m \u001b[0mkwds\u001b[0m\u001b[1;33m)\u001b[0m\u001b[1;33m\u001b[0m\u001b[1;33m\u001b[0m\u001b[0m\n\u001b[0m\u001b[0;32m    611\u001b[0m \u001b[1;33m\u001b[0m\u001b[0m\n\u001b[0;32m    612\u001b[0m \u001b[1;33m\u001b[0m\u001b[0m\n",
      "\u001b[1;32m~\\anaconda3\\lib\\site-packages\\pandas\\io\\parsers.py\u001b[0m in \u001b[0;36m_read\u001b[1;34m(filepath_or_buffer, kwds)\u001b[0m\n\u001b[0;32m    460\u001b[0m \u001b[1;33m\u001b[0m\u001b[0m\n\u001b[0;32m    461\u001b[0m     \u001b[1;31m# Create the parser.\u001b[0m\u001b[1;33m\u001b[0m\u001b[1;33m\u001b[0m\u001b[1;33m\u001b[0m\u001b[0m\n\u001b[1;32m--> 462\u001b[1;33m     \u001b[0mparser\u001b[0m \u001b[1;33m=\u001b[0m \u001b[0mTextFileReader\u001b[0m\u001b[1;33m(\u001b[0m\u001b[0mfilepath_or_buffer\u001b[0m\u001b[1;33m,\u001b[0m \u001b[1;33m**\u001b[0m\u001b[0mkwds\u001b[0m\u001b[1;33m)\u001b[0m\u001b[1;33m\u001b[0m\u001b[1;33m\u001b[0m\u001b[0m\n\u001b[0m\u001b[0;32m    463\u001b[0m \u001b[1;33m\u001b[0m\u001b[0m\n\u001b[0;32m    464\u001b[0m     \u001b[1;32mif\u001b[0m \u001b[0mchunksize\u001b[0m \u001b[1;32mor\u001b[0m \u001b[0miterator\u001b[0m\u001b[1;33m:\u001b[0m\u001b[1;33m\u001b[0m\u001b[1;33m\u001b[0m\u001b[0m\n",
      "\u001b[1;32m~\\anaconda3\\lib\\site-packages\\pandas\\io\\parsers.py\u001b[0m in \u001b[0;36m__init__\u001b[1;34m(self, f, engine, **kwds)\u001b[0m\n\u001b[0;32m    817\u001b[0m             \u001b[0mself\u001b[0m\u001b[1;33m.\u001b[0m\u001b[0moptions\u001b[0m\u001b[1;33m[\u001b[0m\u001b[1;34m\"has_index_names\"\u001b[0m\u001b[1;33m]\u001b[0m \u001b[1;33m=\u001b[0m \u001b[0mkwds\u001b[0m\u001b[1;33m[\u001b[0m\u001b[1;34m\"has_index_names\"\u001b[0m\u001b[1;33m]\u001b[0m\u001b[1;33m\u001b[0m\u001b[1;33m\u001b[0m\u001b[0m\n\u001b[0;32m    818\u001b[0m \u001b[1;33m\u001b[0m\u001b[0m\n\u001b[1;32m--> 819\u001b[1;33m         \u001b[0mself\u001b[0m\u001b[1;33m.\u001b[0m\u001b[0m_engine\u001b[0m \u001b[1;33m=\u001b[0m \u001b[0mself\u001b[0m\u001b[1;33m.\u001b[0m\u001b[0m_make_engine\u001b[0m\u001b[1;33m(\u001b[0m\u001b[0mself\u001b[0m\u001b[1;33m.\u001b[0m\u001b[0mengine\u001b[0m\u001b[1;33m)\u001b[0m\u001b[1;33m\u001b[0m\u001b[1;33m\u001b[0m\u001b[0m\n\u001b[0m\u001b[0;32m    820\u001b[0m \u001b[1;33m\u001b[0m\u001b[0m\n\u001b[0;32m    821\u001b[0m     \u001b[1;32mdef\u001b[0m \u001b[0mclose\u001b[0m\u001b[1;33m(\u001b[0m\u001b[0mself\u001b[0m\u001b[1;33m)\u001b[0m\u001b[1;33m:\u001b[0m\u001b[1;33m\u001b[0m\u001b[1;33m\u001b[0m\u001b[0m\n",
      "\u001b[1;32m~\\anaconda3\\lib\\site-packages\\pandas\\io\\parsers.py\u001b[0m in \u001b[0;36m_make_engine\u001b[1;34m(self, engine)\u001b[0m\n\u001b[0;32m   1048\u001b[0m             )\n\u001b[0;32m   1049\u001b[0m         \u001b[1;31m# error: Too many arguments for \"ParserBase\"\u001b[0m\u001b[1;33m\u001b[0m\u001b[1;33m\u001b[0m\u001b[1;33m\u001b[0m\u001b[0m\n\u001b[1;32m-> 1050\u001b[1;33m         \u001b[1;32mreturn\u001b[0m \u001b[0mmapping\u001b[0m\u001b[1;33m[\u001b[0m\u001b[0mengine\u001b[0m\u001b[1;33m]\u001b[0m\u001b[1;33m(\u001b[0m\u001b[0mself\u001b[0m\u001b[1;33m.\u001b[0m\u001b[0mf\u001b[0m\u001b[1;33m,\u001b[0m \u001b[1;33m**\u001b[0m\u001b[0mself\u001b[0m\u001b[1;33m.\u001b[0m\u001b[0moptions\u001b[0m\u001b[1;33m)\u001b[0m  \u001b[1;31m# type: ignore[call-arg]\u001b[0m\u001b[1;33m\u001b[0m\u001b[1;33m\u001b[0m\u001b[0m\n\u001b[0m\u001b[0;32m   1051\u001b[0m \u001b[1;33m\u001b[0m\u001b[0m\n\u001b[0;32m   1052\u001b[0m     \u001b[1;32mdef\u001b[0m \u001b[0m_failover_to_python\u001b[0m\u001b[1;33m(\u001b[0m\u001b[0mself\u001b[0m\u001b[1;33m)\u001b[0m\u001b[1;33m:\u001b[0m\u001b[1;33m\u001b[0m\u001b[1;33m\u001b[0m\u001b[0m\n",
      "\u001b[1;32m~\\anaconda3\\lib\\site-packages\\pandas\\io\\parsers.py\u001b[0m in \u001b[0;36m__init__\u001b[1;34m(self, src, **kwds)\u001b[0m\n\u001b[0;32m   1865\u001b[0m \u001b[1;33m\u001b[0m\u001b[0m\n\u001b[0;32m   1866\u001b[0m         \u001b[1;31m# open handles\u001b[0m\u001b[1;33m\u001b[0m\u001b[1;33m\u001b[0m\u001b[1;33m\u001b[0m\u001b[0m\n\u001b[1;32m-> 1867\u001b[1;33m         \u001b[0mself\u001b[0m\u001b[1;33m.\u001b[0m\u001b[0m_open_handles\u001b[0m\u001b[1;33m(\u001b[0m\u001b[0msrc\u001b[0m\u001b[1;33m,\u001b[0m \u001b[0mkwds\u001b[0m\u001b[1;33m)\u001b[0m\u001b[1;33m\u001b[0m\u001b[1;33m\u001b[0m\u001b[0m\n\u001b[0m\u001b[0;32m   1868\u001b[0m         \u001b[1;32massert\u001b[0m \u001b[0mself\u001b[0m\u001b[1;33m.\u001b[0m\u001b[0mhandles\u001b[0m \u001b[1;32mis\u001b[0m \u001b[1;32mnot\u001b[0m \u001b[1;32mNone\u001b[0m\u001b[1;33m\u001b[0m\u001b[1;33m\u001b[0m\u001b[0m\n\u001b[0;32m   1869\u001b[0m         \u001b[1;32mfor\u001b[0m \u001b[0mkey\u001b[0m \u001b[1;32min\u001b[0m \u001b[1;33m(\u001b[0m\u001b[1;34m\"storage_options\"\u001b[0m\u001b[1;33m,\u001b[0m \u001b[1;34m\"encoding\"\u001b[0m\u001b[1;33m,\u001b[0m \u001b[1;34m\"memory_map\"\u001b[0m\u001b[1;33m,\u001b[0m \u001b[1;34m\"compression\"\u001b[0m\u001b[1;33m)\u001b[0m\u001b[1;33m:\u001b[0m\u001b[1;33m\u001b[0m\u001b[1;33m\u001b[0m\u001b[0m\n",
      "\u001b[1;32m~\\anaconda3\\lib\\site-packages\\pandas\\io\\parsers.py\u001b[0m in \u001b[0;36m_open_handles\u001b[1;34m(self, src, kwds)\u001b[0m\n\u001b[0;32m   1360\u001b[0m         \u001b[0mLet\u001b[0m \u001b[0mthe\u001b[0m \u001b[0mreaders\u001b[0m \u001b[0mopen\u001b[0m \u001b[0mIOHanldes\u001b[0m \u001b[0mafter\u001b[0m \u001b[0mthey\u001b[0m \u001b[0mare\u001b[0m \u001b[0mdone\u001b[0m \u001b[1;32mwith\u001b[0m \u001b[0mtheir\u001b[0m \u001b[0mpotential\u001b[0m \u001b[0mraises\u001b[0m\u001b[1;33m.\u001b[0m\u001b[1;33m\u001b[0m\u001b[1;33m\u001b[0m\u001b[0m\n\u001b[0;32m   1361\u001b[0m         \"\"\"\n\u001b[1;32m-> 1362\u001b[1;33m         self.handles = get_handle(\n\u001b[0m\u001b[0;32m   1363\u001b[0m             \u001b[0msrc\u001b[0m\u001b[1;33m,\u001b[0m\u001b[1;33m\u001b[0m\u001b[1;33m\u001b[0m\u001b[0m\n\u001b[0;32m   1364\u001b[0m             \u001b[1;34m\"r\"\u001b[0m\u001b[1;33m,\u001b[0m\u001b[1;33m\u001b[0m\u001b[1;33m\u001b[0m\u001b[0m\n",
      "\u001b[1;32m~\\anaconda3\\lib\\site-packages\\pandas\\io\\common.py\u001b[0m in \u001b[0;36mget_handle\u001b[1;34m(path_or_buf, mode, encoding, compression, memory_map, is_text, errors, storage_options)\u001b[0m\n\u001b[0;32m    640\u001b[0m                 \u001b[0merrors\u001b[0m \u001b[1;33m=\u001b[0m \u001b[1;34m\"replace\"\u001b[0m\u001b[1;33m\u001b[0m\u001b[1;33m\u001b[0m\u001b[0m\n\u001b[0;32m    641\u001b[0m             \u001b[1;31m# Encoding\u001b[0m\u001b[1;33m\u001b[0m\u001b[1;33m\u001b[0m\u001b[1;33m\u001b[0m\u001b[0m\n\u001b[1;32m--> 642\u001b[1;33m             handle = open(\n\u001b[0m\u001b[0;32m    643\u001b[0m                 \u001b[0mhandle\u001b[0m\u001b[1;33m,\u001b[0m\u001b[1;33m\u001b[0m\u001b[1;33m\u001b[0m\u001b[0m\n\u001b[0;32m    644\u001b[0m                 \u001b[0mioargs\u001b[0m\u001b[1;33m.\u001b[0m\u001b[0mmode\u001b[0m\u001b[1;33m,\u001b[0m\u001b[1;33m\u001b[0m\u001b[1;33m\u001b[0m\u001b[0m\n",
      "\u001b[1;31mFileNotFoundError\u001b[0m: [Errno 2] No such file or directory: 'datasets/dataset.csv'"
     ]
    }
   ],
   "source": [
    "df_accidents = pd.read_pickle('datasets/accidents.pkl')\n",
    "df_weather = pd.read_pickle('datasets/hourly_weather.pkl')\n",
    "df_join = pd.read_csv('datasets/dataset.csv')"
   ]
  },
  {
   "cell_type": "code",
   "execution_count": null,
   "id": "69875075",
   "metadata": {},
   "outputs": [],
   "source": [
    "df_accidents.head()"
   ]
  },
  {
   "cell_type": "code",
   "execution_count": null,
   "id": "e6cc2a52",
   "metadata": {},
   "outputs": [],
   "source": [
    "df_weather.head()"
   ]
  },
  {
   "cell_type": "code",
   "execution_count": null,
   "id": "d8491399",
   "metadata": {},
   "outputs": [],
   "source": [
    "df_join.head()"
   ]
  },
  {
   "cell_type": "code",
   "execution_count": null,
   "id": "91fa8e66",
   "metadata": {},
   "outputs": [],
   "source": [
    "df_weather.columns"
   ]
  },
  {
   "cell_type": "code",
   "execution_count": null,
   "id": "74986e77",
   "metadata": {},
   "outputs": [],
   "source": [
    "df_join.describe()"
   ]
  },
  {
   "cell_type": "markdown",
   "id": "ac899bcf",
   "metadata": {},
   "source": [
    "### Visualizations of accidents data"
   ]
  },
  {
   "cell_type": "markdown",
   "id": "ce037f44",
   "metadata": {},
   "source": [
    "**Target Distribution**"
   ]
  },
  {
   "cell_type": "code",
   "execution_count": null,
   "id": "9ac45db4",
   "metadata": {},
   "outputs": [],
   "source": [
    "plt.title('Fig.1) Accident Distribution', fontweight = 'bold')\n",
    "sns.countplot(x = 'Accident', data=df_join, facecolor=(0, 0, 0, 0),\n",
    "                   linewidth=5, edgecolor=sns.color_palette(\"dark\", 3))\n",
    "plt.ylabel('Count', fontweight = 'bold')\n",
    "plt.xlabel('Accident', fontweight = 'bold')\n",
    "plt.show()"
   ]
  },
  {
   "cell_type": "code",
   "execution_count": null,
   "id": "cdcdeae2",
   "metadata": {},
   "outputs": [],
   "source": [
    "cols_list = ['air_temperature', 'water_temperature', 'wind_gust_max_10min',\n",
    "       'wind_speed_avg_10min', 'wind_force_avg_10min', 'wind_direction',\n",
    "       'windchill', 'barometric_pressure_qfe', 'precipitation', 'dew_point',\n",
    "       'global_radiation', 'humidity', 'water_level']\n",
    "\n",
    "plt.figure(figsize=(15, 15))\n",
    "\n",
    "for i in range(1,len(cols_list)+1):\n",
    "    plt.subplot(5, 3, i)\n",
    "    sns.boxplot(y = cols_list[i-1], x = 'Accident', data = df_join)\n",
    "    plt.tight_layout()\n",
    "    plt.title('Fig.{}: %s'.format(i) %cols_list[i-1], fontweight = 'bold')\n",
    "    plt.ylabel('')\n",
    "plt.show()"
   ]
  },
  {
   "cell_type": "code",
   "execution_count": null,
   "id": "ae77a48f",
   "metadata": {},
   "outputs": [],
   "source": []
  },
  {
   "cell_type": "code",
   "execution_count": null,
   "id": "7cbe9776",
   "metadata": {},
   "outputs": [],
   "source": []
  },
  {
   "cell_type": "code",
   "execution_count": null,
   "id": "ae160cf5",
   "metadata": {},
   "outputs": [],
   "source": [
    "np.mean(df_weather['air_temperature'])"
   ]
  },
  {
   "cell_type": "code",
   "execution_count": null,
   "id": "019c2acd",
   "metadata": {},
   "outputs": [],
   "source": [
    "df_accidents.columns"
   ]
  },
  {
   "cell_type": "code",
   "execution_count": null,
   "id": "9d0daf92",
   "metadata": {},
   "outputs": [],
   "source": [
    "df_accidents['AccidentSeverityCategory'].value_counts().to_dict()"
   ]
  },
  {
   "cell_type": "code",
   "execution_count": null,
   "id": "44fc2d47",
   "metadata": {},
   "outputs": [],
   "source": []
  },
  {
   "cell_type": "code",
   "execution_count": null,
   "id": "632b11cb",
   "metadata": {},
   "outputs": [],
   "source": [
    "all_ = len(df_accidents.loc[(df_accidents['AccidentInvolvingPedestrian']==1) & (df_accidents['AccidentInvolvingBicycle']==1) \n",
    "                            & (df_accidents['AccidentInvolvingMotorcycle']==1)])\n",
    "\n",
    "bicycle_only_ = len(df_accidents.loc[(df_accidents['AccidentInvolvingBicycle']==1)])\n",
    "moto_only_ = len(df_accidents.loc[(df_accidents['AccidentInvolvingMotorcycle']==1)])\n",
    "ped_only_ = len(df_accidents.loc[(df_accidents['AccidentInvolvingPedestrian']==1)])\n",
    "\n",
    "\n",
    "moto_bicycle_ = len(df_accidents.loc[(df_accidents['AccidentInvolvingMotorcycle']==1) \n",
    "                                    & (df_accidents['AccidentInvolvingBicycle']==1)])\n",
    "\n",
    "moto_ped_ = len(df_accidents.loc[(df_accidents['AccidentInvolvingMotorcycle']==1)\n",
    "                                    & (df_accidents['AccidentInvolvingPedestrian']==1)])\n",
    "\n",
    "ped_bicycle_ = len(df_accidents.loc[(df_accidents['AccidentInvolvingPedestrian']==1) \n",
    "                                    & (df_accidents['AccidentInvolvingBicycle']==1)])"
   ]
  },
  {
   "cell_type": "markdown",
   "id": "b1d9e3aa",
   "metadata": {},
   "source": [
    "**Distribution of accidents across hours:**"
   ]
  },
  {
   "cell_type": "code",
   "execution_count": null,
   "id": "8f01aa0a",
   "metadata": {
    "scrolled": true
   },
   "outputs": [],
   "source": [
    "hourly_accs = df_accidents['Hour'].value_counts().to_dict()\n",
    "hourly_accs[24.0] = hourly_accs.pop(0.0)\n",
    "labels = [int(key) for key, value in hourly_accs.items()]\n",
    "\n",
    "#create barplot of distribution\n",
    "plt.title('Fig.1) Absolute Number of Accidents per time of day', fontweight = 'bold')\n",
    "plt.bar(hourly_accs.keys(), hourly_accs.values(), color='darkblue', edgecolor='white', label='Mean', \n",
    "       tick_label = labels)\n",
    "plt.ylabel('Number of Accidents')\n",
    "plt.xlabel('Time of day')\n",
    "plt.show()"
   ]
  },
  {
   "cell_type": "markdown",
   "id": "9db9026b",
   "metadata": {},
   "source": [
    "**Average number of monthly accidents:**"
   ]
  },
  {
   "cell_type": "code",
   "execution_count": null,
   "id": "05ca7d55",
   "metadata": {},
   "outputs": [],
   "source": [
    "from itertools import groupby\n",
    "import calendar\n",
    "\n",
    "years = np.arange(2011,2020,1).tolist()\n",
    "months = np.arange(1,13,1).tolist()\n",
    "\n",
    "\n",
    "dict_1 = {}\n",
    "\n",
    "for j in years:\n",
    "    accidents_list = []\n",
    "    \n",
    "    for i in months:\n",
    "        row_dim = df_accidents[(df_accidents['Year'] == j) & (df_accidents['Month'] == i)].shape[0]\n",
    "        accidents_list.append(row_dim)\n",
    "    dict_1['{}'.format(j)] = [i for i in accidents_list]\n",
    "\n",
    "\n",
    "monthly_avgs_dict = {}\n",
    "\n",
    "for j in range(12):\n",
    "    \n",
    "    month_list = []\n",
    "    \n",
    "    for key, value in dict_1.items():\n",
    "        month_list.append(value[j]) #stores the number of accidents of the same month for every year\n",
    "    months_name = calendar.month_name[j+1]\n",
    "    monthly_avgs_dict[months_name[:3]] = [np.mean(month_list), np.median(month_list)] #stores the average number of accidents for each month\n",
    "\n",
    "\n",
    "# set heights of bars\n",
    "bars1 = [value[0] for key, value in monthly_avgs_dict.items()]\n",
    "bars2 = [value[1] for key, value in monthly_avgs_dict.items()]\n",
    " \n",
    "barWidth = 0.3\n",
    "\n",
    "r1 = np.arange(len(bars1))\n",
    "r2 = [x + barWidth for x in r1]\n",
    "\n",
    "# Make the plot\n",
    "plt.bar(r1, bars1, width=barWidth, color='darkblue', edgecolor='white', label='Mean')\n",
    "plt.bar(r2, bars2, width=barWidth, color='green', edgecolor='white', label='Median')\n",
    "\n",
    "plt.title('Fig.2: Mean and Median of Accidents per Month', fontweight = 'bold')\n",
    "plt.xlabel('Month', fontweight='bold')\n",
    "plt.ylabel('Number of Accidents', fontweight='bold')\n",
    "plt.xticks([r + (barWidth-0.15) for r in range(len(bars1))], list(monthly_avgs_dict.keys()))\n",
    "\n",
    "\n",
    "# Create legend & Show graphic\n",
    "plt.legend()\n",
    "plt.show()"
   ]
  },
  {
   "cell_type": "markdown",
   "id": "2b24239c",
   "metadata": {},
   "source": [
    "**Average number of yearly accidents:**"
   ]
  },
  {
   "cell_type": "code",
   "execution_count": null,
   "id": "0dca2a42",
   "metadata": {},
   "outputs": [],
   "source": [
    "yearly_avgs_dict = {}\n",
    "\n",
    "for key, value in dict_1.items():\n",
    "    yearly_avgs_dict[key] = [np.mean(value), np.median(value)] #stores the average number of accidents per year\n",
    "    \n",
    "\n",
    "# set heights of bars\n",
    "bars1 = [value[0] for key, value in yearly_avgs_dict.items()]\n",
    "bars2 = [value[1] for key, value in yearly_avgs_dict.items()]\n",
    " \n",
    "barWidth = 0.3\n",
    "\n",
    "r1 = np.arange(len(bars1))\n",
    "r2 = [x + barWidth for x in r1]\n",
    "\n",
    "# Make the plot\n",
    "plt.bar(r1, bars1, width=barWidth, color='darkblue', edgecolor='white', label='Mean')\n",
    "plt.bar(r2, bars2, width=barWidth, color='green', edgecolor='white', label='Median')\n",
    "\n",
    "plt.title('Fig.3: Mean and Median of Accidents per Year', fontweight = 'bold')\n",
    "plt.xlabel('Year', fontweight='bold')\n",
    "plt.ylabel('Number of Accidents', fontweight='bold')\n",
    "plt.xticks([r + (barWidth-0.15) for r in range(len(bars1))], list(yearly_avgs_dict.keys()))\n",
    "\n",
    "\n",
    "# Create legend & Show graphic\n",
    "plt.legend()\n",
    "plt.show()"
   ]
  },
  {
   "cell_type": "markdown",
   "id": "9715e5e4",
   "metadata": {},
   "source": [
    "**Number of accidents per location:**"
   ]
  },
  {
   "cell_type": "code",
   "execution_count": null,
   "id": "3895eaeb",
   "metadata": {},
   "outputs": [],
   "source": [
    "location_dict = df_accidents['AccidentLocation_CHLV95_E'].value_counts().to_dict()\n",
    "plt.title('Fig.4) Distribution of accidents across Locations', fontweight = 'bold')\n",
    "plt.scatter(location_dict.keys(), location_dict.values(), label = '# accidents')\n",
    "plt.ylabel('Absolute number of accidents')\n",
    "plt.xlabel('Accident Location (Code)')\n",
    "plt.hlines(np.mean(list(location_dict.values())), min(list(location_dict.keys())), \n",
    "           max(list(location_dict.keys())), color = 'black', label = 'Average # accidents \\nper location')\n",
    "plt.legend(loc = 'upper left')"
   ]
  },
  {
   "cell_type": "markdown",
   "id": "21207410",
   "metadata": {},
   "source": [
    "### Visualizations of weather data"
   ]
  },
  {
   "cell_type": "code",
   "execution_count": null,
   "id": "0290203c",
   "metadata": {},
   "outputs": [],
   "source": [
    "df_weather.columns"
   ]
  },
  {
   "cell_type": "markdown",
   "id": "4b67f999",
   "metadata": {},
   "source": [
    "**Average temperature per month:**"
   ]
  },
  {
   "cell_type": "code",
   "execution_count": null,
   "id": "6cccf763",
   "metadata": {
    "scrolled": true
   },
   "outputs": [],
   "source": [
    "from itertools import groupby\n",
    "import calendar\n",
    "\n",
    "years = np.arange(2011,2020,1).tolist()\n",
    "months = np.arange(1,13,1).tolist()\n",
    "\n",
    "\n",
    "dict_2 = {}\n",
    "\n",
    "for j in years:\n",
    "    temperature_list = []\n",
    "    \n",
    "    for i in months:\n",
    "        row_dim = df_weather[(df_weather['Year'] == j) & (df_weather['Month'] == i)].shape[0]\n",
    "        temperature_list.append(row_dim)\n",
    "    dict_1['{}'.format(j)] = [i for i in temperature_list]"
   ]
  },
  {
   "cell_type": "markdown",
   "id": "5ef59d97",
   "metadata": {},
   "source": [
    "**Average precipitation per month:**"
   ]
  },
  {
   "cell_type": "code",
   "execution_count": null,
   "id": "3b44e534",
   "metadata": {},
   "outputs": [],
   "source": [
    "a"
   ]
  }
 ],
 "metadata": {
  "kernelspec": {
   "display_name": "Python 3",
   "language": "python",
   "name": "python3"
  },
  "language_info": {
   "codemirror_mode": {
    "name": "ipython",
    "version": 3
   },
   "file_extension": ".py",
   "mimetype": "text/x-python",
   "name": "python",
   "nbconvert_exporter": "python",
   "pygments_lexer": "ipython3",
   "version": "3.8.8"
  }
 },
 "nbformat": 4,
 "nbformat_minor": 5
}
