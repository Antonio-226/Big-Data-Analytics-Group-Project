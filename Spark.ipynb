{
 "cells": [
  {
   "cell_type": "code",
   "execution_count": 15,
   "id": "cf0ba173",
   "metadata": {},
   "outputs": [],
   "source": [
    "from pyspark.context import SparkContext\n",
    "from pyspark.sql.session import SparkSession\n",
    "from pyspark.ml.feature import StringIndexer\n",
    "from pyspark.ml.feature import OneHotEncoder\n",
    "from pyspark.ml import Pipeline"
   ]
  },
  {
   "cell_type": "code",
   "execution_count": null,
   "id": "32e527dc",
   "metadata": {},
   "outputs": [],
   "source": [
    "spark.conf.set('spark.sql.repl.eagerEval.enabled')"
   ]
  },
  {
   "cell_type": "code",
   "execution_count": 2,
   "id": "f987f0a7",
   "metadata": {},
   "outputs": [],
   "source": [
    "sc = SparkContext('local')\n",
    "spark = SparkSession(sc)"
   ]
  },
  {
   "cell_type": "code",
   "execution_count": 3,
   "id": "ecd1236e",
   "metadata": {},
   "outputs": [],
   "source": [
    "# Read the weather and the accident df\n",
    "\n",
    "df_weather = spark.read\\\n",
    "    .options(header=True, inferSchema=True)\\\n",
    "    .csv('datasets/hourly_weather.csv')\n",
    "df_accidents = spark.read\\\n",
    "    .options(header=True, inferSchema=True)\\\n",
    "    .csv('datasets/accidents.csv')"
   ]
  },
  {
   "cell_type": "code",
   "execution_count": 4,
   "id": "c202f937",
   "metadata": {},
   "outputs": [],
   "source": [
    "df_accidents = df_accidents.drop('AccidentUID', 'AccidentType_de', 'AccidentType_fr', 'AccidentType_it',\\\n",
    "                                  'AccidentType_en',\\\n",
    "                                  'AccidentSeverityCategory_de', 'AccidentSeverityCategory_fr',\\\n",
    "                                  'AccidentSeverityCategory_it', 'AccidentSeverityCategory_en',\\\n",
    "                                  'RoadType_de', 'RoadType_fr', 'RoadType_it', 'RoadType_en',\\\n",
    "                                  'AccidentLocation_CHLV95_E', 'AccidentLocation_CHLV95_N', 'CantonCode',\\\n",
    "                                  'MunicipalityCode', 'AccidentYear', 'AccidentMonth', 'AccidentMonth_de',\\\n",
    "                                  'AccidentMonth_fr', 'AccidentMonth_it', 'AccidentMonth_en', 'AccidentWeekDay',\\\n",
    "                                  'AccidentWeekDay_de', 'AccidentWeekDay_fr', 'AccidentWeekDay_it',\\\n",
    "                                  'AccidentWeekDay_en', 'AccidentHour', 'AccidentHour_text', 'day', 'RoadType',\\\n",
    "                                  'AccidentInvolvingPedestrian', 'AccidentInvolvingBicycle', 'AccidentInvolvingMotorcycle')"
   ]
  },
  {
   "cell_type": "code",
   "execution_count": 16,
   "id": "3a117ecd",
   "metadata": {},
   "outputs": [],
   "source": [
    "# index accident type and accident severity\n",
    "\n",
    "type_indexer = StringIndexer(inputCol='AccidentType', outputCol='typeIndex')\n",
    "severity_indexer = StringIndexer(inputCol='AccidentSeverityCategory', outputCol='severityIndex')\n",
    "\n",
    "# One-hot encoder for accident type and severity\n",
    "\n",
    "ohe_accident_type = OneHotEncoder(inputCol='typeIndex', outputCol='type_vec')\n",
    "ohe_accident_severity = OneHotEncoder(inputCol='severityIndex', outputCol='severity_vec')\n",
    "\n",
    "# Create pipeline and pass all stages\n",
    "pipeline = Pipeline(stages=[type_indexer,\n",
    "                           severity_indexer,\n",
    "                           ohe_accident_type,\n",
    "                           ohe_accident_severity])"
   ]
  },
  {
   "cell_type": "code",
   "execution_count": 17,
   "id": "d5a58c1e",
   "metadata": {},
   "outputs": [
    {
     "name": "stdout",
     "output_type": "stream",
     "text": [
      "+---+------------+------------------------+-------------------+---------+-------------+--------------+-------------+\n",
      "|_c0|AccidentType|AccidentSeverityCategory|               date|typeIndex|severityIndex|      type_vec| severity_vec|\n",
      "+---+------------+------------------------+-------------------+---------+-------------+--------------+-------------+\n",
      "|  0|         at0|                     as4|2011-01-01 00:30:00|      0.0|          0.0|(10,[0],[1.0])|(3,[0],[1.0])|\n",
      "|  1|         at0|                     as3|2011-01-01 01:30:00|      0.0|          1.0|(10,[0],[1.0])|(3,[1],[1.0])|\n",
      "|  2|         at0|                     as4|2011-01-01 02:30:00|      0.0|          0.0|(10,[0],[1.0])|(3,[0],[1.0])|\n",
      "|  3|         at5|                     as3|2011-01-01 02:30:00|      7.0|          1.0|(10,[7],[1.0])|(3,[1],[1.0])|\n",
      "|  4|         at0|                     as4|2011-01-01 03:30:00|      0.0|          0.0|(10,[0],[1.0])|(3,[0],[1.0])|\n",
      "+---+------------+------------------------+-------------------+---------+-------------+--------------+-------------+\n",
      "only showing top 5 rows\n",
      "\n"
     ]
    }
   ],
   "source": [
    "# Apply pipeline\n",
    "\n",
    "df_accidents_transformed = pipeline.fit(df_accidents).transform(df_accidents)\n",
    "df_accidents_transformed.show(5)"
   ]
  },
  {
   "cell_type": "code",
   "execution_count": 18,
   "id": "e6b22e73",
   "metadata": {},
   "outputs": [
    {
     "data": {
      "text/plain": [
       "['_c0',\n",
       " 'date',\n",
       " 'air_temperature',\n",
       " 'water_temperature',\n",
       " 'wind_gust_max_10min',\n",
       " 'wind_speed_avg_10min',\n",
       " 'wind_force_avg_10min',\n",
       " 'wind_direction',\n",
       " 'windchill',\n",
       " 'barometric_pressure_qfe',\n",
       " 'precipitation',\n",
       " 'dew_point',\n",
       " 'global_radiation',\n",
       " 'humidity',\n",
       " 'water_level']"
      ]
     },
     "execution_count": 18,
     "metadata": {},
     "output_type": "execute_result"
    }
   ],
   "source": [
    "df_weather.columns"
   ]
  },
  {
   "cell_type": "code",
   "execution_count": 21,
   "id": "32ee8bad",
   "metadata": {},
   "outputs": [
    {
     "name": "stdout",
     "output_type": "stream",
     "text": [
      "+---+-------------------+-----------------+-----------------+---------+------------------+------------------+--------------+------------------+-----------------+-------------+------------------+----------------+-----------------+-----------+\n",
      "|_c0|               date|         air_temp|       water_temp|wind_gust|    avg_wind_speed|    avg_wind_force|wind_direction|         windchill|     pressure_qfe|precipitation|         dew_point|global_radiation|         humidity|water_level|\n",
      "+---+-------------------+-----------------+-----------------+---------+------------------+------------------+--------------+------------------+-----------------+-------------+------------------+----------------+-----------------+-----------+\n",
      "|  0|2011-01-01 00:30:00|2.233333333333334|              5.2|      2.4|1.2166666666666668|1.2166666666666668|          1785|2.2000000000000006|974.5500000000001|          0.0|1.6166666666666665|             0.5|95.83333333333333|     67.635|\n",
      "|  1|2011-01-01 01:30:00|             2.38|              5.2|      2.8|              0.86|              0.86|          1076|              2.16|973.9800000000001|          0.0|              1.52|             0.6|             93.6|     81.162|\n",
      "|  2|2011-01-01 02:30:00|             2.58|5.140000000000001|      1.2|              0.34|              0.34|          1159|2.5799999999999996|           973.64|          0.0|1.3800000000000001|             0.0|             92.0|     81.162|\n",
      "|  3|2011-01-01 03:30:00|              2.5|5.159999999999999|      1.9|              0.52|              0.52|          1122|              2.54|973.4200000000001|          0.0|               1.5|             0.0|             92.8|     81.162|\n",
      "|  4|2011-01-01 04:30:00|              2.5|              5.1|      4.0|              1.58|              1.58|          1108|1.6199999999999999|973.1599999999999|          0.0|0.7200000000000001|             0.2|             88.2|     81.162|\n",
      "+---+-------------------+-----------------+-----------------+---------+------------------+------------------+--------------+------------------+-----------------+-------------+------------------+----------------+-----------------+-----------+\n",
      "only showing top 5 rows\n",
      "\n"
     ]
    }
   ],
   "source": [
    "df_weather_transformed = df_weather.withColumnRenamed('air_temperature', 'air_temp')\\\n",
    "    .withColumnRenamed('water_temperature', 'water_temp')\\\n",
    "    .withColumnRenamed('wind_gust_max_10min', 'wind_gust')\\\n",
    "    .withColumnRenamed('wind_speed_avg_10min', 'avg_wind_speed')\\\n",
    "    .withColumnRenamed('wind_force_avg_10min', 'avg_wind_force')\\\n",
    "    .withColumnRenamed('barometric_pressure_qfe', 'pressure_qfe')\n",
    "# df_weather_transformed.printSchema()\n",
    "\n",
    "df_weather_transformed.show(5)"
   ]
  },
  {
   "cell_type": "code",
   "execution_count": null,
   "id": "b39fb221",
   "metadata": {},
   "outputs": [],
   "source": []
  },
  {
   "cell_type": "code",
   "execution_count": null,
   "id": "a40a2481",
   "metadata": {},
   "outputs": [],
   "source": []
  },
  {
   "cell_type": "code",
   "execution_count": null,
   "id": "f6a071ab",
   "metadata": {},
   "outputs": [],
   "source": []
  },
  {
   "cell_type": "code",
   "execution_count": null,
   "id": "691d7b3d",
   "metadata": {},
   "outputs": [],
   "source": [
    "weather_rdd = df_weather.rdd.map(tuple)\n",
    "accidents_rdd = df_accidents.rdd.map(tuple)\n",
    "\n",
    "# Test:\n",
    "# weather_rdd.take(1)"
   ]
  },
  {
   "cell_type": "code",
   "execution_count": null,
   "id": "3b193f40",
   "metadata": {},
   "outputs": [],
   "source": [
    "#accidents_rdd.take(1)"
   ]
  },
  {
   "cell_type": "code",
   "execution_count": null,
   "id": "c2997603",
   "metadata": {},
   "outputs": [],
   "source": [
    "df_accidents.columns"
   ]
  },
  {
   "cell_type": "code",
   "execution_count": null,
   "id": "2ea1fed3",
   "metadata": {},
   "outputs": [],
   "source": [
    "df_accidents_2.columns"
   ]
  }
 ],
 "metadata": {
  "kernelspec": {
   "display_name": "Python 3",
   "language": "python",
   "name": "python3"
  },
  "language_info": {
   "codemirror_mode": {
    "name": "ipython",
    "version": 3
   },
   "file_extension": ".py",
   "mimetype": "text/x-python",
   "name": "python",
   "nbconvert_exporter": "python",
   "pygments_lexer": "ipython3",
   "version": "3.9.4"
  }
 },
 "nbformat": 4,
 "nbformat_minor": 5
}
