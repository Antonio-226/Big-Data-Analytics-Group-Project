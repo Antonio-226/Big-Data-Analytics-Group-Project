{
 "cells": [
  {
   "cell_type": "markdown",
   "metadata": {},
   "source": [
    "# Join the two datasets"
   ]
  },
  {
   "cell_type": "code",
   "execution_count": 1,
   "metadata": {},
   "outputs": [],
   "source": [
    "import pandas as pd\n",
    "from datetime import datetime\n",
    "import numpy as np"
   ]
  },
  {
   "cell_type": "code",
   "execution_count": 2,
   "metadata": {},
   "outputs": [
    {
     "data": {
      "text/plain": [
       "'C:\\\\Users\\\\anton\\\\Big-Data-Analytics-Group-Project'"
      ]
     },
     "execution_count": 2,
     "metadata": {},
     "output_type": "execute_result"
    }
   ],
   "source": [
    "import os\n",
    "\n",
    "os.getcwd()"
   ]
  },
  {
   "cell_type": "markdown",
   "metadata": {},
   "source": [
    "#### Load datasets:"
   ]
  },
  {
   "cell_type": "code",
   "execution_count": 3,
   "metadata": {},
   "outputs": [],
   "source": [
    "df_hourly_weather = pd.read_pickle('datasets/hourly_weather.pkl')\n",
    "df_accidents = pd.read_pickle(\"datasets/accidents.pkl\")"
   ]
  },
  {
   "cell_type": "code",
   "execution_count": 4,
   "metadata": {},
   "outputs": [
    {
     "data": {
      "text/plain": [
       "Index(['date', 'air_temperature', 'water_temperature', 'wind_gust_max_10min',\n",
       "       'wind_speed_avg_10min', 'wind_force_avg_10min', 'wind_direction',\n",
       "       'windchill', 'barometric_pressure_qfe', 'precipitation', 'dew_point',\n",
       "       'global_radiation', 'humidity', 'water_level'],\n",
       "      dtype='object')"
      ]
     },
     "execution_count": 4,
     "metadata": {},
     "output_type": "execute_result"
    }
   ],
   "source": [
    "df_hourly_weather.columns"
   ]
  },
  {
   "cell_type": "code",
   "execution_count": 5,
   "metadata": {},
   "outputs": [
    {
     "data": {
      "text/plain": [
       "Index(['date', 'AccidentType', 'AccidentSeverityCategory',\n",
       "       'AccidentInvolvingPedestrian', 'AccidentInvolvingBicycle',\n",
       "       'AccidentInvolvingMotorcycle', 'RoadType', 'AccidentLocation_CHLV95_E',\n",
       "       'AccidentLocation_CHLV95_N', 'Month', 'WeekDay', 'Hour'],\n",
       "      dtype='object')"
      ]
     },
     "execution_count": 5,
     "metadata": {},
     "output_type": "execute_result"
    }
   ],
   "source": [
    "df_accidents.columns"
   ]
  },
  {
   "cell_type": "markdown",
   "metadata": {},
   "source": [
    "### I) Merge the two datasets"
   ]
  },
  {
   "cell_type": "code",
   "execution_count": 6,
   "metadata": {},
   "outputs": [
    {
     "data": {
      "text/plain": [
       "(92081, 25)"
      ]
     },
     "execution_count": 6,
     "metadata": {},
     "output_type": "execute_result"
    }
   ],
   "source": [
    "df_join = pd.merge(df_hourly_weather, df_accidents, on='date', how='left')\n",
    "df_join.shape"
   ]
  },
  {
   "cell_type": "markdown",
   "metadata": {},
   "source": [
    "### II) Normalization and One Hot Encoding"
   ]
  },
  {
   "cell_type": "markdown",
   "metadata": {},
   "source": [
    "#### One Hot Encoding of categorical cols and normalization:"
   ]
  },
  {
   "cell_type": "markdown",
   "metadata": {},
   "source": [
    "Notes: \n",
    "<br>\n",
    "$a)$ One Hot Encoding for vars of type object\n",
    "<br>\n",
    "$b)$ AccidentLocation should be normalized because too many different categories"
   ]
  },
  {
   "cell_type": "code",
   "execution_count": 7,
   "metadata": {},
   "outputs": [
    {
     "data": {
      "text/html": [
       "<div>\n",
       "<style scoped>\n",
       "    .dataframe tbody tr th:only-of-type {\n",
       "        vertical-align: middle;\n",
       "    }\n",
       "\n",
       "    .dataframe tbody tr th {\n",
       "        vertical-align: top;\n",
       "    }\n",
       "\n",
       "    .dataframe thead th {\n",
       "        text-align: right;\n",
       "    }\n",
       "</style>\n",
       "<table border=\"1\" class=\"dataframe\">\n",
       "  <thead>\n",
       "    <tr style=\"text-align: right;\">\n",
       "      <th></th>\n",
       "      <th>date</th>\n",
       "      <th>air_temperature</th>\n",
       "      <th>water_temperature</th>\n",
       "      <th>wind_gust_max_10min</th>\n",
       "      <th>wind_speed_avg_10min</th>\n",
       "      <th>wind_force_avg_10min</th>\n",
       "      <th>wind_direction</th>\n",
       "      <th>windchill</th>\n",
       "      <th>barometric_pressure_qfe</th>\n",
       "      <th>precipitation</th>\n",
       "      <th>...</th>\n",
       "      <th>AccidentSeverityCategory</th>\n",
       "      <th>AccidentInvolvingPedestrian</th>\n",
       "      <th>AccidentInvolvingBicycle</th>\n",
       "      <th>AccidentInvolvingMotorcycle</th>\n",
       "      <th>RoadType</th>\n",
       "      <th>AccidentLocation_CHLV95_E</th>\n",
       "      <th>AccidentLocation_CHLV95_N</th>\n",
       "      <th>Month</th>\n",
       "      <th>WeekDay</th>\n",
       "      <th>Hour</th>\n",
       "    </tr>\n",
       "  </thead>\n",
       "  <tbody>\n",
       "    <tr>\n",
       "      <th>92076</th>\n",
       "      <td>2019-12-31 18:30:00</td>\n",
       "      <td>1.56</td>\n",
       "      <td>6.80</td>\n",
       "      <td>2.3</td>\n",
       "      <td>1.24</td>\n",
       "      <td>1.0</td>\n",
       "      <td>734</td>\n",
       "      <td>1.54</td>\n",
       "      <td>984.54</td>\n",
       "      <td>0.0</td>\n",
       "      <td>...</td>\n",
       "      <td>as4</td>\n",
       "      <td>0.0</td>\n",
       "      <td>0.0</td>\n",
       "      <td>0.0</td>\n",
       "      <td>rt432</td>\n",
       "      <td>2682276.0</td>\n",
       "      <td>1247052.0</td>\n",
       "      <td>12.0</td>\n",
       "      <td>Tuesday</td>\n",
       "      <td>18.0</td>\n",
       "    </tr>\n",
       "    <tr>\n",
       "      <th>92077</th>\n",
       "      <td>2019-12-31 19:30:00</td>\n",
       "      <td>1.34</td>\n",
       "      <td>6.80</td>\n",
       "      <td>2.6</td>\n",
       "      <td>1.44</td>\n",
       "      <td>1.2</td>\n",
       "      <td>963</td>\n",
       "      <td>1.18</td>\n",
       "      <td>984.62</td>\n",
       "      <td>0.0</td>\n",
       "      <td>...</td>\n",
       "      <td>as4</td>\n",
       "      <td>0.0</td>\n",
       "      <td>0.0</td>\n",
       "      <td>0.0</td>\n",
       "      <td>rt433</td>\n",
       "      <td>2683004.0</td>\n",
       "      <td>1247184.0</td>\n",
       "      <td>12.0</td>\n",
       "      <td>Tuesday</td>\n",
       "      <td>19.0</td>\n",
       "    </tr>\n",
       "    <tr>\n",
       "      <th>92078</th>\n",
       "      <td>2019-12-31 20:30:00</td>\n",
       "      <td>1.04</td>\n",
       "      <td>6.80</td>\n",
       "      <td>2.8</td>\n",
       "      <td>1.66</td>\n",
       "      <td>1.8</td>\n",
       "      <td>699</td>\n",
       "      <td>0.78</td>\n",
       "      <td>984.76</td>\n",
       "      <td>0.0</td>\n",
       "      <td>...</td>\n",
       "      <td>NaN</td>\n",
       "      <td>NaN</td>\n",
       "      <td>NaN</td>\n",
       "      <td>NaN</td>\n",
       "      <td>NaN</td>\n",
       "      <td>NaN</td>\n",
       "      <td>NaN</td>\n",
       "      <td>12.0</td>\n",
       "      <td>Tuesday</td>\n",
       "      <td>20.0</td>\n",
       "    </tr>\n",
       "    <tr>\n",
       "      <th>92079</th>\n",
       "      <td>2019-12-31 21:30:00</td>\n",
       "      <td>1.06</td>\n",
       "      <td>6.76</td>\n",
       "      <td>2.5</td>\n",
       "      <td>1.36</td>\n",
       "      <td>1.2</td>\n",
       "      <td>729</td>\n",
       "      <td>1.00</td>\n",
       "      <td>984.84</td>\n",
       "      <td>0.0</td>\n",
       "      <td>...</td>\n",
       "      <td>NaN</td>\n",
       "      <td>NaN</td>\n",
       "      <td>NaN</td>\n",
       "      <td>NaN</td>\n",
       "      <td>NaN</td>\n",
       "      <td>NaN</td>\n",
       "      <td>NaN</td>\n",
       "      <td>12.0</td>\n",
       "      <td>Tuesday</td>\n",
       "      <td>21.0</td>\n",
       "    </tr>\n",
       "    <tr>\n",
       "      <th>92080</th>\n",
       "      <td>2019-12-31 22:30:00</td>\n",
       "      <td>0.48</td>\n",
       "      <td>6.70</td>\n",
       "      <td>4.6</td>\n",
       "      <td>3.12</td>\n",
       "      <td>2.2</td>\n",
       "      <td>293</td>\n",
       "      <td>-3.60</td>\n",
       "      <td>985.02</td>\n",
       "      <td>0.0</td>\n",
       "      <td>...</td>\n",
       "      <td>NaN</td>\n",
       "      <td>NaN</td>\n",
       "      <td>NaN</td>\n",
       "      <td>NaN</td>\n",
       "      <td>NaN</td>\n",
       "      <td>NaN</td>\n",
       "      <td>NaN</td>\n",
       "      <td>12.0</td>\n",
       "      <td>Tuesday</td>\n",
       "      <td>22.0</td>\n",
       "    </tr>\n",
       "  </tbody>\n",
       "</table>\n",
       "<p>5 rows × 25 columns</p>\n",
       "</div>"
      ],
      "text/plain": [
       "                     date  air_temperature  water_temperature  \\\n",
       "92076 2019-12-31 18:30:00             1.56               6.80   \n",
       "92077 2019-12-31 19:30:00             1.34               6.80   \n",
       "92078 2019-12-31 20:30:00             1.04               6.80   \n",
       "92079 2019-12-31 21:30:00             1.06               6.76   \n",
       "92080 2019-12-31 22:30:00             0.48               6.70   \n",
       "\n",
       "       wind_gust_max_10min  wind_speed_avg_10min  wind_force_avg_10min  \\\n",
       "92076                  2.3                  1.24                   1.0   \n",
       "92077                  2.6                  1.44                   1.2   \n",
       "92078                  2.8                  1.66                   1.8   \n",
       "92079                  2.5                  1.36                   1.2   \n",
       "92080                  4.6                  3.12                   2.2   \n",
       "\n",
       "      wind_direction  windchill  barometric_pressure_qfe  precipitation  ...  \\\n",
       "92076            734       1.54                   984.54            0.0  ...   \n",
       "92077            963       1.18                   984.62            0.0  ...   \n",
       "92078            699       0.78                   984.76            0.0  ...   \n",
       "92079            729       1.00                   984.84            0.0  ...   \n",
       "92080            293      -3.60                   985.02            0.0  ...   \n",
       "\n",
       "       AccidentSeverityCategory  AccidentInvolvingPedestrian  \\\n",
       "92076                       as4                          0.0   \n",
       "92077                       as4                          0.0   \n",
       "92078                       NaN                          NaN   \n",
       "92079                       NaN                          NaN   \n",
       "92080                       NaN                          NaN   \n",
       "\n",
       "       AccidentInvolvingBicycle  AccidentInvolvingMotorcycle RoadType  \\\n",
       "92076                       0.0                          0.0    rt432   \n",
       "92077                       0.0                          0.0    rt433   \n",
       "92078                       NaN                          NaN      NaN   \n",
       "92079                       NaN                          NaN      NaN   \n",
       "92080                       NaN                          NaN      NaN   \n",
       "\n",
       "      AccidentLocation_CHLV95_E  AccidentLocation_CHLV95_N  Month  WeekDay  \\\n",
       "92076                 2682276.0                  1247052.0   12.0  Tuesday   \n",
       "92077                 2683004.0                  1247184.0   12.0  Tuesday   \n",
       "92078                       NaN                        NaN   12.0  Tuesday   \n",
       "92079                       NaN                        NaN   12.0  Tuesday   \n",
       "92080                       NaN                        NaN   12.0  Tuesday   \n",
       "\n",
       "       Hour  \n",
       "92076  18.0  \n",
       "92077  19.0  \n",
       "92078  20.0  \n",
       "92079  21.0  \n",
       "92080  22.0  \n",
       "\n",
       "[5 rows x 25 columns]"
      ]
     },
     "execution_count": 7,
     "metadata": {},
     "output_type": "execute_result"
    }
   ],
   "source": [
    "df_join['Month'].fillna(df_join['date'].dt.month, inplace = True)\n",
    "df_join['Hour'].fillna(df_join['date'].dt.hour, inplace = True)\n",
    "df_join['WeekDay'].fillna(df_join['date'].dt.day_name(), inplace = True)\n",
    "df_join.tail()"
   ]
  },
  {
   "cell_type": "code",
   "execution_count": 8,
   "metadata": {},
   "outputs": [],
   "source": [
    "df_join['wind_direction'] = [int(df_join['wind_direction'][i]) for i in range(len(df_join))]   "
   ]
  },
  {
   "cell_type": "code",
   "execution_count": 9,
   "metadata": {},
   "outputs": [
    {
     "data": {
      "text/plain": [
       "Index(['date', 'air_temperature', 'water_temperature', 'wind_gust_max_10min',\n",
       "       'wind_speed_avg_10min', 'wind_force_avg_10min', 'wind_direction',\n",
       "       'windchill', 'barometric_pressure_qfe', 'precipitation', 'dew_point',\n",
       "       'global_radiation', 'humidity', 'water_level',\n",
       "       'AccidentInvolvingPedestrian', 'AccidentInvolvingBicycle',\n",
       "       'AccidentInvolvingMotorcycle', 'AccidentLocation_CHLV95_E',\n",
       "       'AccidentLocation_CHLV95_N', 'AccidentType_at00', 'AccidentType_at1',\n",
       "       'AccidentType_at2', 'AccidentType_at3', 'AccidentType_at4',\n",
       "       'AccidentType_at5', 'AccidentType_at6', 'AccidentType_at7',\n",
       "       'AccidentType_at8', 'AccidentType_at9', 'AccidentSeverityCategory_as2',\n",
       "       'AccidentSeverityCategory_as3', 'AccidentSeverityCategory_as4',\n",
       "       'RoadType_rt431', 'RoadType_rt432', 'RoadType_rt433', 'RoadType_rt434',\n",
       "       'RoadType_rt439', 'WeekDay_Monday', 'WeekDay_Saturday',\n",
       "       'WeekDay_Sunday', 'WeekDay_Thursday', 'WeekDay_Tuesday',\n",
       "       'WeekDay_Wednesday', 'Month_2.0', 'Month_3.0', 'Month_4.0', 'Month_5.0',\n",
       "       'Month_6.0', 'Month_7.0', 'Month_8.0', 'Month_9.0', 'Month_10.0',\n",
       "       'Month_11.0', 'Month_12.0', 'Hour_1.0', 'Hour_2.0', 'Hour_3.0',\n",
       "       'Hour_4.0', 'Hour_5.0', 'Hour_6.0', 'Hour_7.0', 'Hour_8.0', 'Hour_9.0',\n",
       "       'Hour_10.0', 'Hour_11.0', 'Hour_12.0', 'Hour_13.0', 'Hour_14.0',\n",
       "       'Hour_15.0', 'Hour_16.0', 'Hour_17.0', 'Hour_18.0', 'Hour_19.0',\n",
       "       'Hour_20.0', 'Hour_21.0', 'Hour_22.0', 'Hour_23.0'],\n",
       "      dtype='object')"
      ]
     },
     "execution_count": 9,
     "metadata": {},
     "output_type": "execute_result"
    }
   ],
   "source": [
    "#one hot encoding for cols that need to be transformed (drop one of each category later)\n",
    "categorical_cols = list(df_join.select_dtypes(include=['object']).columns)\n",
    "categorical_cols.extend(['Month', 'Hour']) # these need to be one hot encoded as well\n",
    "df_join = pd.get_dummies(df_join, columns = categorical_cols, dtype= bool, drop_first= True)\n",
    "df_join.columns"
   ]
  },
  {
   "cell_type": "markdown",
   "metadata": {},
   "source": [
    "Note: \n",
    "<br>\n",
    "Since there are too many different locations in 'AccidentLocation_CHLV95_E' and 'AccidentLocation_CHLV95_N', it would be inappropriate to one hot encode these... So instead we will normalize them.\n",
    "<br>\n",
    "We will nevertheless check the distribution of accidents across locations because it might offer some insight regarding locations that are more dangerous..."
   ]
  },
  {
   "cell_type": "code",
   "execution_count": 10,
   "metadata": {},
   "outputs": [
    {
     "data": {
      "text/plain": [
       "<matplotlib.legend.Legend at 0x16606bb3be0>"
      ]
     },
     "execution_count": 10,
     "metadata": {},
     "output_type": "execute_result"
    },
    {
     "data": {
      "image/png": "[encoded data removed]",
      "text/plain": [
       "<Figure size 432x288 with 1 Axes>"
      ]
     },
     "metadata": {
      "needs_background": "light"
     },
     "output_type": "display_data"
    }
   ],
   "source": [
    "import matplotlib.pyplot as plt\n",
    "location_dict = df_join['AccidentLocation_CHLV95_E'].value_counts().to_dict()\n",
    "plt.title('Fig.) Distribution of accidents across Locations')\n",
    "plt.scatter(location_dict.keys(), location_dict.values(), label = '# of accidents')\n",
    "plt.ylabel('Absolute number of accidents')\n",
    "plt.xlabel('Accident Location (Code)')\n",
    "plt.hlines(np.mean(list(location_dict.values())), min(list(location_dict.keys())), \n",
    "           max(list(location_dict.keys())), color = 'black', label = 'Average # of accidents')\n",
    "plt.legend(loc = 'best')"
   ]
  },
  {
   "cell_type": "markdown",
   "metadata": {},
   "source": [
    "#normalize values of accident locations\n",
    "from sklearn import preprocessing\n",
    "column_E, column_N = np.array(df_join.pop('AccidentLocation_CHLV95_E')), np.array(df_join.pop('AccidentLocation_CHLV95_N'))\n",
    "index_column_E, index_column_N = df_join.columns.get_loc(column_E), df_join.columns.get_loc(column_N)\n",
    "normalized_E, normalized_N = preprocessing.normalize([column_E]), preprocessing.normalize([column_N])\n",
    "df_join.insert(index_column_E, 'AccidentLocation_CHLV95_E', normalized_E.reshape(-1,1))\n",
    "df_join.insert(index_column_N, 'AccidentLocation_CHLV95_N', normalized_N.reshape(-1,1))"
   ]
  },
  {
   "cell_type": "code",
   "execution_count": 11,
   "metadata": {
    "scrolled": true
   },
   "outputs": [
    {
     "data": {
      "text/plain": [
       "Index(['date', 'air_temperature', 'water_temperature', 'wind_gust_max_10min',\n",
       "       'wind_speed_avg_10min', 'wind_force_avg_10min', 'wind_direction',\n",
       "       'windchill', 'barometric_pressure_qfe', 'precipitation', 'dew_point',\n",
       "       'global_radiation', 'humidity', 'water_level',\n",
       "       'AccidentInvolvingPedestrian', 'AccidentInvolvingBicycle',\n",
       "       'AccidentInvolvingMotorcycle', 'AccidentLocation_CHLV95_E',\n",
       "       'AccidentLocation_CHLV95_N', 'AccidentType_at00', 'AccidentType_at1',\n",
       "       'AccidentType_at2', 'AccidentType_at3', 'AccidentType_at4',\n",
       "       'AccidentType_at5', 'AccidentType_at6', 'AccidentType_at7',\n",
       "       'AccidentType_at8', 'AccidentType_at9', 'AccidentSeverityCategory_as2',\n",
       "       'AccidentSeverityCategory_as3', 'AccidentSeverityCategory_as4',\n",
       "       'RoadType_rt431', 'RoadType_rt432', 'RoadType_rt433', 'RoadType_rt434',\n",
       "       'RoadType_rt439', 'WeekDay_Monday', 'WeekDay_Saturday',\n",
       "       'WeekDay_Sunday', 'WeekDay_Thursday', 'WeekDay_Tuesday',\n",
       "       'WeekDay_Wednesday', 'Month_2.0', 'Month_3.0', 'Month_4.0', 'Month_5.0',\n",
       "       'Month_6.0', 'Month_7.0', 'Month_8.0', 'Month_9.0', 'Month_10.0',\n",
       "       'Month_11.0', 'Month_12.0', 'Hour_1.0', 'Hour_2.0', 'Hour_3.0',\n",
       "       'Hour_4.0', 'Hour_5.0', 'Hour_6.0', 'Hour_7.0', 'Hour_8.0', 'Hour_9.0',\n",
       "       'Hour_10.0', 'Hour_11.0', 'Hour_12.0', 'Hour_13.0', 'Hour_14.0',\n",
       "       'Hour_15.0', 'Hour_16.0', 'Hour_17.0', 'Hour_18.0', 'Hour_19.0',\n",
       "       'Hour_20.0', 'Hour_21.0', 'Hour_22.0', 'Hour_23.0'],\n",
       "      dtype='object')"
      ]
     },
     "execution_count": 11,
     "metadata": {},
     "output_type": "execute_result"
    }
   ],
   "source": [
    "df_join.columns"
   ]
  },
  {
   "cell_type": "code",
   "execution_count": 12,
   "metadata": {},
   "outputs": [
    {
     "data": {
      "text/plain": [
       "date                    datetime64[ns]\n",
       "air_temperature                float64\n",
       "water_temperature              float64\n",
       "wind_gust_max_10min            float64\n",
       "wind_speed_avg_10min           float64\n",
       "                             ...      \n",
       "Hour_19.0                         bool\n",
       "Hour_20.0                         bool\n",
       "Hour_21.0                         bool\n",
       "Hour_22.0                         bool\n",
       "Hour_23.0                         bool\n",
       "Length: 77, dtype: object"
      ]
     },
     "execution_count": 12,
     "metadata": {},
     "output_type": "execute_result"
    }
   ],
   "source": [
    "df_join.dtypes"
   ]
  },
  {
   "cell_type": "markdown",
   "metadata": {},
   "source": [
    "#### Convert boolean types from True/False to 1/0:"
   ]
  },
  {
   "cell_type": "code",
   "execution_count": 13,
   "metadata": {},
   "outputs": [],
   "source": [
    "bool_cols = list(df_join.select_dtypes(include=['bool']).columns)\n",
    "df_join[bool_cols] = 1*df_join[bool_cols]"
   ]
  },
  {
   "cell_type": "code",
   "execution_count": 14,
   "metadata": {},
   "outputs": [
    {
     "data": {
      "text/html": [
       "<div>\n",
       "<style scoped>\n",
       "    .dataframe tbody tr th:only-of-type {\n",
       "        vertical-align: middle;\n",
       "    }\n",
       "\n",
       "    .dataframe tbody tr th {\n",
       "        vertical-align: top;\n",
       "    }\n",
       "\n",
       "    .dataframe thead th {\n",
       "        text-align: right;\n",
       "    }\n",
       "</style>\n",
       "<table border=\"1\" class=\"dataframe\">\n",
       "  <thead>\n",
       "    <tr style=\"text-align: right;\">\n",
       "      <th></th>\n",
       "      <th>date</th>\n",
       "      <th>air_temperature</th>\n",
       "      <th>water_temperature</th>\n",
       "      <th>wind_gust_max_10min</th>\n",
       "      <th>wind_speed_avg_10min</th>\n",
       "      <th>wind_force_avg_10min</th>\n",
       "      <th>wind_direction</th>\n",
       "      <th>windchill</th>\n",
       "      <th>barometric_pressure_qfe</th>\n",
       "      <th>precipitation</th>\n",
       "      <th>...</th>\n",
       "      <th>Hour_15.0</th>\n",
       "      <th>Hour_16.0</th>\n",
       "      <th>Hour_17.0</th>\n",
       "      <th>Hour_18.0</th>\n",
       "      <th>Hour_19.0</th>\n",
       "      <th>Hour_20.0</th>\n",
       "      <th>Hour_21.0</th>\n",
       "      <th>Hour_22.0</th>\n",
       "      <th>Hour_23.0</th>\n",
       "      <th>Accident</th>\n",
       "    </tr>\n",
       "  </thead>\n",
       "  <tbody>\n",
       "    <tr>\n",
       "      <th>0</th>\n",
       "      <td>2011-01-01 00:30:00</td>\n",
       "      <td>2.233333</td>\n",
       "      <td>5.20</td>\n",
       "      <td>2.4</td>\n",
       "      <td>1.216667</td>\n",
       "      <td>1.216667</td>\n",
       "      <td>1785</td>\n",
       "      <td>2.20</td>\n",
       "      <td>974.55</td>\n",
       "      <td>0.0</td>\n",
       "      <td>...</td>\n",
       "      <td>0</td>\n",
       "      <td>0</td>\n",
       "      <td>0</td>\n",
       "      <td>0</td>\n",
       "      <td>0</td>\n",
       "      <td>0</td>\n",
       "      <td>0</td>\n",
       "      <td>0</td>\n",
       "      <td>0</td>\n",
       "      <td>1</td>\n",
       "    </tr>\n",
       "    <tr>\n",
       "      <th>1</th>\n",
       "      <td>2011-01-01 01:30:00</td>\n",
       "      <td>2.380000</td>\n",
       "      <td>5.20</td>\n",
       "      <td>2.8</td>\n",
       "      <td>0.860000</td>\n",
       "      <td>0.860000</td>\n",
       "      <td>1076</td>\n",
       "      <td>2.16</td>\n",
       "      <td>973.98</td>\n",
       "      <td>0.0</td>\n",
       "      <td>...</td>\n",
       "      <td>0</td>\n",
       "      <td>0</td>\n",
       "      <td>0</td>\n",
       "      <td>0</td>\n",
       "      <td>0</td>\n",
       "      <td>0</td>\n",
       "      <td>0</td>\n",
       "      <td>0</td>\n",
       "      <td>0</td>\n",
       "      <td>1</td>\n",
       "    </tr>\n",
       "    <tr>\n",
       "      <th>2</th>\n",
       "      <td>2011-01-01 02:30:00</td>\n",
       "      <td>2.580000</td>\n",
       "      <td>5.14</td>\n",
       "      <td>1.2</td>\n",
       "      <td>0.340000</td>\n",
       "      <td>0.340000</td>\n",
       "      <td>1159</td>\n",
       "      <td>2.58</td>\n",
       "      <td>973.64</td>\n",
       "      <td>0.0</td>\n",
       "      <td>...</td>\n",
       "      <td>0</td>\n",
       "      <td>0</td>\n",
       "      <td>0</td>\n",
       "      <td>0</td>\n",
       "      <td>0</td>\n",
       "      <td>0</td>\n",
       "      <td>0</td>\n",
       "      <td>0</td>\n",
       "      <td>0</td>\n",
       "      <td>1</td>\n",
       "    </tr>\n",
       "    <tr>\n",
       "      <th>3</th>\n",
       "      <td>2011-01-01 02:30:00</td>\n",
       "      <td>2.580000</td>\n",
       "      <td>5.14</td>\n",
       "      <td>1.2</td>\n",
       "      <td>0.340000</td>\n",
       "      <td>0.340000</td>\n",
       "      <td>1159</td>\n",
       "      <td>2.58</td>\n",
       "      <td>973.64</td>\n",
       "      <td>0.0</td>\n",
       "      <td>...</td>\n",
       "      <td>0</td>\n",
       "      <td>0</td>\n",
       "      <td>0</td>\n",
       "      <td>0</td>\n",
       "      <td>0</td>\n",
       "      <td>0</td>\n",
       "      <td>0</td>\n",
       "      <td>0</td>\n",
       "      <td>0</td>\n",
       "      <td>1</td>\n",
       "    </tr>\n",
       "    <tr>\n",
       "      <th>4</th>\n",
       "      <td>2011-01-01 03:30:00</td>\n",
       "      <td>2.500000</td>\n",
       "      <td>5.16</td>\n",
       "      <td>1.9</td>\n",
       "      <td>0.520000</td>\n",
       "      <td>0.520000</td>\n",
       "      <td>1122</td>\n",
       "      <td>2.54</td>\n",
       "      <td>973.42</td>\n",
       "      <td>0.0</td>\n",
       "      <td>...</td>\n",
       "      <td>0</td>\n",
       "      <td>0</td>\n",
       "      <td>0</td>\n",
       "      <td>0</td>\n",
       "      <td>0</td>\n",
       "      <td>0</td>\n",
       "      <td>0</td>\n",
       "      <td>0</td>\n",
       "      <td>0</td>\n",
       "      <td>1</td>\n",
       "    </tr>\n",
       "  </tbody>\n",
       "</table>\n",
       "<p>5 rows × 78 columns</p>\n",
       "</div>"
      ],
      "text/plain": [
       "                 date  air_temperature  water_temperature  \\\n",
       "0 2011-01-01 00:30:00         2.233333               5.20   \n",
       "1 2011-01-01 01:30:00         2.380000               5.20   \n",
       "2 2011-01-01 02:30:00         2.580000               5.14   \n",
       "3 2011-01-01 02:30:00         2.580000               5.14   \n",
       "4 2011-01-01 03:30:00         2.500000               5.16   \n",
       "\n",
       "   wind_gust_max_10min  wind_speed_avg_10min  wind_force_avg_10min  \\\n",
       "0                  2.4              1.216667              1.216667   \n",
       "1                  2.8              0.860000              0.860000   \n",
       "2                  1.2              0.340000              0.340000   \n",
       "3                  1.2              0.340000              0.340000   \n",
       "4                  1.9              0.520000              0.520000   \n",
       "\n",
       "   wind_direction  windchill  barometric_pressure_qfe  precipitation  ...  \\\n",
       "0            1785       2.20                   974.55            0.0  ...   \n",
       "1            1076       2.16                   973.98            0.0  ...   \n",
       "2            1159       2.58                   973.64            0.0  ...   \n",
       "3            1159       2.58                   973.64            0.0  ...   \n",
       "4            1122       2.54                   973.42            0.0  ...   \n",
       "\n",
       "   Hour_15.0  Hour_16.0  Hour_17.0  Hour_18.0  Hour_19.0  Hour_20.0  \\\n",
       "0          0          0          0          0          0          0   \n",
       "1          0          0          0          0          0          0   \n",
       "2          0          0          0          0          0          0   \n",
       "3          0          0          0          0          0          0   \n",
       "4          0          0          0          0          0          0   \n",
       "\n",
       "   Hour_21.0  Hour_22.0  Hour_23.0  Accident  \n",
       "0          0          0          0         1  \n",
       "1          0          0          0         1  \n",
       "2          0          0          0         1  \n",
       "3          0          0          0         1  \n",
       "4          0          0          0         1  \n",
       "\n",
       "[5 rows x 78 columns]"
      ]
     },
     "execution_count": 14,
     "metadata": {},
     "output_type": "execute_result"
    }
   ],
   "source": [
    "df_join['Accident'] = np.where(df_join.isnull().any(axis = 1), 0, 1)\n",
    "df_join.head()"
   ]
  },
  {
   "cell_type": "markdown",
   "metadata": {},
   "source": [
    "**Notes**: \n",
    "<br> \n",
    "For neural network we need to normalize the input data while this is not necessary for Random Forest (*also not necessary to one one hot encode the data*)\n",
    "<br>\n",
    "Therefore, it would make sense to have different datasets regarding the model type.\n"
   ]
  },
  {
   "cell_type": "code",
   "execution_count": 28,
   "metadata": {},
   "outputs": [],
   "source": [
    "unnecessary_cols = [df_join[column].name for column in df_join if df_join[column].name.startswith('Accident') and df_join[column].name != 'Accident']\n",
    "unnecessary_cols.extend([df_join[column].name for column in df_join if df_join[column].name.startswith('RoadType')])\n",
    "df_join = df_join.drop(unnecessary_cols, axis = 1)"
   ]
  },
  {
   "cell_type": "code",
   "execution_count": 29,
   "metadata": {},
   "outputs": [
    {
     "data": {
      "text/plain": [
       "Index(['date', 'air_temperature', 'water_temperature', 'wind_gust_max_10min',\n",
       "       'wind_speed_avg_10min', 'wind_force_avg_10min', 'wind_direction',\n",
       "       'windchill', 'barometric_pressure_qfe', 'precipitation', 'dew_point',\n",
       "       'global_radiation', 'humidity', 'water_level', 'WeekDay_Monday',\n",
       "       'WeekDay_Saturday', 'WeekDay_Sunday', 'WeekDay_Thursday',\n",
       "       'WeekDay_Tuesday', 'WeekDay_Wednesday', 'Month_2.0', 'Month_3.0',\n",
       "       'Month_4.0', 'Month_5.0', 'Month_6.0', 'Month_7.0', 'Month_8.0',\n",
       "       'Month_9.0', 'Month_10.0', 'Month_11.0', 'Month_12.0', 'Hour_1.0',\n",
       "       'Hour_2.0', 'Hour_3.0', 'Hour_4.0', 'Hour_5.0', 'Hour_6.0', 'Hour_7.0',\n",
       "       'Hour_8.0', 'Hour_9.0', 'Hour_10.0', 'Hour_11.0', 'Hour_12.0',\n",
       "       'Hour_13.0', 'Hour_14.0', 'Hour_15.0', 'Hour_16.0', 'Hour_17.0',\n",
       "       'Hour_18.0', 'Hour_19.0', 'Hour_20.0', 'Hour_21.0', 'Hour_22.0',\n",
       "       'Hour_23.0', 'Accident'],\n",
       "      dtype='object')"
      ]
     },
     "execution_count": 29,
     "metadata": {},
     "output_type": "execute_result"
    }
   ],
   "source": [
    "df_join.columns"
   ]
  },
  {
   "cell_type": "code",
   "execution_count": 30,
   "metadata": {},
   "outputs": [],
   "source": [
    "df_join.to_csv('datasets\\\\dataset.csv')"
   ]
  },
  {
   "cell_type": "markdown",
   "metadata": {},
   "source": [
    "#### Trying out if neural network works"
   ]
  },
  {
   "cell_type": "code",
   "execution_count": 47,
   "metadata": {},
   "outputs": [],
   "source": [
    "from sklearn.preprocessing import OneHotEncoder, StandardScaler, MinMaxScaler\n",
    "from sklearn.model_selection import train_test_split\n",
    "from sklearn.model_selection import StratifiedKFold, KFold\n",
    "import keras\n",
    "import tensorflow\n",
    "import matplotlib.pyplot as plt\n",
    "from keras.models import Sequential\n",
    "from keras.layers import Dense\n",
    "from keras.optimizers import SGD"
   ]
  },
  {
   "cell_type": "code",
   "execution_count": 44,
   "metadata": {},
   "outputs": [],
   "source": [
    "Y = np.array(df_join['Accident'])\n",
    "X = np.array(df_join.drop(['Accident', 'date'], 1))\n",
    "X_train_80, X_test_20, y_train_80, y_test_20 = train_test_split(X, Y, test_size=0.2, random_state=2)\n",
    "scaler = MinMaxScaler()\n",
    "scaler.fit(X_train_80)\n",
    "X_train_80 = scaler.transform(X_train_80)\n",
    "X_test_20 = scaler.transform(X_test_20)\n",
    "\n",
    "#training and evaluating neural network\n",
    "NeuralNet = Sequential([\n",
    "        Dense(16, input_dim= X_train_80.shape[1], activation='sigmoid'),\n",
    "        Dense(4, activation = 'sigmoid'),\n",
    "        Dense(1, activation='sigmoid'),\n",
    "])\n",
    "NeuralNet.compile(loss ='MSE', optimizer ='adam', metrics = ['accuracy'])\n",
    "historyNet = NeuralNet.fit(X_train_80, y_train_80, validation_split = 0.2, epochs=100, batch_size=64, \n",
    "                              shuffle = False, verbose = 1)\n",
    "scores = NeuralNet.evaluate(X_test_20, y_test_20, verbose=1)\n",
    "print(\"%s: %.2f%%\" % (NeuralNet.metrics_names[1], scores[1]*100))\n",
    "plt.plot(historyNet.history['loss'])\n",
    "plt.plot(historyNet.history['val_loss'])\n",
    "plt.title('Model loss')\n",
    "plt.ylabel('loss')\n",
    "plt.xlabel('epoch')\n",
    "plt.legend(['train', 'test'], loc='upper right')\n",
    "plt.show()"
   ]
  },
  {
   "cell_type": "code",
   "execution_count": null,
   "metadata": {},
   "outputs": [],
   "source": []
  }
 ],
 "metadata": {
  "kernelspec": {
   "display_name": "Python 3",
   "language": "python",
   "name": "python3"
  },
  "language_info": {
   "codemirror_mode": {
    "name": "ipython",
    "version": 3
   },
   "file_extension": ".py",
   "mimetype": "text/x-python",
   "name": "python",
   "nbconvert_exporter": "python",
   "pygments_lexer": "ipython3",
   "version": "3.8.5"
  }
 },
 "nbformat": 4,
 "nbformat_minor": 4
}
