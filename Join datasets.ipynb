{
 "cells": [
  {
   "cell_type": "markdown",
   "metadata": {},
   "source": [
    "# Join the two datasets"
   ]
  },
  {
   "cell_type": "code",
   "execution_count": 1,
   "metadata": {},
   "outputs": [],
   "source": [
    "import pandas as pd\n",
    "import numpy as np\n",
    "from datetime import datetime\n",
    "import os"
   ]
  },
  {
   "cell_type": "markdown",
   "metadata": {},
   "source": [
    "#### Load datasets:"
   ]
  },
  {
   "cell_type": "code",
   "execution_count": 2,
   "metadata": {},
   "outputs": [],
   "source": [
    "df_hourly_weather = pd.read_pickle('datasets/hourly_weather.pkl')\n",
    "df_accidents = pd.read_pickle(\"datasets/accidents.pkl\")"
   ]
  },
  {
   "cell_type": "markdown",
   "metadata": {},
   "source": [
    "**Check NaN again:**"
   ]
  },
  {
   "cell_type": "code",
   "execution_count": 3,
   "metadata": {},
   "outputs": [
    {
     "data": {
      "text/plain": [
       "(array([], dtype=int64), Index([], dtype='object'))"
      ]
     },
     "execution_count": 3,
     "metadata": {},
     "output_type": "execute_result"
    }
   ],
   "source": [
    "idx, idy = np.where(pd.isnull(df_accidents))\n",
    "idx, df_accidents.columns[idy]"
   ]
  },
  {
   "cell_type": "markdown",
   "metadata": {},
   "source": [
    "**Compare dims of the datasets:**"
   ]
  },
  {
   "cell_type": "code",
   "execution_count": 4,
   "metadata": {},
   "outputs": [
    {
     "data": {
      "text/plain": [
       "(78707, 14)"
      ]
     },
     "execution_count": 4,
     "metadata": {},
     "output_type": "execute_result"
    }
   ],
   "source": [
    "df_hourly_weather.shape"
   ]
  },
  {
   "cell_type": "code",
   "execution_count": 5,
   "metadata": {},
   "outputs": [
    {
     "data": {
      "text/plain": [
       "(42726, 13)"
      ]
     },
     "execution_count": 5,
     "metadata": {},
     "output_type": "execute_result"
    }
   ],
   "source": [
    "df_accidents.shape"
   ]
  },
  {
   "cell_type": "markdown",
   "metadata": {},
   "source": [
    "**Check which columns are in the dfs:**"
   ]
  },
  {
   "cell_type": "code",
   "execution_count": 6,
   "metadata": {},
   "outputs": [
    {
     "name": "stdout",
     "output_type": "stream",
     "text": [
      "Weather dataset: ['date', 'air_temperature', 'water_temperature', 'wind_gust_max_10min', 'wind_speed_avg_10min', 'wind_force_avg_10min', 'wind_direction', 'windchill', 'barometric_pressure_qfe', 'precipitation', 'dew_point', 'global_radiation', 'humidity', 'water_level']\n",
      " \n",
      "Accidents dataset: ['date', 'AccidentType', 'AccidentSeverityCategory', 'AccidentInvolvingPedestrian', 'AccidentInvolvingBicycle', 'AccidentInvolvingMotorcycle', 'RoadType', 'AccidentLocation_CHLV95_E', 'AccidentLocation_CHLV95_N', 'Year', 'Month', 'WeekDay', 'Hour']\n"
     ]
    }
   ],
   "source": [
    "print('Weather dataset:', list(df_hourly_weather.columns))\n",
    "print(' ')\n",
    "print('Accidents dataset:', list(df_accidents.columns))"
   ]
  },
  {
   "cell_type": "markdown",
   "metadata": {},
   "source": [
    "**Notes**\n",
    "<br>\n",
    "***Neural Network***:\n",
    "<br> \n",
    "Need to one hot encode object inputs (*normalization will be done when splitting data into train and test*).\n",
    "<br>\n",
    "***Random Forest***:\n",
    "<br>\n",
    "Only one hot encoding is necessary.\n",
    "<br><br>\n",
    "**A: Prediction for accident yes/no**:\n",
    "<br>\n",
    "Join accident data on weather data.\n",
    "<br>\n",
    "Use only weather data to predict whether an accident happens or not.\n",
    "<br><br>\n",
    "**B: Prediction for multi-level**:\n",
    "<br>\n",
    "Join accident data on weather data.\n",
    "<br> \n",
    "Could predict the probability of a given type of accident (AccidentSeverity and AccidentType) based on weather data (maybe add location)\n"
   ]
  },
  {
   "cell_type": "markdown",
   "metadata": {},
   "source": [
    "### A: Merge and fill nans of date columns:"
   ]
  },
  {
   "cell_type": "code",
   "execution_count": 7,
   "metadata": {},
   "outputs": [
    {
     "data": {
      "text/plain": [
       "(92081, 26)"
      ]
     },
     "execution_count": 7,
     "metadata": {},
     "output_type": "execute_result"
    }
   ],
   "source": [
    "df_join = pd.merge(df_hourly_weather, df_accidents, on='date', how='left')\n",
    "df_join.shape"
   ]
  },
  {
   "cell_type": "code",
   "execution_count": 8,
   "metadata": {},
   "outputs": [
    {
     "data": {
      "text/plain": [
       "date                           False\n",
       "air_temperature                False\n",
       "water_temperature              False\n",
       "wind_gust_max_10min            False\n",
       "wind_speed_avg_10min           False\n",
       "wind_force_avg_10min           False\n",
       "wind_direction                 False\n",
       "windchill                      False\n",
       "barometric_pressure_qfe        False\n",
       "precipitation                  False\n",
       "dew_point                      False\n",
       "global_radiation               False\n",
       "humidity                       False\n",
       "water_level                    False\n",
       "AccidentType                    True\n",
       "AccidentSeverityCategory        True\n",
       "AccidentInvolvingPedestrian     True\n",
       "AccidentInvolvingBicycle        True\n",
       "AccidentInvolvingMotorcycle     True\n",
       "RoadType                        True\n",
       "AccidentLocation_CHLV95_E       True\n",
       "AccidentLocation_CHLV95_N       True\n",
       "Year                            True\n",
       "Month                           True\n",
       "WeekDay                         True\n",
       "Hour                            True\n",
       "dtype: bool"
      ]
     },
     "execution_count": 8,
     "metadata": {},
     "output_type": "execute_result"
    }
   ],
   "source": [
    "df_join.isnull().any()"
   ]
  },
  {
   "cell_type": "code",
   "execution_count": 9,
   "metadata": {},
   "outputs": [
    {
     "data": {
      "text/plain": [
       "date                           datetime64[ns]\n",
       "air_temperature                       float64\n",
       "water_temperature                     float64\n",
       "wind_gust_max_10min                   float64\n",
       "wind_speed_avg_10min                  float64\n",
       "wind_force_avg_10min                  float64\n",
       "wind_direction                         object\n",
       "windchill                             float64\n",
       "barometric_pressure_qfe               float64\n",
       "precipitation                         float64\n",
       "dew_point                             float64\n",
       "global_radiation                      float64\n",
       "humidity                              float64\n",
       "water_level                           float64\n",
       "AccidentType                           object\n",
       "AccidentSeverityCategory               object\n",
       "AccidentInvolvingPedestrian           float64\n",
       "AccidentInvolvingBicycle              float64\n",
       "AccidentInvolvingMotorcycle           float64\n",
       "RoadType                               object\n",
       "AccidentLocation_CHLV95_E             float64\n",
       "AccidentLocation_CHLV95_N             float64\n",
       "Year                                  float64\n",
       "Month                                 float64\n",
       "WeekDay                                object\n",
       "Hour                                  float64\n",
       "dtype: object"
      ]
     },
     "execution_count": 9,
     "metadata": {},
     "output_type": "execute_result"
    }
   ],
   "source": [
    "df_join.dtypes"
   ]
  },
  {
   "cell_type": "markdown",
   "metadata": {},
   "source": [
    "- Fill Month, WeekDay and Hour for weather data:"
   ]
  },
  {
   "cell_type": "code",
   "execution_count": 10,
   "metadata": {},
   "outputs": [
    {
     "data": {
      "text/html": [
       "<div>\n",
       "<style scoped>\n",
       "    .dataframe tbody tr th:only-of-type {\n",
       "        vertical-align: middle;\n",
       "    }\n",
       "\n",
       "    .dataframe tbody tr th {\n",
       "        vertical-align: top;\n",
       "    }\n",
       "\n",
       "    .dataframe thead th {\n",
       "        text-align: right;\n",
       "    }\n",
       "</style>\n",
       "<table border=\"1\" class=\"dataframe\">\n",
       "  <thead>\n",
       "    <tr style=\"text-align: right;\">\n",
       "      <th></th>\n",
       "      <th>date</th>\n",
       "      <th>air_temperature</th>\n",
       "      <th>water_temperature</th>\n",
       "      <th>wind_gust_max_10min</th>\n",
       "      <th>wind_speed_avg_10min</th>\n",
       "      <th>wind_force_avg_10min</th>\n",
       "      <th>wind_direction</th>\n",
       "      <th>windchill</th>\n",
       "      <th>barometric_pressure_qfe</th>\n",
       "      <th>precipitation</th>\n",
       "      <th>...</th>\n",
       "      <th>AccidentInvolvingPedestrian</th>\n",
       "      <th>AccidentInvolvingBicycle</th>\n",
       "      <th>AccidentInvolvingMotorcycle</th>\n",
       "      <th>RoadType</th>\n",
       "      <th>AccidentLocation_CHLV95_E</th>\n",
       "      <th>AccidentLocation_CHLV95_N</th>\n",
       "      <th>Year</th>\n",
       "      <th>Month</th>\n",
       "      <th>WeekDay</th>\n",
       "      <th>Hour</th>\n",
       "    </tr>\n",
       "  </thead>\n",
       "  <tbody>\n",
       "    <tr>\n",
       "      <th>92076</th>\n",
       "      <td>2019-12-31 18:30:00</td>\n",
       "      <td>1.56</td>\n",
       "      <td>6.80</td>\n",
       "      <td>2.3</td>\n",
       "      <td>1.24</td>\n",
       "      <td>1.0</td>\n",
       "      <td>734</td>\n",
       "      <td>1.54</td>\n",
       "      <td>984.54</td>\n",
       "      <td>0.0</td>\n",
       "      <td>...</td>\n",
       "      <td>0.0</td>\n",
       "      <td>0.0</td>\n",
       "      <td>0.0</td>\n",
       "      <td>rt432</td>\n",
       "      <td>2682276.0</td>\n",
       "      <td>1247052.0</td>\n",
       "      <td>2019.0</td>\n",
       "      <td>12.0</td>\n",
       "      <td>Tuesday</td>\n",
       "      <td>18.0</td>\n",
       "    </tr>\n",
       "    <tr>\n",
       "      <th>92077</th>\n",
       "      <td>2019-12-31 19:30:00</td>\n",
       "      <td>1.34</td>\n",
       "      <td>6.80</td>\n",
       "      <td>2.6</td>\n",
       "      <td>1.44</td>\n",
       "      <td>1.2</td>\n",
       "      <td>963</td>\n",
       "      <td>1.18</td>\n",
       "      <td>984.62</td>\n",
       "      <td>0.0</td>\n",
       "      <td>...</td>\n",
       "      <td>0.0</td>\n",
       "      <td>0.0</td>\n",
       "      <td>0.0</td>\n",
       "      <td>rt433</td>\n",
       "      <td>2683004.0</td>\n",
       "      <td>1247184.0</td>\n",
       "      <td>2019.0</td>\n",
       "      <td>12.0</td>\n",
       "      <td>Tuesday</td>\n",
       "      <td>19.0</td>\n",
       "    </tr>\n",
       "    <tr>\n",
       "      <th>92078</th>\n",
       "      <td>2019-12-31 20:30:00</td>\n",
       "      <td>1.04</td>\n",
       "      <td>6.80</td>\n",
       "      <td>2.8</td>\n",
       "      <td>1.66</td>\n",
       "      <td>1.8</td>\n",
       "      <td>699</td>\n",
       "      <td>0.78</td>\n",
       "      <td>984.76</td>\n",
       "      <td>0.0</td>\n",
       "      <td>...</td>\n",
       "      <td>NaN</td>\n",
       "      <td>NaN</td>\n",
       "      <td>NaN</td>\n",
       "      <td>NaN</td>\n",
       "      <td>NaN</td>\n",
       "      <td>NaN</td>\n",
       "      <td>NaN</td>\n",
       "      <td>12.0</td>\n",
       "      <td>Tuesday</td>\n",
       "      <td>20.0</td>\n",
       "    </tr>\n",
       "    <tr>\n",
       "      <th>92079</th>\n",
       "      <td>2019-12-31 21:30:00</td>\n",
       "      <td>1.06</td>\n",
       "      <td>6.76</td>\n",
       "      <td>2.5</td>\n",
       "      <td>1.36</td>\n",
       "      <td>1.2</td>\n",
       "      <td>729</td>\n",
       "      <td>1.00</td>\n",
       "      <td>984.84</td>\n",
       "      <td>0.0</td>\n",
       "      <td>...</td>\n",
       "      <td>NaN</td>\n",
       "      <td>NaN</td>\n",
       "      <td>NaN</td>\n",
       "      <td>NaN</td>\n",
       "      <td>NaN</td>\n",
       "      <td>NaN</td>\n",
       "      <td>NaN</td>\n",
       "      <td>12.0</td>\n",
       "      <td>Tuesday</td>\n",
       "      <td>21.0</td>\n",
       "    </tr>\n",
       "    <tr>\n",
       "      <th>92080</th>\n",
       "      <td>2019-12-31 22:30:00</td>\n",
       "      <td>0.48</td>\n",
       "      <td>6.70</td>\n",
       "      <td>4.6</td>\n",
       "      <td>3.12</td>\n",
       "      <td>2.2</td>\n",
       "      <td>293</td>\n",
       "      <td>-3.60</td>\n",
       "      <td>985.02</td>\n",
       "      <td>0.0</td>\n",
       "      <td>...</td>\n",
       "      <td>NaN</td>\n",
       "      <td>NaN</td>\n",
       "      <td>NaN</td>\n",
       "      <td>NaN</td>\n",
       "      <td>NaN</td>\n",
       "      <td>NaN</td>\n",
       "      <td>NaN</td>\n",
       "      <td>12.0</td>\n",
       "      <td>Tuesday</td>\n",
       "      <td>22.0</td>\n",
       "    </tr>\n",
       "  </tbody>\n",
       "</table>\n",
       "<p>5 rows × 26 columns</p>\n",
       "</div>"
      ],
      "text/plain": [
       "                     date  air_temperature  water_temperature  \\\n",
       "92076 2019-12-31 18:30:00             1.56               6.80   \n",
       "92077 2019-12-31 19:30:00             1.34               6.80   \n",
       "92078 2019-12-31 20:30:00             1.04               6.80   \n",
       "92079 2019-12-31 21:30:00             1.06               6.76   \n",
       "92080 2019-12-31 22:30:00             0.48               6.70   \n",
       "\n",
       "       wind_gust_max_10min  wind_speed_avg_10min  wind_force_avg_10min  \\\n",
       "92076                  2.3                  1.24                   1.0   \n",
       "92077                  2.6                  1.44                   1.2   \n",
       "92078                  2.8                  1.66                   1.8   \n",
       "92079                  2.5                  1.36                   1.2   \n",
       "92080                  4.6                  3.12                   2.2   \n",
       "\n",
       "      wind_direction  windchill  barometric_pressure_qfe  precipitation  ...  \\\n",
       "92076            734       1.54                   984.54            0.0  ...   \n",
       "92077            963       1.18                   984.62            0.0  ...   \n",
       "92078            699       0.78                   984.76            0.0  ...   \n",
       "92079            729       1.00                   984.84            0.0  ...   \n",
       "92080            293      -3.60                   985.02            0.0  ...   \n",
       "\n",
       "       AccidentInvolvingPedestrian  AccidentInvolvingBicycle  \\\n",
       "92076                          0.0                       0.0   \n",
       "92077                          0.0                       0.0   \n",
       "92078                          NaN                       NaN   \n",
       "92079                          NaN                       NaN   \n",
       "92080                          NaN                       NaN   \n",
       "\n",
       "       AccidentInvolvingMotorcycle  RoadType AccidentLocation_CHLV95_E  \\\n",
       "92076                          0.0     rt432                 2682276.0   \n",
       "92077                          0.0     rt433                 2683004.0   \n",
       "92078                          NaN       NaN                       NaN   \n",
       "92079                          NaN       NaN                       NaN   \n",
       "92080                          NaN       NaN                       NaN   \n",
       "\n",
       "      AccidentLocation_CHLV95_N    Year  Month  WeekDay  Hour  \n",
       "92076                 1247052.0  2019.0   12.0  Tuesday  18.0  \n",
       "92077                 1247184.0  2019.0   12.0  Tuesday  19.0  \n",
       "92078                       NaN     NaN   12.0  Tuesday  20.0  \n",
       "92079                       NaN     NaN   12.0  Tuesday  21.0  \n",
       "92080                       NaN     NaN   12.0  Tuesday  22.0  \n",
       "\n",
       "[5 rows x 26 columns]"
      ]
     },
     "execution_count": 10,
     "metadata": {},
     "output_type": "execute_result"
    }
   ],
   "source": [
    "df_join['Month'].fillna(df_join['date'].dt.month, inplace = True)\n",
    "df_join['WeekDay'].fillna(df_join['date'].dt.day_name(), inplace = True)\n",
    "df_join['Hour'].fillna(df_join['date'].dt.hour, inplace = True)\n",
    "df_join.tail()"
   ]
  },
  {
   "cell_type": "markdown",
   "metadata": {},
   "source": [
    "- Convert wind direction from type *object* to type *int*:"
   ]
  },
  {
   "cell_type": "code",
   "execution_count": 11,
   "metadata": {},
   "outputs": [],
   "source": [
    "df_join['wind_direction'] = [int(i) for i in df_join['wind_direction']]   "
   ]
  },
  {
   "cell_type": "markdown",
   "metadata": {},
   "source": [
    "- Add dummy for whether an accident happened:"
   ]
  },
  {
   "cell_type": "code",
   "execution_count": 12,
   "metadata": {},
   "outputs": [
    {
     "data": {
      "text/plain": [
       "date                           datetime64[ns]\n",
       "air_temperature                       float64\n",
       "water_temperature                     float64\n",
       "wind_gust_max_10min                   float64\n",
       "wind_speed_avg_10min                  float64\n",
       "wind_force_avg_10min                  float64\n",
       "wind_direction                          int64\n",
       "windchill                             float64\n",
       "barometric_pressure_qfe               float64\n",
       "precipitation                         float64\n",
       "dew_point                             float64\n",
       "global_radiation                      float64\n",
       "humidity                              float64\n",
       "water_level                           float64\n",
       "AccidentType                           object\n",
       "AccidentSeverityCategory               object\n",
       "AccidentInvolvingPedestrian           float64\n",
       "AccidentInvolvingBicycle              float64\n",
       "AccidentInvolvingMotorcycle           float64\n",
       "RoadType                               object\n",
       "AccidentLocation_CHLV95_E             float64\n",
       "AccidentLocation_CHLV95_N             float64\n",
       "Year                                  float64\n",
       "Month                                 float64\n",
       "WeekDay                                object\n",
       "Hour                                  float64\n",
       "dtype: object"
      ]
     },
     "execution_count": 12,
     "metadata": {},
     "output_type": "execute_result"
    }
   ],
   "source": [
    "df_join.dtypes"
   ]
  },
  {
   "cell_type": "code",
   "execution_count": 13,
   "metadata": {},
   "outputs": [],
   "source": [
    "df_join['Accident'] = np.where(df_join.isnull().any(axis = 1), 0, 1)"
   ]
  },
  {
   "cell_type": "markdown",
   "metadata": {},
   "source": [
    "- One Hot Encoding:"
   ]
  },
  {
   "cell_type": "code",
   "execution_count": 14,
   "metadata": {},
   "outputs": [
    {
     "data": {
      "text/plain": [
       "Index(['date', 'air_temperature', 'water_temperature', 'wind_gust_max_10min',\n",
       "       'wind_speed_avg_10min', 'wind_force_avg_10min', 'wind_direction',\n",
       "       'windchill', 'barometric_pressure_qfe', 'precipitation', 'dew_point',\n",
       "       'global_radiation', 'humidity', 'water_level',\n",
       "       'AccidentInvolvingPedestrian', 'AccidentInvolvingBicycle',\n",
       "       'AccidentInvolvingMotorcycle', 'AccidentLocation_CHLV95_E',\n",
       "       'AccidentLocation_CHLV95_N', 'Year', 'Accident', 'AccidentType_at00',\n",
       "       'AccidentType_at1', 'AccidentType_at2', 'AccidentType_at3',\n",
       "       'AccidentType_at4', 'AccidentType_at5', 'AccidentType_at6',\n",
       "       'AccidentType_at7', 'AccidentType_at8', 'AccidentType_at9',\n",
       "       'AccidentSeverityCategory_as2', 'AccidentSeverityCategory_as3',\n",
       "       'AccidentSeverityCategory_as4', 'RoadType_rt431', 'RoadType_rt432',\n",
       "       'RoadType_rt433', 'RoadType_rt434', 'RoadType_rt439', 'WeekDay_Monday',\n",
       "       'WeekDay_Saturday', 'WeekDay_Sunday', 'WeekDay_Thursday',\n",
       "       'WeekDay_Tuesday', 'WeekDay_Wednesday', 'Month_2.0', 'Month_3.0',\n",
       "       'Month_4.0', 'Month_5.0', 'Month_6.0', 'Month_7.0', 'Month_8.0',\n",
       "       'Month_9.0', 'Month_10.0', 'Month_11.0', 'Month_12.0', 'Hour_1.0',\n",
       "       'Hour_2.0', 'Hour_3.0', 'Hour_4.0', 'Hour_5.0', 'Hour_6.0', 'Hour_7.0',\n",
       "       'Hour_8.0', 'Hour_9.0', 'Hour_10.0', 'Hour_11.0', 'Hour_12.0',\n",
       "       'Hour_13.0', 'Hour_14.0', 'Hour_15.0', 'Hour_16.0', 'Hour_17.0',\n",
       "       'Hour_18.0', 'Hour_19.0', 'Hour_20.0', 'Hour_21.0', 'Hour_22.0',\n",
       "       'Hour_23.0'],\n",
       "      dtype='object')"
      ]
     },
     "execution_count": 14,
     "metadata": {},
     "output_type": "execute_result"
    }
   ],
   "source": [
    "categorical_cols = list(df_join.select_dtypes(include=['object']).columns)\n",
    "categorical_cols.extend(['Month', 'Hour']) # these need to be one hot encoded as well\n",
    "df_join = pd.get_dummies(df_join, columns = categorical_cols, dtype= bool, drop_first= True)\n",
    "df_join.columns"
   ]
  },
  {
   "cell_type": "code",
   "execution_count": 15,
   "metadata": {},
   "outputs": [
    {
     "data": {
      "text/plain": [
       "92076    False\n",
       "92077    False\n",
       "92078    False\n",
       "92079    False\n",
       "92080    False\n",
       "Name: AccidentType_at00, dtype: bool"
      ]
     },
     "execution_count": 15,
     "metadata": {},
     "output_type": "execute_result"
    }
   ],
   "source": [
    "df_join['AccidentType_at00'].tail()"
   ]
  },
  {
   "cell_type": "code",
   "execution_count": 16,
   "metadata": {},
   "outputs": [
    {
     "data": {
      "text/plain": [
       "date                    datetime64[ns]\n",
       "air_temperature                float64\n",
       "water_temperature              float64\n",
       "wind_gust_max_10min            float64\n",
       "wind_speed_avg_10min           float64\n",
       "                             ...      \n",
       "Hour_19.0                         bool\n",
       "Hour_20.0                         bool\n",
       "Hour_21.0                         bool\n",
       "Hour_22.0                         bool\n",
       "Hour_23.0                         bool\n",
       "Length: 79, dtype: object"
      ]
     },
     "execution_count": 16,
     "metadata": {},
     "output_type": "execute_result"
    }
   ],
   "source": [
    "df_join.dtypes"
   ]
  },
  {
   "cell_type": "markdown",
   "metadata": {},
   "source": [
    "- Convert boolean types from True/False to 1/0:"
   ]
  },
  {
   "cell_type": "code",
   "execution_count": 17,
   "metadata": {},
   "outputs": [],
   "source": [
    "bool_cols = list(df_join.select_dtypes(include=['bool']).columns)\n",
    "df_join[bool_cols] = 1*df_join[bool_cols]"
   ]
  },
  {
   "cell_type": "markdown",
   "metadata": {},
   "source": [
    "- Remove accident type specific columns:"
   ]
  },
  {
   "cell_type": "code",
   "execution_count": 18,
   "metadata": {},
   "outputs": [],
   "source": [
    "#remove accident type specific columns:\n",
    "acc_spec_cols = [df_join[column].name for column in df_join if df_join[column].name.startswith('AccidentLocation')]\n",
    "acc_spec_cols.extend([df_join[column].name for column in df_join if df_join[column].name.startswith('RoadType')])\n",
    "df_join = df_join.drop(acc_spec_cols, axis = 1)"
   ]
  },
  {
   "cell_type": "code",
   "execution_count": 19,
   "metadata": {},
   "outputs": [
    {
     "data": {
      "text/plain": [
       "(92081, 72)"
      ]
     },
     "execution_count": 19,
     "metadata": {},
     "output_type": "execute_result"
    }
   ],
   "source": [
    "df_join.shape"
   ]
  },
  {
   "cell_type": "code",
   "execution_count": 20,
   "metadata": {},
   "outputs": [
    {
     "data": {
      "text/plain": [
       "Index(['date', 'air_temperature', 'water_temperature', 'wind_gust_max_10min',\n",
       "       'wind_speed_avg_10min', 'wind_force_avg_10min', 'wind_direction',\n",
       "       'windchill', 'barometric_pressure_qfe', 'precipitation', 'dew_point',\n",
       "       'global_radiation', 'humidity', 'water_level',\n",
       "       'AccidentInvolvingPedestrian', 'AccidentInvolvingBicycle',\n",
       "       'AccidentInvolvingMotorcycle', 'Year', 'Accident', 'AccidentType_at00',\n",
       "       'AccidentType_at1', 'AccidentType_at2', 'AccidentType_at3',\n",
       "       'AccidentType_at4', 'AccidentType_at5', 'AccidentType_at6',\n",
       "       'AccidentType_at7', 'AccidentType_at8', 'AccidentType_at9',\n",
       "       'AccidentSeverityCategory_as2', 'AccidentSeverityCategory_as3',\n",
       "       'AccidentSeverityCategory_as4', 'WeekDay_Monday', 'WeekDay_Saturday',\n",
       "       'WeekDay_Sunday', 'WeekDay_Thursday', 'WeekDay_Tuesday',\n",
       "       'WeekDay_Wednesday', 'Month_2.0', 'Month_3.0', 'Month_4.0', 'Month_5.0',\n",
       "       'Month_6.0', 'Month_7.0', 'Month_8.0', 'Month_9.0', 'Month_10.0',\n",
       "       'Month_11.0', 'Month_12.0', 'Hour_1.0', 'Hour_2.0', 'Hour_3.0',\n",
       "       'Hour_4.0', 'Hour_5.0', 'Hour_6.0', 'Hour_7.0', 'Hour_8.0', 'Hour_9.0',\n",
       "       'Hour_10.0', 'Hour_11.0', 'Hour_12.0', 'Hour_13.0', 'Hour_14.0',\n",
       "       'Hour_15.0', 'Hour_16.0', 'Hour_17.0', 'Hour_18.0', 'Hour_19.0',\n",
       "       'Hour_20.0', 'Hour_21.0', 'Hour_22.0', 'Hour_23.0'],\n",
       "      dtype='object')"
      ]
     },
     "execution_count": 20,
     "metadata": {},
     "output_type": "execute_result"
    }
   ],
   "source": [
    "df_join.columns"
   ]
  },
  {
   "cell_type": "code",
   "execution_count": 21,
   "metadata": {},
   "outputs": [
    {
     "data": {
      "text/plain": [
       "False"
      ]
     },
     "execution_count": 21,
     "metadata": {},
     "output_type": "execute_result"
    }
   ],
   "source": [
    "df_join['AccidentType_at00'].isnull().any()"
   ]
  },
  {
   "cell_type": "code",
   "execution_count": 22,
   "metadata": {},
   "outputs": [],
   "source": [
    "df_join.to_csv('C:/Users/anton/dataset.csv')"
   ]
  },
  {
   "cell_type": "markdown",
   "metadata": {},
   "source": [
    "# Preprocessing in OpenRefine"
   ]
  },
  {
   "cell_type": "markdown",
   "metadata": {},
   "source": [
    "The following changes were made in OpenRefine as part of the preprocessing and documented now here in the notebook:\n",
    "- Removed unnecessary columns (3 languages, days, moths, hours, column number, etc.)\n",
    "- Transformed date column ToDate\n",
    "- Removed AccidentUID - Ran Duplicates facet on it --> no duplicates (false 48017)\n",
    "- Removed CantonCode because everything from canton ZH\n",
    "- Removed MuicipalityCode - Always 261\n",
    "- Remove rows after 2019 because weather doesn't have more entries\n",
    "- air_temp to numeric value --> numeric facet --> removed all blank rows\n",
    "- weather values to numeric values"
   ]
  }
 ],
 "metadata": {
  "kernelspec": {
   "display_name": "Python [conda env:bigdata8]",
   "language": "python",
   "name": "conda-env-bigdata8-py"
  },
  "language_info": {
   "codemirror_mode": {
    "name": "ipython",
    "version": 3
   },
   "file_extension": ".py",
   "mimetype": "text/x-python",
   "name": "python",
   "nbconvert_exporter": "python",
   "pygments_lexer": "ipython3",
   "version": "3.8.10"
  }
 },
 "nbformat": 4,
 "nbformat_minor": 4
}
