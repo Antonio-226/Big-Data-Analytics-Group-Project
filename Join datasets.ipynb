{
 "cells": [
  {
   "cell_type": "markdown",
   "metadata": {},
   "source": [
    "# Join the two datasets"
   ]
  },
  {
   "cell_type": "code",
   "execution_count": 1,
   "metadata": {},
   "outputs": [],
   "source": [
    "import pandas as pd\n",
    "import numpy as np\n",
    "from datetime import datetime\n",
    "import os"
   ]
  },
  {
   "cell_type": "markdown",
   "metadata": {},
   "source": [
    "#### Load datasets:"
   ]
  },
  {
   "cell_type": "code",
   "execution_count": 2,
   "metadata": {},
   "outputs": [],
   "source": [
    "df_hourly_weather = pd.read_pickle('datasets/hourly_weather.pkl')\n",
    "df_accidents = pd.read_pickle(\"datasets/accidents.pkl\")"
   ]
  },
  {
   "cell_type": "markdown",
   "metadata": {},
   "source": [
    "**Check NaN again:**"
   ]
  },
  {
   "cell_type": "code",
   "execution_count": 3,
   "metadata": {},
   "outputs": [
    {
     "data": {
      "text/plain": [
       "(array([], dtype=int64), Index([], dtype='object'))"
      ]
     },
     "execution_count": 3,
     "metadata": {},
     "output_type": "execute_result"
    }
   ],
   "source": [
    "idx, idy = np.where(pd.isnull(df_accidents))\n",
    "idx, df_accidents.columns[idy]"
   ]
  },
  {
   "cell_type": "markdown",
   "metadata": {},
   "source": [
    "**Compare dims of the datasets:**"
   ]
  },
  {
   "cell_type": "code",
   "execution_count": 4,
   "metadata": {},
   "outputs": [
    {
     "data": {
      "text/plain": [
       "(78707, 14)"
      ]
     },
     "execution_count": 4,
     "metadata": {},
     "output_type": "execute_result"
    }
   ],
   "source": [
    "df_hourly_weather.shape"
   ]
  },
  {
   "cell_type": "code",
   "execution_count": 5,
   "metadata": {},
   "outputs": [
    {
     "data": {
      "text/plain": [
       "(42726, 12)"
      ]
     },
     "execution_count": 5,
     "metadata": {},
     "output_type": "execute_result"
    }
   ],
   "source": [
    "df_accidents.shape"
   ]
  },
  {
   "cell_type": "markdown",
   "metadata": {},
   "source": [
    "**Check which columns are in the dfs:**"
   ]
  },
  {
   "cell_type": "code",
   "execution_count": 6,
   "metadata": {},
   "outputs": [
    {
     "name": "stdout",
     "output_type": "stream",
     "text": [
      "Weather dataset: ['date', 'air_temperature', 'water_temperature', 'wind_gust_max_10min', 'wind_speed_avg_10min', 'wind_force_avg_10min', 'wind_direction', 'windchill', 'barometric_pressure_qfe', 'precipitation', 'dew_point', 'global_radiation', 'humidity', 'water_level']\n",
      " \n",
      "Accidents dataset: ['date', 'AccidentType', 'AccidentSeverityCategory', 'AccidentInvolvingPedestrian', 'AccidentInvolvingBicycle', 'AccidentInvolvingMotorcycle', 'RoadType', 'AccidentLocation_CHLV95_E', 'AccidentLocation_CHLV95_N', 'Month', 'WeekDay', 'Hour']\n"
     ]
    }
   ],
   "source": [
    "print('Weather dataset:', list(df_hourly_weather.columns))\n",
    "print(' ')\n",
    "print('Accidents dataset:', list(df_accidents.columns))"
   ]
  },
  {
   "cell_type": "markdown",
   "metadata": {},
   "source": [
    "**Notes**\n",
    "<br>\n",
    "***Neural Network***:\n",
    "<br> \n",
    "Need to one hot encode object inputs (*normalization will be done when splitting data into train and test*).\n",
    "<br>\n",
    "***Random Forest***:\n",
    "<br>\n",
    "Only one hot encoding is necessary.\n",
    "<br><br>\n",
    "**A: Prediction for accident yes/no**:\n",
    "<br>\n",
    "Join accident data on weather data.\n",
    "<br>\n",
    "Use only weather data to predict whether an accident happens or not.\n",
    "<br><br>\n",
    "**B: Prediction for multi-level**:\n",
    "<br>\n",
    "Join weather data on accident data.\n",
    "<br> \n",
    "Could predict the probability of a given type of accident (AccidentSeverity and AccidentType) based on weather data (maybe add location)\n"
   ]
  },
  {
   "cell_type": "markdown",
   "metadata": {},
   "source": [
    "### A: Merge and fill nans of date columns:"
   ]
  },
  {
   "cell_type": "code",
   "execution_count": 7,
   "metadata": {},
   "outputs": [
    {
     "data": {
      "text/plain": [
       "(92081, 25)"
      ]
     },
     "execution_count": 7,
     "metadata": {},
     "output_type": "execute_result"
    }
   ],
   "source": [
    "df_join = pd.merge(df_hourly_weather, df_accidents, on='date', how='left')\n",
    "df_join.shape"
   ]
  },
  {
   "cell_type": "code",
   "execution_count": 8,
   "metadata": {},
   "outputs": [
    {
     "data": {
      "text/plain": [
       "date                           False\n",
       "air_temperature                False\n",
       "water_temperature              False\n",
       "wind_gust_max_10min            False\n",
       "wind_speed_avg_10min           False\n",
       "wind_force_avg_10min           False\n",
       "wind_direction                 False\n",
       "windchill                      False\n",
       "barometric_pressure_qfe        False\n",
       "precipitation                  False\n",
       "dew_point                      False\n",
       "global_radiation               False\n",
       "humidity                       False\n",
       "water_level                    False\n",
       "AccidentType                    True\n",
       "AccidentSeverityCategory        True\n",
       "AccidentInvolvingPedestrian     True\n",
       "AccidentInvolvingBicycle        True\n",
       "AccidentInvolvingMotorcycle     True\n",
       "RoadType                        True\n",
       "AccidentLocation_CHLV95_E       True\n",
       "AccidentLocation_CHLV95_N       True\n",
       "Month                           True\n",
       "WeekDay                         True\n",
       "Hour                            True\n",
       "dtype: bool"
      ]
     },
     "execution_count": 8,
     "metadata": {},
     "output_type": "execute_result"
    }
   ],
   "source": [
    "df_join.isnull().any()"
   ]
  },
  {
   "cell_type": "code",
   "execution_count": 9,
   "metadata": {},
   "outputs": [
    {
     "data": {
      "text/plain": [
       "date                           datetime64[ns]\n",
       "air_temperature                       float64\n",
       "water_temperature                     float64\n",
       "wind_gust_max_10min                   float64\n",
       "wind_speed_avg_10min                  float64\n",
       "wind_force_avg_10min                  float64\n",
       "wind_direction                         object\n",
       "windchill                             float64\n",
       "barometric_pressure_qfe               float64\n",
       "precipitation                         float64\n",
       "dew_point                             float64\n",
       "global_radiation                      float64\n",
       "humidity                              float64\n",
       "water_level                           float64\n",
       "AccidentType                           object\n",
       "AccidentSeverityCategory               object\n",
       "AccidentInvolvingPedestrian           float64\n",
       "AccidentInvolvingBicycle              float64\n",
       "AccidentInvolvingMotorcycle           float64\n",
       "RoadType                               object\n",
       "AccidentLocation_CHLV95_E             float64\n",
       "AccidentLocation_CHLV95_N             float64\n",
       "Month                                 float64\n",
       "WeekDay                                object\n",
       "Hour                                  float64\n",
       "dtype: object"
      ]
     },
     "execution_count": 9,
     "metadata": {},
     "output_type": "execute_result"
    }
   ],
   "source": [
    "df_join.dtypes"
   ]
  },
  {
   "cell_type": "markdown",
   "metadata": {},
   "source": [
    "- Fill Month, WeekDay and Hour for weather data:"
   ]
  },
  {
   "cell_type": "code",
   "execution_count": 10,
   "metadata": {},
   "outputs": [
    {
     "data": {
      "text/html": [
       "<div>\n",
       "<style scoped>\n",
       "    .dataframe tbody tr th:only-of-type {\n",
       "        vertical-align: middle;\n",
       "    }\n",
       "\n",
       "    .dataframe tbody tr th {\n",
       "        vertical-align: top;\n",
       "    }\n",
       "\n",
       "    .dataframe thead th {\n",
       "        text-align: right;\n",
       "    }\n",
       "</style>\n",
       "<table border=\"1\" class=\"dataframe\">\n",
       "  <thead>\n",
       "    <tr style=\"text-align: right;\">\n",
       "      <th></th>\n",
       "      <th>date</th>\n",
       "      <th>air_temperature</th>\n",
       "      <th>water_temperature</th>\n",
       "      <th>wind_gust_max_10min</th>\n",
       "      <th>wind_speed_avg_10min</th>\n",
       "      <th>wind_force_avg_10min</th>\n",
       "      <th>wind_direction</th>\n",
       "      <th>windchill</th>\n",
       "      <th>barometric_pressure_qfe</th>\n",
       "      <th>precipitation</th>\n",
       "      <th>...</th>\n",
       "      <th>AccidentSeverityCategory</th>\n",
       "      <th>AccidentInvolvingPedestrian</th>\n",
       "      <th>AccidentInvolvingBicycle</th>\n",
       "      <th>AccidentInvolvingMotorcycle</th>\n",
       "      <th>RoadType</th>\n",
       "      <th>AccidentLocation_CHLV95_E</th>\n",
       "      <th>AccidentLocation_CHLV95_N</th>\n",
       "      <th>Month</th>\n",
       "      <th>WeekDay</th>\n",
       "      <th>Hour</th>\n",
       "    </tr>\n",
       "  </thead>\n",
       "  <tbody>\n",
       "    <tr>\n",
       "      <th>92076</th>\n",
       "      <td>2019-12-31 18:30:00</td>\n",
       "      <td>1.56</td>\n",
       "      <td>6.80</td>\n",
       "      <td>2.3</td>\n",
       "      <td>1.24</td>\n",
       "      <td>1.0</td>\n",
       "      <td>734</td>\n",
       "      <td>1.54</td>\n",
       "      <td>984.54</td>\n",
       "      <td>0.0</td>\n",
       "      <td>...</td>\n",
       "      <td>as4</td>\n",
       "      <td>0.0</td>\n",
       "      <td>0.0</td>\n",
       "      <td>0.0</td>\n",
       "      <td>rt432</td>\n",
       "      <td>2682276.0</td>\n",
       "      <td>1247052.0</td>\n",
       "      <td>12.0</td>\n",
       "      <td>Tuesday</td>\n",
       "      <td>18.0</td>\n",
       "    </tr>\n",
       "    <tr>\n",
       "      <th>92077</th>\n",
       "      <td>2019-12-31 19:30:00</td>\n",
       "      <td>1.34</td>\n",
       "      <td>6.80</td>\n",
       "      <td>2.6</td>\n",
       "      <td>1.44</td>\n",
       "      <td>1.2</td>\n",
       "      <td>963</td>\n",
       "      <td>1.18</td>\n",
       "      <td>984.62</td>\n",
       "      <td>0.0</td>\n",
       "      <td>...</td>\n",
       "      <td>as4</td>\n",
       "      <td>0.0</td>\n",
       "      <td>0.0</td>\n",
       "      <td>0.0</td>\n",
       "      <td>rt433</td>\n",
       "      <td>2683004.0</td>\n",
       "      <td>1247184.0</td>\n",
       "      <td>12.0</td>\n",
       "      <td>Tuesday</td>\n",
       "      <td>19.0</td>\n",
       "    </tr>\n",
       "    <tr>\n",
       "      <th>92078</th>\n",
       "      <td>2019-12-31 20:30:00</td>\n",
       "      <td>1.04</td>\n",
       "      <td>6.80</td>\n",
       "      <td>2.8</td>\n",
       "      <td>1.66</td>\n",
       "      <td>1.8</td>\n",
       "      <td>699</td>\n",
       "      <td>0.78</td>\n",
       "      <td>984.76</td>\n",
       "      <td>0.0</td>\n",
       "      <td>...</td>\n",
       "      <td>NaN</td>\n",
       "      <td>NaN</td>\n",
       "      <td>NaN</td>\n",
       "      <td>NaN</td>\n",
       "      <td>NaN</td>\n",
       "      <td>NaN</td>\n",
       "      <td>NaN</td>\n",
       "      <td>12.0</td>\n",
       "      <td>Tuesday</td>\n",
       "      <td>20.0</td>\n",
       "    </tr>\n",
       "    <tr>\n",
       "      <th>92079</th>\n",
       "      <td>2019-12-31 21:30:00</td>\n",
       "      <td>1.06</td>\n",
       "      <td>6.76</td>\n",
       "      <td>2.5</td>\n",
       "      <td>1.36</td>\n",
       "      <td>1.2</td>\n",
       "      <td>729</td>\n",
       "      <td>1.00</td>\n",
       "      <td>984.84</td>\n",
       "      <td>0.0</td>\n",
       "      <td>...</td>\n",
       "      <td>NaN</td>\n",
       "      <td>NaN</td>\n",
       "      <td>NaN</td>\n",
       "      <td>NaN</td>\n",
       "      <td>NaN</td>\n",
       "      <td>NaN</td>\n",
       "      <td>NaN</td>\n",
       "      <td>12.0</td>\n",
       "      <td>Tuesday</td>\n",
       "      <td>21.0</td>\n",
       "    </tr>\n",
       "    <tr>\n",
       "      <th>92080</th>\n",
       "      <td>2019-12-31 22:30:00</td>\n",
       "      <td>0.48</td>\n",
       "      <td>6.70</td>\n",
       "      <td>4.6</td>\n",
       "      <td>3.12</td>\n",
       "      <td>2.2</td>\n",
       "      <td>293</td>\n",
       "      <td>-3.60</td>\n",
       "      <td>985.02</td>\n",
       "      <td>0.0</td>\n",
       "      <td>...</td>\n",
       "      <td>NaN</td>\n",
       "      <td>NaN</td>\n",
       "      <td>NaN</td>\n",
       "      <td>NaN</td>\n",
       "      <td>NaN</td>\n",
       "      <td>NaN</td>\n",
       "      <td>NaN</td>\n",
       "      <td>12.0</td>\n",
       "      <td>Tuesday</td>\n",
       "      <td>22.0</td>\n",
       "    </tr>\n",
       "  </tbody>\n",
       "</table>\n",
       "<p>5 rows × 25 columns</p>\n",
       "</div>"
      ],
      "text/plain": [
       "                     date  air_temperature  water_temperature  \\\n",
       "92076 2019-12-31 18:30:00             1.56               6.80   \n",
       "92077 2019-12-31 19:30:00             1.34               6.80   \n",
       "92078 2019-12-31 20:30:00             1.04               6.80   \n",
       "92079 2019-12-31 21:30:00             1.06               6.76   \n",
       "92080 2019-12-31 22:30:00             0.48               6.70   \n",
       "\n",
       "       wind_gust_max_10min  wind_speed_avg_10min  wind_force_avg_10min  \\\n",
       "92076                  2.3                  1.24                   1.0   \n",
       "92077                  2.6                  1.44                   1.2   \n",
       "92078                  2.8                  1.66                   1.8   \n",
       "92079                  2.5                  1.36                   1.2   \n",
       "92080                  4.6                  3.12                   2.2   \n",
       "\n",
       "      wind_direction  windchill  barometric_pressure_qfe  precipitation  ...  \\\n",
       "92076            734       1.54                   984.54            0.0  ...   \n",
       "92077            963       1.18                   984.62            0.0  ...   \n",
       "92078            699       0.78                   984.76            0.0  ...   \n",
       "92079            729       1.00                   984.84            0.0  ...   \n",
       "92080            293      -3.60                   985.02            0.0  ...   \n",
       "\n",
       "       AccidentSeverityCategory  AccidentInvolvingPedestrian  \\\n",
       "92076                       as4                          0.0   \n",
       "92077                       as4                          0.0   \n",
       "92078                       NaN                          NaN   \n",
       "92079                       NaN                          NaN   \n",
       "92080                       NaN                          NaN   \n",
       "\n",
       "       AccidentInvolvingBicycle  AccidentInvolvingMotorcycle RoadType  \\\n",
       "92076                       0.0                          0.0    rt432   \n",
       "92077                       0.0                          0.0    rt433   \n",
       "92078                       NaN                          NaN      NaN   \n",
       "92079                       NaN                          NaN      NaN   \n",
       "92080                       NaN                          NaN      NaN   \n",
       "\n",
       "      AccidentLocation_CHLV95_E  AccidentLocation_CHLV95_N  Month  WeekDay  \\\n",
       "92076                 2682276.0                  1247052.0   12.0  Tuesday   \n",
       "92077                 2683004.0                  1247184.0   12.0  Tuesday   \n",
       "92078                       NaN                        NaN   12.0  Tuesday   \n",
       "92079                       NaN                        NaN   12.0  Tuesday   \n",
       "92080                       NaN                        NaN   12.0  Tuesday   \n",
       "\n",
       "       Hour  \n",
       "92076  18.0  \n",
       "92077  19.0  \n",
       "92078  20.0  \n",
       "92079  21.0  \n",
       "92080  22.0  \n",
       "\n",
       "[5 rows x 25 columns]"
      ]
     },
     "execution_count": 10,
     "metadata": {},
     "output_type": "execute_result"
    }
   ],
   "source": [
    "df_join['Month'].fillna(df_join['date'].dt.month, inplace = True)\n",
    "df_join['WeekDay'].fillna(df_join['date'].dt.day_name(), inplace = True)\n",
    "df_join['Hour'].fillna(df_join['date'].dt.hour, inplace = True)\n",
    "df_join.tail()"
   ]
  },
  {
   "cell_type": "markdown",
   "metadata": {},
   "source": [
    "- Convert wind direction from type *object* to type *int*:"
   ]
  },
  {
   "cell_type": "code",
   "execution_count": 11,
   "metadata": {},
   "outputs": [],
   "source": [
    "df_join['wind_direction'] = [int(i) for i in df_join['wind_direction']]   "
   ]
  },
  {
   "cell_type": "markdown",
   "metadata": {},
   "source": [
    "- Add dummy for whether an accident happened:"
   ]
  },
  {
   "cell_type": "code",
   "execution_count": 12,
   "metadata": {},
   "outputs": [
    {
     "data": {
      "text/plain": [
       "date                           datetime64[ns]\n",
       "air_temperature                       float64\n",
       "water_temperature                     float64\n",
       "wind_gust_max_10min                   float64\n",
       "wind_speed_avg_10min                  float64\n",
       "wind_force_avg_10min                  float64\n",
       "wind_direction                          int64\n",
       "windchill                             float64\n",
       "barometric_pressure_qfe               float64\n",
       "precipitation                         float64\n",
       "dew_point                             float64\n",
       "global_radiation                      float64\n",
       "humidity                              float64\n",
       "water_level                           float64\n",
       "AccidentType                           object\n",
       "AccidentSeverityCategory               object\n",
       "AccidentInvolvingPedestrian           float64\n",
       "AccidentInvolvingBicycle              float64\n",
       "AccidentInvolvingMotorcycle           float64\n",
       "RoadType                               object\n",
       "AccidentLocation_CHLV95_E             float64\n",
       "AccidentLocation_CHLV95_N             float64\n",
       "Month                                 float64\n",
       "WeekDay                                object\n",
       "Hour                                  float64\n",
       "dtype: object"
      ]
     },
     "execution_count": 12,
     "metadata": {},
     "output_type": "execute_result"
    }
   ],
   "source": [
    "df_join.dtypes"
   ]
  },
  {
   "cell_type": "code",
   "execution_count": null,
   "metadata": {},
   "outputs": [],
   "source": [
    "df_join['Accident'] = np.where(df_join.isnull().any(axis = 1), 0, 1)"
   ]
  },
  {
   "cell_type": "markdown",
   "metadata": {},
   "source": [
    "- One Hot Encoding:"
   ]
  },
  {
   "cell_type": "code",
   "execution_count": null,
   "metadata": {},
   "outputs": [],
   "source": [
    "categorical_cols = list(df_join.select_dtypes(include=['object']).columns)\n",
    "categorical_cols.extend(['Month', 'Hour']) # these need to be one hot encoded as well\n",
    "df_join = pd.get_dummies(df_join, columns = categorical_cols, dtype= bool, drop_first= True)\n",
    "df_join.columns"
   ]
  },
  {
   "cell_type": "code",
   "execution_count": null,
   "metadata": {},
   "outputs": [],
   "source": [
    "df_join.head()"
   ]
  },
  {
   "cell_type": "code",
   "execution_count": null,
   "metadata": {},
   "outputs": [],
   "source": [
    "df_join.dtypes"
   ]
  },
  {
   "cell_type": "markdown",
   "metadata": {},
   "source": [
    "- Convert boolean types from True/False to 1/0:"
   ]
  },
  {
   "cell_type": "code",
   "execution_count": null,
   "metadata": {},
   "outputs": [],
   "source": [
    "bool_cols = list(df_join.select_dtypes(include=['bool']).columns)\n",
    "df_join[bool_cols] = 1*df_join[bool_cols]"
   ]
  },
  {
   "cell_type": "markdown",
   "metadata": {},
   "source": [
    "- Remove accident type specific columns:"
   ]
  },
  {
   "cell_type": "code",
   "execution_count": null,
   "metadata": {},
   "outputs": [],
   "source": [
    "#remove accident type specific columns:\n",
    "def remove_cols(df):\n",
    "    \n",
    "    acc_spec_cols = [df[column].name for column in df if df[column].name.startswith('Accident') and df[column].name != 'Accident']\n",
    "    acc_spec_cols.extend([df[column].name for column in df if df[column].name.startswith('RoadType')])\n",
    "    \n",
    "    return df.drop(acc_spec_cols, axis = 1)"
   ]
  },
  {
   "cell_type": "code",
   "execution_count": null,
   "metadata": {},
   "outputs": [],
   "source": [
    "df_join = remove_cols(df_join)"
   ]
  },
  {
   "cell_type": "code",
   "execution_count": null,
   "metadata": {},
   "outputs": [],
   "source": [
    "df_join.shape"
   ]
  },
  {
   "cell_type": "code",
   "execution_count": null,
   "metadata": {},
   "outputs": [],
   "source": [
    "df_join.columns"
   ]
  },
  {
   "cell_type": "code",
   "execution_count": null,
   "metadata": {},
   "outputs": [],
   "source": [
    "df_join.to_csv('datasets\\\\dataset.csv')"
   ]
  },
  {
   "cell_type": "code",
   "execution_count": null,
   "metadata": {},
   "outputs": [],
   "source": [
    "df_join.to_csv('datasets/dataset_accident_pred.csv')"
   ]
  },
  {
   "cell_type": "markdown",
   "metadata": {},
   "source": [
    "### B: Merge weather on accident data for multilevel prediction"
   ]
  },
  {
   "cell_type": "code",
   "execution_count": 13,
   "metadata": {},
   "outputs": [
    {
     "data": {
      "text/plain": [
       "(42726, 25)"
      ]
     },
     "execution_count": 13,
     "metadata": {},
     "output_type": "execute_result"
    }
   ],
   "source": [
    "df_join_multi = pd.merge(df_accidents, df_hourly_weather, on='date', how='left')\n",
    "df_join_multi.shape"
   ]
  },
  {
   "cell_type": "code",
   "execution_count": 14,
   "metadata": {},
   "outputs": [
    {
     "data": {
      "text/plain": [
       "date                           False\n",
       "AccidentType                   False\n",
       "AccidentSeverityCategory       False\n",
       "AccidentInvolvingPedestrian    False\n",
       "AccidentInvolvingBicycle       False\n",
       "AccidentInvolvingMotorcycle    False\n",
       "RoadType                       False\n",
       "AccidentLocation_CHLV95_E      False\n",
       "AccidentLocation_CHLV95_N      False\n",
       "Month                          False\n",
       "WeekDay                        False\n",
       "Hour                           False\n",
       "air_temperature                 True\n",
       "water_temperature               True\n",
       "wind_gust_max_10min             True\n",
       "wind_speed_avg_10min            True\n",
       "wind_force_avg_10min            True\n",
       "wind_direction                  True\n",
       "windchill                       True\n",
       "barometric_pressure_qfe         True\n",
       "precipitation                   True\n",
       "dew_point                       True\n",
       "global_radiation                True\n",
       "humidity                        True\n",
       "water_level                     True\n",
       "dtype: bool"
      ]
     },
     "execution_count": 14,
     "metadata": {},
     "output_type": "execute_result"
    }
   ],
   "source": [
    "df_join_multi.isnull().any()"
   ]
  },
  {
   "cell_type": "code",
   "execution_count": 15,
   "metadata": {},
   "outputs": [
    {
     "data": {
      "text/html": [
       "<div>\n",
       "<style scoped>\n",
       "    .dataframe tbody tr th:only-of-type {\n",
       "        vertical-align: middle;\n",
       "    }\n",
       "\n",
       "    .dataframe tbody tr th {\n",
       "        vertical-align: top;\n",
       "    }\n",
       "\n",
       "    .dataframe thead th {\n",
       "        text-align: right;\n",
       "    }\n",
       "</style>\n",
       "<table border=\"1\" class=\"dataframe\">\n",
       "  <thead>\n",
       "    <tr style=\"text-align: right;\">\n",
       "      <th></th>\n",
       "      <th>date</th>\n",
       "      <th>AccidentInvolvingPedestrian</th>\n",
       "      <th>AccidentInvolvingBicycle</th>\n",
       "      <th>AccidentInvolvingMotorcycle</th>\n",
       "      <th>AccidentLocation_CHLV95_E</th>\n",
       "      <th>AccidentLocation_CHLV95_N</th>\n",
       "      <th>air_temperature</th>\n",
       "      <th>water_temperature</th>\n",
       "      <th>wind_gust_max_10min</th>\n",
       "      <th>wind_speed_avg_10min</th>\n",
       "      <th>...</th>\n",
       "      <th>Hour_14.0</th>\n",
       "      <th>Hour_15.0</th>\n",
       "      <th>Hour_16.0</th>\n",
       "      <th>Hour_17.0</th>\n",
       "      <th>Hour_18.0</th>\n",
       "      <th>Hour_19.0</th>\n",
       "      <th>Hour_20.0</th>\n",
       "      <th>Hour_21.0</th>\n",
       "      <th>Hour_22.0</th>\n",
       "      <th>Hour_23.0</th>\n",
       "    </tr>\n",
       "  </thead>\n",
       "  <tbody>\n",
       "    <tr>\n",
       "      <th>0</th>\n",
       "      <td>2011-01-01 00:30:00</td>\n",
       "      <td>0</td>\n",
       "      <td>0</td>\n",
       "      <td>0</td>\n",
       "      <td>2684605</td>\n",
       "      <td>1245194</td>\n",
       "      <td>2.233333</td>\n",
       "      <td>5.20</td>\n",
       "      <td>2.4</td>\n",
       "      <td>1.216667</td>\n",
       "      <td>...</td>\n",
       "      <td>0</td>\n",
       "      <td>0</td>\n",
       "      <td>0</td>\n",
       "      <td>0</td>\n",
       "      <td>0</td>\n",
       "      <td>0</td>\n",
       "      <td>0</td>\n",
       "      <td>0</td>\n",
       "      <td>0</td>\n",
       "      <td>0</td>\n",
       "    </tr>\n",
       "    <tr>\n",
       "      <th>1</th>\n",
       "      <td>2011-01-01 01:30:00</td>\n",
       "      <td>0</td>\n",
       "      <td>1</td>\n",
       "      <td>0</td>\n",
       "      <td>2682382</td>\n",
       "      <td>1246980</td>\n",
       "      <td>2.380000</td>\n",
       "      <td>5.20</td>\n",
       "      <td>2.8</td>\n",
       "      <td>0.860000</td>\n",
       "      <td>...</td>\n",
       "      <td>0</td>\n",
       "      <td>0</td>\n",
       "      <td>0</td>\n",
       "      <td>0</td>\n",
       "      <td>0</td>\n",
       "      <td>0</td>\n",
       "      <td>0</td>\n",
       "      <td>0</td>\n",
       "      <td>0</td>\n",
       "      <td>0</td>\n",
       "    </tr>\n",
       "    <tr>\n",
       "      <th>2</th>\n",
       "      <td>2011-01-01 02:30:00</td>\n",
       "      <td>0</td>\n",
       "      <td>0</td>\n",
       "      <td>0</td>\n",
       "      <td>2682791</td>\n",
       "      <td>1247749</td>\n",
       "      <td>2.580000</td>\n",
       "      <td>5.14</td>\n",
       "      <td>1.2</td>\n",
       "      <td>0.340000</td>\n",
       "      <td>...</td>\n",
       "      <td>0</td>\n",
       "      <td>0</td>\n",
       "      <td>0</td>\n",
       "      <td>0</td>\n",
       "      <td>0</td>\n",
       "      <td>0</td>\n",
       "      <td>0</td>\n",
       "      <td>0</td>\n",
       "      <td>0</td>\n",
       "      <td>0</td>\n",
       "    </tr>\n",
       "    <tr>\n",
       "      <th>3</th>\n",
       "      <td>2011-01-01 02:30:00</td>\n",
       "      <td>0</td>\n",
       "      <td>0</td>\n",
       "      <td>0</td>\n",
       "      <td>2681199</td>\n",
       "      <td>1247102</td>\n",
       "      <td>2.580000</td>\n",
       "      <td>5.14</td>\n",
       "      <td>1.2</td>\n",
       "      <td>0.340000</td>\n",
       "      <td>...</td>\n",
       "      <td>0</td>\n",
       "      <td>0</td>\n",
       "      <td>0</td>\n",
       "      <td>0</td>\n",
       "      <td>0</td>\n",
       "      <td>0</td>\n",
       "      <td>0</td>\n",
       "      <td>0</td>\n",
       "      <td>0</td>\n",
       "      <td>0</td>\n",
       "    </tr>\n",
       "    <tr>\n",
       "      <th>4</th>\n",
       "      <td>2011-01-01 03:30:00</td>\n",
       "      <td>0</td>\n",
       "      <td>0</td>\n",
       "      <td>0</td>\n",
       "      <td>2682479</td>\n",
       "      <td>1250690</td>\n",
       "      <td>2.500000</td>\n",
       "      <td>5.16</td>\n",
       "      <td>1.9</td>\n",
       "      <td>0.520000</td>\n",
       "      <td>...</td>\n",
       "      <td>0</td>\n",
       "      <td>0</td>\n",
       "      <td>0</td>\n",
       "      <td>0</td>\n",
       "      <td>0</td>\n",
       "      <td>0</td>\n",
       "      <td>0</td>\n",
       "      <td>0</td>\n",
       "      <td>0</td>\n",
       "      <td>0</td>\n",
       "    </tr>\n",
       "    <tr>\n",
       "      <th>...</th>\n",
       "      <td>...</td>\n",
       "      <td>...</td>\n",
       "      <td>...</td>\n",
       "      <td>...</td>\n",
       "      <td>...</td>\n",
       "      <td>...</td>\n",
       "      <td>...</td>\n",
       "      <td>...</td>\n",
       "      <td>...</td>\n",
       "      <td>...</td>\n",
       "      <td>...</td>\n",
       "      <td>...</td>\n",
       "      <td>...</td>\n",
       "      <td>...</td>\n",
       "      <td>...</td>\n",
       "      <td>...</td>\n",
       "      <td>...</td>\n",
       "      <td>...</td>\n",
       "      <td>...</td>\n",
       "      <td>...</td>\n",
       "      <td>...</td>\n",
       "    </tr>\n",
       "    <tr>\n",
       "      <th>42720</th>\n",
       "      <td>2019-12-31 11:30:00</td>\n",
       "      <td>0</td>\n",
       "      <td>0</td>\n",
       "      <td>0</td>\n",
       "      <td>2680657</td>\n",
       "      <td>1246114</td>\n",
       "      <td>0.780000</td>\n",
       "      <td>6.62</td>\n",
       "      <td>2.6</td>\n",
       "      <td>1.420000</td>\n",
       "      <td>...</td>\n",
       "      <td>0</td>\n",
       "      <td>0</td>\n",
       "      <td>0</td>\n",
       "      <td>0</td>\n",
       "      <td>0</td>\n",
       "      <td>0</td>\n",
       "      <td>0</td>\n",
       "      <td>0</td>\n",
       "      <td>0</td>\n",
       "      <td>0</td>\n",
       "    </tr>\n",
       "    <tr>\n",
       "      <th>42721</th>\n",
       "      <td>2019-12-31 12:30:00</td>\n",
       "      <td>0</td>\n",
       "      <td>1</td>\n",
       "      <td>1</td>\n",
       "      <td>2683523</td>\n",
       "      <td>1247624</td>\n",
       "      <td>1.140000</td>\n",
       "      <td>6.70</td>\n",
       "      <td>2.5</td>\n",
       "      <td>0.840000</td>\n",
       "      <td>...</td>\n",
       "      <td>0</td>\n",
       "      <td>0</td>\n",
       "      <td>0</td>\n",
       "      <td>0</td>\n",
       "      <td>0</td>\n",
       "      <td>0</td>\n",
       "      <td>0</td>\n",
       "      <td>0</td>\n",
       "      <td>0</td>\n",
       "      <td>0</td>\n",
       "    </tr>\n",
       "    <tr>\n",
       "      <th>42722</th>\n",
       "      <td>2019-12-31 18:30:00</td>\n",
       "      <td>0</td>\n",
       "      <td>1</td>\n",
       "      <td>0</td>\n",
       "      <td>2681573</td>\n",
       "      <td>1247700</td>\n",
       "      <td>1.560000</td>\n",
       "      <td>6.80</td>\n",
       "      <td>2.3</td>\n",
       "      <td>1.240000</td>\n",
       "      <td>...</td>\n",
       "      <td>0</td>\n",
       "      <td>0</td>\n",
       "      <td>0</td>\n",
       "      <td>0</td>\n",
       "      <td>1</td>\n",
       "      <td>0</td>\n",
       "      <td>0</td>\n",
       "      <td>0</td>\n",
       "      <td>0</td>\n",
       "      <td>0</td>\n",
       "    </tr>\n",
       "    <tr>\n",
       "      <th>42723</th>\n",
       "      <td>2019-12-31 18:30:00</td>\n",
       "      <td>0</td>\n",
       "      <td>0</td>\n",
       "      <td>0</td>\n",
       "      <td>2682276</td>\n",
       "      <td>1247052</td>\n",
       "      <td>1.560000</td>\n",
       "      <td>6.80</td>\n",
       "      <td>2.3</td>\n",
       "      <td>1.240000</td>\n",
       "      <td>...</td>\n",
       "      <td>0</td>\n",
       "      <td>0</td>\n",
       "      <td>0</td>\n",
       "      <td>0</td>\n",
       "      <td>1</td>\n",
       "      <td>0</td>\n",
       "      <td>0</td>\n",
       "      <td>0</td>\n",
       "      <td>0</td>\n",
       "      <td>0</td>\n",
       "    </tr>\n",
       "    <tr>\n",
       "      <th>42724</th>\n",
       "      <td>2019-12-31 19:30:00</td>\n",
       "      <td>0</td>\n",
       "      <td>0</td>\n",
       "      <td>0</td>\n",
       "      <td>2683004</td>\n",
       "      <td>1247184</td>\n",
       "      <td>1.340000</td>\n",
       "      <td>6.80</td>\n",
       "      <td>2.6</td>\n",
       "      <td>1.440000</td>\n",
       "      <td>...</td>\n",
       "      <td>0</td>\n",
       "      <td>0</td>\n",
       "      <td>0</td>\n",
       "      <td>0</td>\n",
       "      <td>0</td>\n",
       "      <td>1</td>\n",
       "      <td>0</td>\n",
       "      <td>0</td>\n",
       "      <td>0</td>\n",
       "      <td>0</td>\n",
       "    </tr>\n",
       "  </tbody>\n",
       "</table>\n",
       "<p>42646 rows × 77 columns</p>\n",
       "</div>"
      ],
      "text/plain": [
       "                     date  AccidentInvolvingPedestrian  \\\n",
       "0     2011-01-01 00:30:00                            0   \n",
       "1     2011-01-01 01:30:00                            0   \n",
       "2     2011-01-01 02:30:00                            0   \n",
       "3     2011-01-01 02:30:00                            0   \n",
       "4     2011-01-01 03:30:00                            0   \n",
       "...                   ...                          ...   \n",
       "42720 2019-12-31 11:30:00                            0   \n",
       "42721 2019-12-31 12:30:00                            0   \n",
       "42722 2019-12-31 18:30:00                            0   \n",
       "42723 2019-12-31 18:30:00                            0   \n",
       "42724 2019-12-31 19:30:00                            0   \n",
       "\n",
       "       AccidentInvolvingBicycle  AccidentInvolvingMotorcycle  \\\n",
       "0                             0                            0   \n",
       "1                             1                            0   \n",
       "2                             0                            0   \n",
       "3                             0                            0   \n",
       "4                             0                            0   \n",
       "...                         ...                          ...   \n",
       "42720                         0                            0   \n",
       "42721                         1                            1   \n",
       "42722                         1                            0   \n",
       "42723                         0                            0   \n",
       "42724                         0                            0   \n",
       "\n",
       "       AccidentLocation_CHLV95_E  AccidentLocation_CHLV95_N  air_temperature  \\\n",
       "0                        2684605                    1245194         2.233333   \n",
       "1                        2682382                    1246980         2.380000   \n",
       "2                        2682791                    1247749         2.580000   \n",
       "3                        2681199                    1247102         2.580000   \n",
       "4                        2682479                    1250690         2.500000   \n",
       "...                          ...                        ...              ...   \n",
       "42720                    2680657                    1246114         0.780000   \n",
       "42721                    2683523                    1247624         1.140000   \n",
       "42722                    2681573                    1247700         1.560000   \n",
       "42723                    2682276                    1247052         1.560000   \n",
       "42724                    2683004                    1247184         1.340000   \n",
       "\n",
       "       water_temperature  wind_gust_max_10min  wind_speed_avg_10min  ...  \\\n",
       "0                   5.20                  2.4              1.216667  ...   \n",
       "1                   5.20                  2.8              0.860000  ...   \n",
       "2                   5.14                  1.2              0.340000  ...   \n",
       "3                   5.14                  1.2              0.340000  ...   \n",
       "4                   5.16                  1.9              0.520000  ...   \n",
       "...                  ...                  ...                   ...  ...   \n",
       "42720               6.62                  2.6              1.420000  ...   \n",
       "42721               6.70                  2.5              0.840000  ...   \n",
       "42722               6.80                  2.3              1.240000  ...   \n",
       "42723               6.80                  2.3              1.240000  ...   \n",
       "42724               6.80                  2.6              1.440000  ...   \n",
       "\n",
       "       Hour_14.0  Hour_15.0  Hour_16.0  Hour_17.0  Hour_18.0  Hour_19.0  \\\n",
       "0              0          0          0          0          0          0   \n",
       "1              0          0          0          0          0          0   \n",
       "2              0          0          0          0          0          0   \n",
       "3              0          0          0          0          0          0   \n",
       "4              0          0          0          0          0          0   \n",
       "...          ...        ...        ...        ...        ...        ...   \n",
       "42720          0          0          0          0          0          0   \n",
       "42721          0          0          0          0          0          0   \n",
       "42722          0          0          0          0          1          0   \n",
       "42723          0          0          0          0          1          0   \n",
       "42724          0          0          0          0          0          1   \n",
       "\n",
       "       Hour_20.0  Hour_21.0  Hour_22.0  Hour_23.0  \n",
       "0              0          0          0          0  \n",
       "1              0          0          0          0  \n",
       "2              0          0          0          0  \n",
       "3              0          0          0          0  \n",
       "4              0          0          0          0  \n",
       "...          ...        ...        ...        ...  \n",
       "42720          0          0          0          0  \n",
       "42721          0          0          0          0  \n",
       "42722          0          0          0          0  \n",
       "42723          0          0          0          0  \n",
       "42724          0          0          0          0  \n",
       "\n",
       "[42646 rows x 77 columns]"
      ]
     },
     "execution_count": 15,
     "metadata": {},
     "output_type": "execute_result"
    }
   ],
   "source": [
    "#drop nan columns\n",
    "df_join_multi = df_join_multi.dropna()\n",
    "\n",
    "#convert wind direction to type integer\n",
    "df_join_multi['wind_direction'] = [int(i) for i in df_join_multi['wind_direction']] \n",
    "\n",
    "#one hot encoding of accident severity category\n",
    "categorical_cols = list(df_join_multi.select_dtypes(include=['object']).columns)\n",
    "categorical_cols.extend(['Month', 'Hour']) # these need to be one hot encoded as well\n",
    "df_join_multi = pd.get_dummies(df_join_multi, columns = categorical_cols, dtype= bool, drop_first= True)\n",
    "#convert boolean to integers\n",
    "bool_cols = list(df_join_multi.select_dtypes(include=['bool']).columns)\n",
    "df_join_multi[bool_cols] = 1*df_join_multi[bool_cols]\n",
    "\n",
    "df_join_multi.columns"
   ]
  },
  {
   "cell_type": "code",
   "execution_count": 16,
   "metadata": {},
   "outputs": [
    {
     "data": {
      "text/plain": [
       "Index(['date', 'AccidentInvolvingPedestrian', 'AccidentInvolvingBicycle',\n",
       "       'AccidentInvolvingMotorcycle', 'AccidentLocation_CHLV95_E',\n",
       "       'AccidentLocation_CHLV95_N', 'air_temperature', 'water_temperature',\n",
       "       'wind_gust_max_10min', 'wind_speed_avg_10min', 'wind_force_avg_10min',\n",
       "       'wind_direction', 'windchill', 'barometric_pressure_qfe',\n",
       "       'precipitation', 'dew_point', 'global_radiation', 'humidity',\n",
       "       'water_level', 'AccidentType_at00', 'AccidentType_at1',\n",
       "       'AccidentType_at2', 'AccidentType_at3', 'AccidentType_at4',\n",
       "       'AccidentType_at5', 'AccidentType_at6', 'AccidentType_at7',\n",
       "       'AccidentType_at8', 'AccidentType_at9', 'AccidentSeverityCategory_as2',\n",
       "       'AccidentSeverityCategory_as3', 'AccidentSeverityCategory_as4',\n",
       "       'RoadType_rt431', 'RoadType_rt432', 'RoadType_rt433', 'RoadType_rt434',\n",
       "       'RoadType_rt439', 'WeekDay_Monday', 'WeekDay_Saturday',\n",
       "       'WeekDay_Sunday', 'WeekDay_Thursday', 'WeekDay_Tuesday',\n",
       "       'WeekDay_Wednesday', 'Month_2', 'Month_3', 'Month_4', 'Month_5',\n",
       "       'Month_6', 'Month_7', 'Month_8', 'Month_9', 'Month_10', 'Month_11',\n",
       "       'Month_12', 'Hour_1.0', 'Hour_2.0', 'Hour_3.0', 'Hour_4.0', 'Hour_5.0',\n",
       "       'Hour_6.0', 'Hour_7.0', 'Hour_8.0', 'Hour_9.0', 'Hour_10.0',\n",
       "       'Hour_11.0', 'Hour_12.0', 'Hour_13.0', 'Hour_14.0', 'Hour_15.0',\n",
       "       'Hour_16.0', 'Hour_17.0', 'Hour_18.0', 'Hour_19.0', 'Hour_20.0',\n",
       "       'Hour_21.0', 'Hour_22.0', 'Hour_23.0'],\n",
       "      dtype='object')"
      ]
     },
     "execution_count": 16,
     "metadata": {},
     "output_type": "execute_result"
    }
   ],
   "source": [
    "df_join_multi.columns"
   ]
  },
  {
   "cell_type": "markdown",
   "metadata": {},
   "source": [
    "**Thoughts on location variable:**\n",
    "<br>\n",
    "Normalizing the location code doesn't really make sense I guess... Therefore, we could use frequency of accident location as value and normalize it.\n"
   ]
  },
  {
   "cell_type": "markdown",
   "metadata": {},
   "source": [
    "#### Trying out if neural network works"
   ]
  },
  {
   "cell_type": "code",
   "execution_count": null,
   "metadata": {},
   "outputs": [],
   "source": [
    "from sklearn.preprocessing import OneHotEncoder, StandardScaler, MinMaxScaler\n",
    "from sklearn.model_selection import train_test_split\n",
    "from sklearn.model_selection import StratifiedKFold, KFold\n",
    "import keras\n",
    "import tensorflow\n",
    "import matplotlib.pyplot as plt\n",
    "from keras.models import Sequential\n",
    "from keras.layers import Dense\n",
    "from keras.optimizers import SGD"
   ]
  },
  {
   "cell_type": "code",
   "execution_count": null,
   "metadata": {},
   "outputs": [],
   "source": [
    "Y = np.array(df_join['Accident'])\n",
    "X = np.array(df_join.drop(['Accident', 'date'], 1))\n",
    "X_train_80, X_test_20, y_train_80, y_test_20 = train_test_split(X, Y, test_size=0.2, random_state=2)\n",
    "scaler = MinMaxScaler()\n",
    "scaler.fit(X_train_80)\n",
    "X_train_80 = scaler.transform(X_train_80)\n",
    "X_test_20 = scaler.transform(X_test_20)\n",
    "\n",
    "#training and evaluating neural network\n",
    "NeuralNet = Sequential([\n",
    "        Dense(16, input_dim= X_train_80.shape[1], activation='sigmoid'),\n",
    "        Dense(4, activation = 'sigmoid'),\n",
    "        Dense(1, activation='sigmoid'),\n",
    "])\n",
    "NeuralNet.compile(loss ='MSE', optimizer ='adam', metrics = ['accuracy'])\n",
    "historyNet = NeuralNet.fit(X_train_80, y_train_80, validation_split = 0.2, epochs=100, batch_size=64, \n",
    "                              shuffle = False, verbose = 1)\n",
    "scores = NeuralNet.evaluate(X_test_20, y_test_20, verbose=1)\n",
    "print(\"%s: %.2f%%\" % (NeuralNet.metrics_names[1], scores[1]*100))\n",
    "plt.plot(historyNet.history['loss'])\n",
    "plt.plot(historyNet.history['val_loss'])\n",
    "plt.title('Model loss')\n",
    "plt.ylabel('loss')\n",
    "plt.xlabel('epoch')\n",
    "plt.legend(['train', 'test'], loc='upper right')\n",
    "plt.show()"
   ]
  },
  {
   "cell_type": "code",
   "execution_count": null,
   "metadata": {},
   "outputs": [],
   "source": []
  }
 ],
 "metadata": {
  "kernelspec": {
   "display_name": "Python 3",
   "language": "python",
   "name": "python3"
  },
  "language_info": {
   "codemirror_mode": {
    "name": "ipython",
    "version": 3
   },
   "file_extension": ".py",
   "mimetype": "text/x-python",
   "name": "python",
   "nbconvert_exporter": "python",
   "pygments_lexer": "ipython3",
   "version": "3.8.5"
  }
 },
 "nbformat": 4,
 "nbformat_minor": 4
}
