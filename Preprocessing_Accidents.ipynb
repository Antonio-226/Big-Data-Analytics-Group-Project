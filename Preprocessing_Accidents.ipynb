{
 "cells": [
  {
   "cell_type": "markdown",
   "metadata": {},
   "source": [
    "# Preprocessing RoadTrafficAccidents"
   ]
  },
  {
   "cell_type": "code",
   "execution_count": 1,
   "metadata": {},
   "outputs": [],
   "source": [
    "import pandas as pd\n",
    "import os\n",
    "import datetime\n",
    "import math\n",
    "import numpy as np"
   ]
  },
  {
   "cell_type": "markdown",
   "metadata": {},
   "source": [
    "Getting the full path to the dataset folder"
   ]
  },
  {
   "cell_type": "code",
   "execution_count": 2,
   "metadata": {},
   "outputs": [],
   "source": [
    "dir_path = os.path.dirname(os.path.realpath(\"__file__\"))\n",
    "path_to_datasets_folder = os.path.join(dir_path, \"datasets\")\n",
    "path_to_accidents_file = os.path.join(path_to_datasets_folder, \"RoadTrafficAccidentLocations.csv\")"
   ]
  },
  {
   "cell_type": "markdown",
   "metadata": {},
   "source": [
    "Reading the TrafficAccident file and remove all language duplicates"
   ]
  },
  {
   "cell_type": "code",
   "execution_count": 3,
   "metadata": {},
   "outputs": [
    {
     "data": {
      "text/html": [
       "<div>\n",
       "<style scoped>\n",
       "    .dataframe tbody tr th:only-of-type {\n",
       "        vertical-align: middle;\n",
       "    }\n",
       "\n",
       "    .dataframe tbody tr th {\n",
       "        vertical-align: top;\n",
       "    }\n",
       "\n",
       "    .dataframe thead th {\n",
       "        text-align: right;\n",
       "    }\n",
       "</style>\n",
       "<table border=\"1\" class=\"dataframe\">\n",
       "  <thead>\n",
       "    <tr style=\"text-align: right;\">\n",
       "      <th></th>\n",
       "      <th>AccidentUID</th>\n",
       "      <th>AccidentType</th>\n",
       "      <th>AccidentType_en</th>\n",
       "      <th>AccidentSeverityCategory</th>\n",
       "      <th>AccidentSeverityCategory_en</th>\n",
       "      <th>AccidentInvolvingPedestrian</th>\n",
       "      <th>AccidentInvolvingBicycle</th>\n",
       "      <th>AccidentInvolvingMotorcycle</th>\n",
       "      <th>RoadType</th>\n",
       "      <th>RoadType_en</th>\n",
       "      <th>...</th>\n",
       "      <th>AccidentLocation_CHLV95_N</th>\n",
       "      <th>CantonCode</th>\n",
       "      <th>MunicipalityCode</th>\n",
       "      <th>AccidentYear</th>\n",
       "      <th>AccidentMonth</th>\n",
       "      <th>AccidentMonth_en</th>\n",
       "      <th>AccidentWeekDay</th>\n",
       "      <th>AccidentWeekDay_en</th>\n",
       "      <th>AccidentHour</th>\n",
       "      <th>AccidentHour_text</th>\n",
       "    </tr>\n",
       "  </thead>\n",
       "  <tbody>\n",
       "    <tr>\n",
       "      <th>0</th>\n",
       "      <td>A2D2677533867004E0430A865E337004</td>\n",
       "      <td>at0</td>\n",
       "      <td>Accident with skidding or self-accident</td>\n",
       "      <td>as4</td>\n",
       "      <td>Accident with property damage</td>\n",
       "      <td>False</td>\n",
       "      <td>False</td>\n",
       "      <td>False</td>\n",
       "      <td>rt433</td>\n",
       "      <td>Minor road</td>\n",
       "      <td>...</td>\n",
       "      <td>1245194</td>\n",
       "      <td>ZH</td>\n",
       "      <td>261</td>\n",
       "      <td>2011</td>\n",
       "      <td>1</td>\n",
       "      <td>January</td>\n",
       "      <td>aw406</td>\n",
       "      <td>Saturday</td>\n",
       "      <td>0.0</td>\n",
       "      <td>00h-01h</td>\n",
       "    </tr>\n",
       "    <tr>\n",
       "      <th>1</th>\n",
       "      <td>9FD6441F802C20A6E0430A865E3320A6</td>\n",
       "      <td>at0</td>\n",
       "      <td>Accident with skidding or self-accident</td>\n",
       "      <td>as3</td>\n",
       "      <td>Accident with light injuries</td>\n",
       "      <td>False</td>\n",
       "      <td>True</td>\n",
       "      <td>False</td>\n",
       "      <td>rt433</td>\n",
       "      <td>Minor road</td>\n",
       "      <td>...</td>\n",
       "      <td>1246980</td>\n",
       "      <td>ZH</td>\n",
       "      <td>261</td>\n",
       "      <td>2011</td>\n",
       "      <td>1</td>\n",
       "      <td>January</td>\n",
       "      <td>aw406</td>\n",
       "      <td>Saturday</td>\n",
       "      <td>1.0</td>\n",
       "      <td>01h-02h</td>\n",
       "    </tr>\n",
       "    <tr>\n",
       "      <th>2</th>\n",
       "      <td>9FDA0DC4856A6094E0430A865E336094</td>\n",
       "      <td>at0</td>\n",
       "      <td>Accident with skidding or self-accident</td>\n",
       "      <td>as4</td>\n",
       "      <td>Accident with property damage</td>\n",
       "      <td>False</td>\n",
       "      <td>False</td>\n",
       "      <td>False</td>\n",
       "      <td>rt439</td>\n",
       "      <td>Other</td>\n",
       "      <td>...</td>\n",
       "      <td>1247749</td>\n",
       "      <td>ZH</td>\n",
       "      <td>261</td>\n",
       "      <td>2011</td>\n",
       "      <td>1</td>\n",
       "      <td>January</td>\n",
       "      <td>aw406</td>\n",
       "      <td>Saturday</td>\n",
       "      <td>2.0</td>\n",
       "      <td>02h-03h</td>\n",
       "    </tr>\n",
       "    <tr>\n",
       "      <th>3</th>\n",
       "      <td>A3B66E42396E6000E0430A865E336000</td>\n",
       "      <td>at5</td>\n",
       "      <td>Accident when crossing the lane(s)</td>\n",
       "      <td>as3</td>\n",
       "      <td>Accident with light injuries</td>\n",
       "      <td>False</td>\n",
       "      <td>False</td>\n",
       "      <td>False</td>\n",
       "      <td>rt433</td>\n",
       "      <td>Minor road</td>\n",
       "      <td>...</td>\n",
       "      <td>1247102</td>\n",
       "      <td>ZH</td>\n",
       "      <td>261</td>\n",
       "      <td>2011</td>\n",
       "      <td>1</td>\n",
       "      <td>January</td>\n",
       "      <td>aw406</td>\n",
       "      <td>Saturday</td>\n",
       "      <td>2.0</td>\n",
       "      <td>02h-03h</td>\n",
       "    </tr>\n",
       "    <tr>\n",
       "      <th>4</th>\n",
       "      <td>9FDA0DBE8CCE9096E0430A865E339096</td>\n",
       "      <td>at0</td>\n",
       "      <td>Accident with skidding or self-accident</td>\n",
       "      <td>as4</td>\n",
       "      <td>Accident with property damage</td>\n",
       "      <td>False</td>\n",
       "      <td>False</td>\n",
       "      <td>False</td>\n",
       "      <td>rt433</td>\n",
       "      <td>Minor road</td>\n",
       "      <td>...</td>\n",
       "      <td>1250690</td>\n",
       "      <td>ZH</td>\n",
       "      <td>261</td>\n",
       "      <td>2011</td>\n",
       "      <td>1</td>\n",
       "      <td>January</td>\n",
       "      <td>aw406</td>\n",
       "      <td>Saturday</td>\n",
       "      <td>3.0</td>\n",
       "      <td>03h-04h</td>\n",
       "    </tr>\n",
       "  </tbody>\n",
       "</table>\n",
       "<p>5 rows × 21 columns</p>\n",
       "</div>"
      ],
      "text/plain": [
       "                        AccidentUID AccidentType  \\\n",
       "0  A2D2677533867004E0430A865E337004          at0   \n",
       "1  9FD6441F802C20A6E0430A865E3320A6          at0   \n",
       "2  9FDA0DC4856A6094E0430A865E336094          at0   \n",
       "3  A3B66E42396E6000E0430A865E336000          at5   \n",
       "4  9FDA0DBE8CCE9096E0430A865E339096          at0   \n",
       "\n",
       "                           AccidentType_en AccidentSeverityCategory  \\\n",
       "0  Accident with skidding or self-accident                      as4   \n",
       "1  Accident with skidding or self-accident                      as3   \n",
       "2  Accident with skidding or self-accident                      as4   \n",
       "3       Accident when crossing the lane(s)                      as3   \n",
       "4  Accident with skidding or self-accident                      as4   \n",
       "\n",
       "     AccidentSeverityCategory_en  AccidentInvolvingPedestrian  \\\n",
       "0  Accident with property damage                        False   \n",
       "1   Accident with light injuries                        False   \n",
       "2  Accident with property damage                        False   \n",
       "3   Accident with light injuries                        False   \n",
       "4  Accident with property damage                        False   \n",
       "\n",
       "   AccidentInvolvingBicycle  AccidentInvolvingMotorcycle RoadType RoadType_en  \\\n",
       "0                     False                        False    rt433  Minor road   \n",
       "1                      True                        False    rt433  Minor road   \n",
       "2                     False                        False    rt439       Other   \n",
       "3                     False                        False    rt433  Minor road   \n",
       "4                     False                        False    rt433  Minor road   \n",
       "\n",
       "   ...  AccidentLocation_CHLV95_N  CantonCode MunicipalityCode  AccidentYear  \\\n",
       "0  ...                    1245194          ZH              261          2011   \n",
       "1  ...                    1246980          ZH              261          2011   \n",
       "2  ...                    1247749          ZH              261          2011   \n",
       "3  ...                    1247102          ZH              261          2011   \n",
       "4  ...                    1250690          ZH              261          2011   \n",
       "\n",
       "   AccidentMonth  AccidentMonth_en AccidentWeekDay AccidentWeekDay_en  \\\n",
       "0              1           January           aw406           Saturday   \n",
       "1              1           January           aw406           Saturday   \n",
       "2              1           January           aw406           Saturday   \n",
       "3              1           January           aw406           Saturday   \n",
       "4              1           January           aw406           Saturday   \n",
       "\n",
       "  AccidentHour  AccidentHour_text  \n",
       "0          0.0            00h-01h  \n",
       "1          1.0            01h-02h  \n",
       "2          2.0            02h-03h  \n",
       "3          2.0            02h-03h  \n",
       "4          3.0            03h-04h  \n",
       "\n",
       "[5 rows x 21 columns]"
      ]
     },
     "execution_count": 3,
     "metadata": {},
     "output_type": "execute_result"
    }
   ],
   "source": [
    "df_accidents = pd.read_csv(path_to_accidents_file)\n",
    "df_accidents = df_accidents.drop(columns=['AccidentType_de', 'AccidentType_fr', 'AccidentType_it'])\n",
    "df_accidents = df_accidents.drop(columns=['AccidentSeverityCategory_de', 'AccidentSeverityCategory_fr', 'AccidentSeverityCategory_it'])\n",
    "df_accidents = df_accidents.drop(columns=['RoadType_de', 'RoadType_fr', 'RoadType_it'])\n",
    "df_accidents = df_accidents.drop(columns=['AccidentMonth_de', 'AccidentMonth_fr','AccidentMonth_it'])\n",
    "df_accidents = df_accidents.drop(columns=['AccidentWeekDay_de', 'AccidentWeekDay_fr', 'AccidentWeekDay_it'])\n",
    "df_accidents.head()"
   ]
  },
  {
   "cell_type": "markdown",
   "metadata": {},
   "source": [
    "create the correct datetime for each row and add 'nan' as value in the date row if the accident hour is missing (rows cases)"
   ]
  },
  {
   "cell_type": "code",
   "execution_count": 4,
   "metadata": {},
   "outputs": [
    {
     "data": {
      "text/plain": [
       "(5, 21)"
      ]
     },
     "execution_count": 4,
     "metadata": {},
     "output_type": "execute_result"
    }
   ],
   "source": [
    "df_accidents.head().shape #dims of cleaned dataset"
   ]
  },
  {
   "cell_type": "code",
   "execution_count": 5,
   "metadata": {},
   "outputs": [
    {
     "data": {
      "text/plain": [
       "AccidentUID                     object\n",
       "AccidentType                    object\n",
       "AccidentType_en                 object\n",
       "AccidentSeverityCategory        object\n",
       "AccidentSeverityCategory_en     object\n",
       "AccidentInvolvingPedestrian       bool\n",
       "AccidentInvolvingBicycle          bool\n",
       "AccidentInvolvingMotorcycle       bool\n",
       "RoadType                        object\n",
       "RoadType_en                     object\n",
       "AccidentLocation_CHLV95_E        int64\n",
       "AccidentLocation_CHLV95_N        int64\n",
       "CantonCode                      object\n",
       "MunicipalityCode                 int64\n",
       "AccidentYear                     int64\n",
       "AccidentMonth                    int64\n",
       "AccidentMonth_en                object\n",
       "AccidentWeekDay                 object\n",
       "AccidentWeekDay_en              object\n",
       "AccidentHour                   float64\n",
       "AccidentHour_text               object\n",
       "dtype: object"
      ]
     },
     "execution_count": 5,
     "metadata": {},
     "output_type": "execute_result"
    }
   ],
   "source": [
    "df_accidents.dtypes #might think about one hot encoding for categ columns, which appear to be the 'object' columns"
   ]
  },
  {
   "cell_type": "code",
   "execution_count": 6,
   "metadata": {},
   "outputs": [
    {
     "name": "stdout",
     "output_type": "stream",
     "text": [
      "0\n",
      "0\n",
      "0\n",
      "0\n",
      "0\n",
      "0\n",
      "0\n",
      "0\n",
      "0\n",
      "0\n",
      "0\n",
      "0\n",
      "0\n",
      "0\n",
      "0\n",
      "0\n",
      "0\n",
      "0\n",
      "0\n",
      "4\n",
      "0\n"
     ]
    }
   ],
   "source": [
    "from collections import Counter\n",
    "\n",
    "#count NaNs in dataset:\n",
    "for i in df_accidents.columns:\n",
    "    print(Counter(list(df_accidents[i].isna()))[1])"
   ]
  },
  {
   "cell_type": "code",
   "execution_count": 7,
   "metadata": {},
   "outputs": [
    {
     "data": {
      "text/plain": [
       "[(AccidentUID                           B74241C848E101A8E0430A83942701A8\n",
       "  AccidentType                                                       at0\n",
       "  AccidentType_en                Accident with skidding or self-accident\n",
       "  AccidentSeverityCategory                                           as4\n",
       "  AccidentSeverityCategory_en              Accident with property damage\n",
       "  AccidentInvolvingPedestrian                                      False\n",
       "  AccidentInvolvingBicycle                                         False\n",
       "  AccidentInvolvingMotorcycle                                      False\n",
       "  RoadType                                                         rt430\n",
       "  RoadType_en                                                   Motorway\n",
       "  AccidentLocation_CHLV95_E                                      2681888\n",
       "  AccidentLocation_CHLV95_N                                      1246482\n",
       "  CantonCode                                                          ZH\n",
       "  MunicipalityCode                                                   261\n",
       "  AccidentYear                                                      2011\n",
       "  AccidentMonth                                                       11\n",
       "  AccidentMonth_en                                              November\n",
       "  AccidentWeekDay                                                  aw401\n",
       "  AccidentWeekDay_en                                              Monday\n",
       "  AccidentHour                                                       NaN\n",
       "  AccidentHour_text                                                   ?h\n",
       "  Name: 3149, dtype: object,\n",
       "  3149),\n",
       " (AccidentUID                           C84FF4CA19F80108E0430A839427A774\n",
       "  AccidentType                                                       at0\n",
       "  AccidentType_en                Accident with skidding or self-accident\n",
       "  AccidentSeverityCategory                                           as4\n",
       "  AccidentSeverityCategory_en              Accident with property damage\n",
       "  AccidentInvolvingPedestrian                                      False\n",
       "  AccidentInvolvingBicycle                                         False\n",
       "  AccidentInvolvingMotorcycle                                      False\n",
       "  RoadType                                                         rt430\n",
       "  RoadType_en                                                   Motorway\n",
       "  AccidentLocation_CHLV95_E                                      2679335\n",
       "  AccidentLocation_CHLV95_N                                      1249796\n",
       "  CantonCode                                                          ZH\n",
       "  MunicipalityCode                                                   261\n",
       "  AccidentYear                                                      2012\n",
       "  AccidentMonth                                                        7\n",
       "  AccidentMonth_en                                                  July\n",
       "  AccidentWeekDay                                                  aw402\n",
       "  AccidentWeekDay_en                                             Tuesday\n",
       "  AccidentHour                                                       NaN\n",
       "  AccidentHour_text                                                   ?h\n",
       "  Name: 5749, dtype: object,\n",
       "  5749),\n",
       " (AccidentUID                           D69D3AE95619016CE0430A83942746D0\n",
       "  AccidentType                                                       at0\n",
       "  AccidentType_en                Accident with skidding or self-accident\n",
       "  AccidentSeverityCategory                                           as4\n",
       "  AccidentSeverityCategory_en              Accident with property damage\n",
       "  AccidentInvolvingPedestrian                                      False\n",
       "  AccidentInvolvingBicycle                                         False\n",
       "  AccidentInvolvingMotorcycle                                      False\n",
       "  RoadType                                                         rt431\n",
       "  RoadType_en                                                 Expressway\n",
       "  AccidentLocation_CHLV95_E                                      2683660\n",
       "  AccidentLocation_CHLV95_N                                      1250338\n",
       "  CantonCode                                                          ZH\n",
       "  MunicipalityCode                                                   261\n",
       "  AccidentYear                                                      2013\n",
       "  AccidentMonth                                                        1\n",
       "  AccidentMonth_en                                               January\n",
       "  AccidentWeekDay                                                  aw401\n",
       "  AccidentWeekDay_en                                              Monday\n",
       "  AccidentHour                                                       NaN\n",
       "  AccidentHour_text                                                   ?h\n",
       "  Name: 7436, dtype: object,\n",
       "  7436),\n",
       " (AccidentUID                           DCADE4DF97FA013CE0430A839427412F\n",
       "  AccidentType                                                       at0\n",
       "  AccidentType_en                Accident with skidding or self-accident\n",
       "  AccidentSeverityCategory                                           as4\n",
       "  AccidentSeverityCategory_en              Accident with property damage\n",
       "  AccidentInvolvingPedestrian                                      False\n",
       "  AccidentInvolvingBicycle                                         False\n",
       "  AccidentInvolvingMotorcycle                                      False\n",
       "  RoadType                                                         rt430\n",
       "  RoadType_en                                                   Motorway\n",
       "  AccidentLocation_CHLV95_E                                      2684363\n",
       "  AccidentLocation_CHLV95_N                                      1250915\n",
       "  CantonCode                                                          ZH\n",
       "  MunicipalityCode                                                   261\n",
       "  AccidentYear                                                      2013\n",
       "  AccidentMonth                                                        4\n",
       "  AccidentMonth_en                                                 April\n",
       "  AccidentWeekDay                                                  aw405\n",
       "  AccidentWeekDay_en                                              Friday\n",
       "  AccidentHour                                                       NaN\n",
       "  AccidentHour_text                                                   ?h\n",
       "  Name: 8193, dtype: object,\n",
       "  8193)]"
      ]
     },
     "execution_count": 7,
     "metadata": {},
     "output_type": "execute_result"
    }
   ],
   "source": [
    "#one way of checking positions of NaNs in dataset and get corresponding columns:\n",
    "nan_positions = [(row, index) for index, row in df_accidents.iterrows() if row.isnull().any()]\n",
    "nan_positions"
   ]
  },
  {
   "cell_type": "code",
   "execution_count": 8,
   "metadata": {},
   "outputs": [
    {
     "data": {
      "text/plain": [
       "(array([3149, 5749, 7436, 8193], dtype=int64),\n",
       " Index(['AccidentHour', 'AccidentHour', 'AccidentHour', 'AccidentHour'], dtype='object'))"
      ]
     },
     "execution_count": 8,
     "metadata": {},
     "output_type": "execute_result"
    }
   ],
   "source": [
    "#another way of checking positions of NaNs in dataset and get corresponding columns:\n",
    "idx, idy = np.where(pd.isnull(df_accidents))\n",
    "idx, df_accidents.columns[idy]"
   ]
  },
  {
   "cell_type": "code",
   "execution_count": 9,
   "metadata": {},
   "outputs": [],
   "source": [
    "df_accidents = df_accidents[df_accidents['AccidentYear'] != 2020]"
   ]
  },
  {
   "cell_type": "markdown",
   "metadata": {},
   "source": [
    "Count days in every year's month... This is needed to check whether we have data for every day of each year in order to pin down the exact date:\n"
   ]
  },
  {
   "cell_type": "code",
   "execution_count": 129,
   "metadata": {},
   "outputs": [
    {
     "name": "stdout",
     "output_type": "stream",
     "text": [
      "2011: [31, 28, 31, 30, 31, 30, 31, 31, 30, 31, 30, 31]\n",
      "2012: [31, 29, 31, 30, 31, 30, 31, 31, 30, 31, 30, 31]\n",
      "2013: [31, 28, 31, 30, 31, 30, 31, 31, 30, 31, 30, 31]\n",
      "2014: [31, 28, 31, 30, 31, 30, 31, 31, 30, 31, 30, 31]\n",
      "2015: [31, 28, 31, 30, 31, 30, 31, 31, 30, 31, 30, 31]\n",
      "2016: [31, 29, 31, 30, 31, 30, 31, 31, 30, 31, 30, 31]\n",
      "2017: [31, 28, 31, 30, 31, 30, 31, 31, 30, 31, 30, 31]\n",
      "2018: [31, 28, 31, 30, 31, 30, 31, 31, 30, 31, 30, 31]\n",
      "2019: [31, 28, 31, 30, 31, 30, 31, 31, 30, 31, 30, 31]\n"
     ]
    }
   ],
   "source": [
    "from itertools import groupby\n",
    "\n",
    "#count number of distinct days in each month for every year:\n",
    "for j in years:\n",
    "    \n",
    "    days_per_month = []\n",
    "    \n",
    "    for i in months:\n",
    "        z = pd.Series(zip([[len([v]), k] for k, v in groupby(df_accidents[(df_accidents['AccidentYear'] == j) & (df_accidents['AccidentMonth'] == i)]['AccidentWeekDay'])]))\n",
    "        item_counts = z.index.value_counts(normalize=False)\n",
    "        days_per_month.append(item_counts.sum())\n",
    "        \n",
    "    print('{}:'.format(j), days_per_month)\n",
    "\n"
   ]
  },
  {
   "cell_type": "code",
   "execution_count": 10,
   "metadata": {},
   "outputs": [
    {
     "name": "stdout",
     "output_type": "stream",
     "text": [
      "2011: {'Jan': 274, 'Feb': 221, 'Mar': 288, 'Apr': 324, 'May': 360, 'Jun': 310, 'Jul': 290, 'Aug': 343, 'Sep': 332, 'Oct': 324, 'Nov': 305, 'Dec': 319}\n",
      "\n",
      "2012: {'Jan': 269, 'Feb': 239, 'Mar': 340, 'Apr': 290, 'May': 306, 'Jun': 309, 'Jul': 307, 'Aug': 305, 'Sep': 280, 'Oct': 289, 'Nov': 322, 'Dec': 279}\n",
      "\n",
      "2013: {'Jan': 242, 'Feb': 227, 'Mar': 299, 'Apr': 305, 'May': 332, 'Jun': 372, 'Jul': 337, 'Aug': 323, 'Sep': 299, 'Oct': 328, 'Nov': 314, 'Dec': 267}\n",
      "\n",
      "2014: {'Jan': 247, 'Feb': 260, 'Mar': 321, 'Apr': 301, 'May': 311, 'Jun': 388, 'Jul': 294, 'Aug': 299, 'Sep': 301, 'Oct': 313, 'Nov': 252, 'Dec': 263}\n",
      "\n",
      "2015: {'Jan': 249, 'Feb': 246, 'Mar': 298, 'Apr': 288, 'May': 324, 'Jun': 356, 'Jul': 550, 'Aug': 491, 'Sep': 512, 'Oct': 511, 'Nov': 519, 'Dec': 447}\n",
      "\n",
      "2016: {'Jan': 450, 'Feb': 396, 'Mar': 420, 'Apr': 514, 'May': 549, 'Jun': 554, 'Jul': 478, 'Aug': 504, 'Sep': 546, 'Oct': 515, 'Nov': 480, 'Dec': 412}\n",
      "\n",
      "2017: {'Jan': 411, 'Feb': 398, 'Mar': 543, 'Apr': 457, 'May': 547, 'Jun': 536, 'Jul': 495, 'Aug': 506, 'Sep': 476, 'Oct': 494, 'Nov': 518, 'Dec': 466}\n",
      "\n",
      "2018: {'Jan': 398, 'Feb': 331, 'Mar': 522, 'Apr': 533, 'May': 531, 'Jun': 578, 'Jul': 571, 'Aug': 525, 'Sep': 489, 'Oct': 542, 'Nov': 527, 'Dec': 460}\n",
      "\n",
      "2019: {'Jan': 400, 'Feb': 414, 'Mar': 473, 'Apr': 468, 'May': 496, 'Jun': 591, 'Jul': 545, 'Aug': 508, 'Sep': 510, 'Oct': 520, 'Nov': 510, 'Dec': 412}\n",
      "\n"
     ]
    }
   ],
   "source": [
    "#counting entries in every year's months:\n",
    "\n",
    "import calendar\n",
    "\n",
    "years = np.arange(2011,2020,1).tolist()\n",
    "months = np.arange(1,13,1).tolist()\n",
    "\n",
    "\n",
    "for j in years:\n",
    "    \n",
    "    dict_ = {}\n",
    "    \n",
    "    for i in months:\n",
    "        row_dim = df_accidents[(df_accidents['AccidentYear'] == j) & (df_accidents['AccidentMonth'] == i)].shape[0]\n",
    "        months_name = calendar.month_name[i]\n",
    "        dict_[months_name[:3]] = row_dim\n",
    "    \n",
    "    print('{}:'.format(j), dict_)\n",
    "    print('')"
   ]
  },
  {
   "cell_type": "markdown",
   "metadata": {},
   "source": [
    "### Visualizations"
   ]
  },
  {
   "cell_type": "code",
   "execution_count": 11,
   "metadata": {},
   "outputs": [],
   "source": [
    "import matplotlib.pyplot as plt"
   ]
  },
  {
   "cell_type": "code",
   "execution_count": 12,
   "metadata": {
    "scrolled": true
   },
   "outputs": [
    {
     "data": {
      "text/plain": [
       "{'2011': [274, 221, 288, 324, 360, 310, 290, 343, 332, 324, 305, 319],\n",
       " '2012': [269, 239, 340, 290, 306, 309, 307, 305, 280, 289, 322, 279],\n",
       " '2013': [242, 227, 299, 305, 332, 372, 337, 323, 299, 328, 314, 267],\n",
       " '2014': [247, 260, 321, 301, 311, 388, 294, 299, 301, 313, 252, 263],\n",
       " '2015': [249, 246, 298, 288, 324, 356, 550, 491, 512, 511, 519, 447],\n",
       " '2016': [450, 396, 420, 514, 549, 554, 478, 504, 546, 515, 480, 412],\n",
       " '2017': [411, 398, 543, 457, 547, 536, 495, 506, 476, 494, 518, 466],\n",
       " '2018': [398, 331, 522, 533, 531, 578, 571, 525, 489, 542, 527, 460],\n",
       " '2019': [400, 414, 473, 468, 496, 591, 545, 508, 510, 520, 510, 412]}"
      ]
     },
     "execution_count": 12,
     "metadata": {},
     "output_type": "execute_result"
    }
   ],
   "source": [
    "dict_1 = {}\n",
    "\n",
    "for j in years:\n",
    "    accidents_list = []\n",
    "    \n",
    "    for i in months:\n",
    "        row_dim = df_accidents[(df_accidents['AccidentYear'] == j) & (df_accidents['AccidentMonth'] == i)].shape[0]\n",
    "        accidents_list.append(row_dim)\n",
    "    dict_1['{}'.format(j)] = [i for i in accidents_list]\n",
    "    \n",
    "dict_1"
   ]
  },
  {
   "cell_type": "markdown",
   "metadata": {},
   "source": [
    "- Average number of monthly accidents:"
   ]
  },
  {
   "cell_type": "code",
   "execution_count": 127,
   "metadata": {},
   "outputs": [
    {
     "data": {
      "image/png": "[encoded data removed]",
      "text/plain": [
       "<Figure size 432x288 with 1 Axes>"
      ]
     },
     "metadata": {
      "needs_background": "light"
     },
     "output_type": "display_data"
    }
   ],
   "source": [
    "monthly_avgs_dict = {}\n",
    "\n",
    "for j in range(12):\n",
    "    \n",
    "    month_list = []\n",
    "    \n",
    "    for key, value in dict_1.items():\n",
    "        month_list.append(value[j]) #stores the number of accidents of the same month for every year\n",
    "    months_name = calendar.month_name[j+1]\n",
    "    monthly_avgs_dict[months_name[:3]] = [np.mean(month_list), np.median(month_list)] #stores the average number of accidents for each month\n",
    "\n",
    "\n",
    "# set heights of bars\n",
    "bars1 = [value[0] for key, value in monthly_avgs_dict.items()]\n",
    "bars2 = [value[1] for key, value in monthly_avgs_dict.items()]\n",
    " \n",
    "barWidth = 0.3\n",
    "\n",
    "r1 = np.arange(len(bars1))\n",
    "r2 = [x + barWidth for x in r1]\n",
    "\n",
    "# Make the plot\n",
    "plt.bar(r1, bars1, width=barWidth, color='darkblue', edgecolor='white', label='Mean')\n",
    "plt.bar(r2, bars2, width=barWidth, color='green', edgecolor='white', label='Median')\n",
    "\n",
    "plt.title('Fig.1: Mean and Median of Accidents per Month', fontsize = 12)\n",
    "plt.xlabel('Month', fontweight='bold')\n",
    "plt.ylabel('Number of Accidents', fontweight='bold')\n",
    "plt.xticks([r + (barWidth-0.15) for r in range(len(bars1))], list(monthly_avgs_dict.keys()))\n",
    "\n",
    "\n",
    "# Create legend & Show graphic\n",
    "plt.legend()\n",
    "plt.show()"
   ]
  },
  {
   "cell_type": "markdown",
   "metadata": {},
   "source": [
    "- Average number of yearly accidents:"
   ]
  },
  {
   "cell_type": "code",
   "execution_count": 128,
   "metadata": {},
   "outputs": [
    {
     "data": {
      "image/png": "[encoded data removed]",
      "text/plain": [
       "<Figure size 432x288 with 1 Axes>"
      ]
     },
     "metadata": {
      "needs_background": "light"
     },
     "output_type": "display_data"
    }
   ],
   "source": [
    "yearly_avgs_dict = {}\n",
    "\n",
    "for key, value in dict_1.items():\n",
    "    yearly_avgs_dict[key] = [np.mean(value), np.median(value)] #stores the average number of accidents per year\n",
    "    \n",
    "\n",
    "# set heights of bars\n",
    "bars1 = [value[0] for key, value in yearly_avgs_dict.items()]\n",
    "bars2 = [value[1] for key, value in yearly_avgs_dict.items()]\n",
    " \n",
    "barWidth = 0.3\n",
    "\n",
    "r1 = np.arange(len(bars1))\n",
    "r2 = [x + barWidth for x in r1]\n",
    "\n",
    "# Make the plot\n",
    "plt.bar(r1, bars1, width=barWidth, color='darkblue', edgecolor='white', label='Mean')\n",
    "plt.bar(r2, bars2, width=barWidth, color='green', edgecolor='white', label='Median')\n",
    "\n",
    "plt.title('Fig.2: Mean and Median of Accidents per Year', fontsize = 12)\n",
    "plt.xlabel('Year', fontweight='bold')\n",
    "plt.ylabel('Number of Accidents', fontweight='bold')\n",
    "plt.xticks([r + (barWidth-0.15) for r in range(len(bars1))], list(yearly_avgs_dict.keys()))\n",
    "\n",
    "\n",
    "# Create legend & Show graphic\n",
    "plt.legend()\n",
    "plt.show()"
   ]
  },
  {
   "cell_type": "markdown",
   "metadata": {},
   "source": [
    "- Count days in every year's month... This is needed to check whether we have data for every day of each year in order to pin down the exact date:\n"
   ]
  },
  {
   "cell_type": "code",
   "execution_count": null,
   "metadata": {},
   "outputs": [],
   "source": [
    "from itertools import groupby\n",
    "\n",
    "#count number of distinct days in each month for every year:\n",
    "for j in years:\n",
    "    \n",
    "    days_per_month = []\n",
    "    \n",
    "    for i in months:\n",
    "        z = pd.Series(zip([[len([v]), k] for k, v in groupby(df_accidents[(df_accidents['AccidentYear'] == j) & (df_accidents['AccidentMonth'] == i)]['AccidentWeekDay'])]))\n",
    "        item_counts = z.index.value_counts(normalize=False)\n",
    "        days_per_month.append(item_counts.sum())\n",
    "        \n",
    "    print('{}:'.format(j), days_per_month)"
   ]
  },
  {
   "cell_type": "code",
   "execution_count": null,
   "metadata": {},
   "outputs": [],
   "source": [
    "first_day = 0\n",
    "day_multiplier = 0\n",
    "start = 0\n",
    "prev_days = ('aw402', 'aw403', 'aw404', 'aw405', 'aw406', 'aw407')\n",
    "\n",
    "for i, row in df_accidents.iterrows():\n",
    "    \n",
    "    # Set the reducer variable according to which day the current month starts with\n",
    "    # This is done so that in the if, elif loops below to get the correct day for\n",
    "    # every month\n",
    "    \n",
    "    reducer = datetime.date(row['AccidentYear'], row['AccidentMonth'], 1).weekday()\n",
    "    \n",
    "    # increase the day multiplier if the a \"higher\" Weekday is followed by a \"lower\" weekday\n",
    "    # example Saturday is followed by a thursday, in this case it is inferred that the next \n",
    "    # week has started\n",
    "    \n",
    "    if start > 0:\n",
    "        if int(df_accidents.at[i-1, 'AccidentWeekDay'][-1]) > int(df_accidents.at[i, 'AccidentWeekDay'][-1]):\n",
    "            day_multiplier += 1\n",
    "            \n",
    "        # reset the day_multiplier if a new month starts\n",
    "        \n",
    "        if df_accidents.at[i-1, 'AccidentMonth'] != df_accidents.at[i, 'AccidentMonth']:\n",
    "            day_multiplier = 0\n",
    "        \n",
    "        \n",
    "    \n",
    "    if row['AccidentWeekDay'] == 'aw401':\n",
    "        df_accidents.at[i, 'day'] = 1 + 7 * day_multiplier - reducer\n",
    "    elif row['AccidentWeekDay'] == 'aw402':\n",
    "        df_accidents.at[i, 'day'] = 2 + 7 * day_multiplier - reducer\n",
    "    elif row['AccidentWeekDay'] == 'aw403':\n",
    "        df_accidents.at[i, 'day'] = 3 + 7 * day_multiplier - reducer\n",
    "    elif row['AccidentWeekDay'] == 'aw404':\n",
    "        df_accidents.at[i, 'day'] = 4 + 7 * day_multiplier - reducer\n",
    "    elif row['AccidentWeekDay'] == 'aw405':\n",
    "        df_accidents.at[i, 'day'] = 5 + 7 * day_multiplier - reducer\n",
    "    elif row['AccidentWeekDay'] == 'aw406':\n",
    "        df_accidents.at[i, 'day'] = 6 + 7 * day_multiplier - reducer\n",
    "    elif row['AccidentWeekDay'] == 'aw407':\n",
    "        df_accidents.at[i, 'day'] = 7 + 7 * day_multiplier - reducer\n",
    "    \n",
    "    # safe null values in Accident hour as 'nan' in date column\n",
    "    if math.isnan(df_accidents.at[i, 'AccidentHour']):\n",
    "        accident_date = df_accidents.at[i, 'AccidentHour']\n",
    "        print(df_accidents.at[i, 'AccidentHour'])\n",
    "        \n",
    "    # convert to datetime format all time with :30\n",
    "    else:\n",
    "        accident_date = datetime.datetime(row['AccidentYear'], row['AccidentMonth'], int(df_accidents.at[i, 'day']), int(df_accidents.at[i, 'AccidentHour']), 30)\n",
    "\n",
    "    df_accidents.at[i, 'date'] = accident_date\n",
    "    \n",
    "    start = 1"
   ]
  }
 ],
 "metadata": {
  "kernelspec": {
   "display_name": "Python 3",
   "language": "python",
   "name": "python3"
  },
  "language_info": {
   "codemirror_mode": {
    "name": "ipython",
    "version": 3
   },
   "file_extension": ".py",
   "mimetype": "text/x-python",
   "name": "python",
   "nbconvert_exporter": "python",
   "pygments_lexer": "ipython3",
   "version": "3.9.4"
  }
 },
 "nbformat": 4,
 "nbformat_minor": 4
}
