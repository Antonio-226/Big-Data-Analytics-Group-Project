{
 "cells": [
  {
   "cell_type": "code",
   "execution_count": 1,
   "id": "6efc5dee",
   "metadata": {},
   "outputs": [],
   "source": [
    "import pandas as pd\n",
    "import os\n",
    "import datetime"
   ]
  },
  {
   "cell_type": "code",
   "execution_count": 2,
   "id": "e6a3bd57",
   "metadata": {},
   "outputs": [],
   "source": [
    "# Setting up paths (should work for all OS)\n",
    "dir_path = os.path.dirname(os.path.realpath(\"__file__\"))\n",
    "path_to_datasets_folder = os.path.join(dir_path, \"datasets\")\n",
    "# path_to_weather_file = os.path.join(path_to_datasets_folder, \"messwerte_mythenquai_2007-2020.csv\")\n",
    "path_to_accidents_file = os.path.join(path_to_datasets_folder, \"RoadTrafficAccidentLocations.csv\")"
   ]
  },
  {
   "cell_type": "code",
   "execution_count": 3,
   "id": "7663d71a",
   "metadata": {},
   "outputs": [],
   "source": [
    "df_accidents = pd.read_csv(path_to_accidents_file)"
   ]
  },
  {
   "cell_type": "markdown",
   "id": "cb9e8a95",
   "metadata": {},
   "source": [
    "## Basic preprocessing"
   ]
  },
  {
   "cell_type": "code",
   "execution_count": 4,
   "id": "eed39a3e",
   "metadata": {},
   "outputs": [
    {
     "name": "stdout",
     "output_type": "stream",
     "text": [
      "Removed 4 accidents that did not provide time information\n"
     ]
    }
   ],
   "source": [
    "# only include accidents that provide time information\n",
    "\n",
    "accidents_before = df_accidents.shape[0]\n",
    "\n",
    "df_accidents = df_accidents.dropna(subset=['AccidentYear'])\n",
    "df_accidents = df_accidents.dropna(subset=['AccidentMonth'])\n",
    "df_accidents = df_accidents.dropna(subset=['AccidentWeekDay'])\n",
    "df_accidents = df_accidents.dropna(subset=['AccidentHour'])\n",
    "\n",
    "# reset to a continuing index\n",
    "df_accidents = df_accidents.reset_index(drop=True)\n",
    "\n",
    "accidents_after= df_accidents.shape[0]\n",
    "print(\"Removed {} accidents that did not provide time information\".format(accidents_before-accidents_after))\n"
   ]
  },
  {
   "cell_type": "code",
   "execution_count": 5,
   "id": "752904c5",
   "metadata": {},
   "outputs": [],
   "source": [
    "first_day = 0\n",
    "day_multiplier = 0\n",
    "start = 0\n",
    "prev_days = ('aw402', 'aw403', 'aw404', 'aw405', 'aw406', 'aw407')\n",
    "\n",
    "for i, row in df_accidents.iterrows():\n",
    "    \n",
    "    # Set the reducer variable according to which day the current month starts with\n",
    "    # This is done so that in the if, elif loops below to get the correct day for\n",
    "    # every month\n",
    "    \n",
    "    reducer = datetime.date(row['AccidentYear'], row['AccidentMonth'], 1).weekday()\n",
    "    \n",
    "    # increase the day multiplier if the a \"higher\" Weekday is followed by a \"lower\" weekday\n",
    "    # example Saturday is followed by a thursday, in this case it is inferred that the next \n",
    "    # week has started\n",
    "    \n",
    "    #print(\"type of i: {}\".format(type(i)))\n",
    "    \n",
    "    if start > 0:\n",
    "        if int(df_accidents.at[i-1, 'AccidentWeekDay'][-1]) > int(df_accidents.at[i, 'AccidentWeekDay'][-1]):\n",
    "            day_multiplier += 1\n",
    "            \n",
    "        # reset the day_multiplier if a new month starts\n",
    "        \n",
    "        if df_accidents.at[i-1, 'AccidentMonth'] != df_accidents.at[i, 'AccidentMonth']:\n",
    "            day_multiplier = 0\n",
    "        \n",
    "        \n",
    "    \n",
    "    if row['AccidentWeekDay'] == 'aw401':\n",
    "        df_accidents.at[i, 'day'] = 1 + 7 * day_multiplier - reducer\n",
    "    elif row['AccidentWeekDay'] == 'aw402':\n",
    "        df_accidents.at[i, 'day'] = 2 + 7 * day_multiplier - reducer\n",
    "    elif row['AccidentWeekDay'] == 'aw403':\n",
    "        df_accidents.at[i, 'day'] = 3 + 7 * day_multiplier - reducer\n",
    "    elif row['AccidentWeekDay'] == 'aw404':\n",
    "        df_accidents.at[i, 'day'] = 4 + 7 * day_multiplier - reducer\n",
    "    elif row['AccidentWeekDay'] == 'aw405':\n",
    "        df_accidents.at[i, 'day'] = 5 + 7 * day_multiplier - reducer\n",
    "    elif row['AccidentWeekDay'] == 'aw406':\n",
    "        df_accidents.at[i, 'day'] = 6 + 7 * day_multiplier - reducer\n",
    "    elif row['AccidentWeekDay'] == 'aw407':\n",
    "        df_accidents.at[i, 'day'] = 7 + 7 * day_multiplier - reducer\n",
    "    \n",
    "    # print((df_accidents.at[i, 'AccidentHour']))\n",
    "\n",
    "    # print(int(df_accidents.at[i, 'AccidentHour']))\n",
    "    # accident_date = datetime.datetime(row['AccidentYear'], row['AccidentMonth'], df_accidents.at[i, 'day'], int(df_accidents.at[i, 'AccidentHour']))\n",
    "    # print(\"type of at: {}\".format(type(df_accidents.at[i, 'day'])))\n",
    "    # print(\"value of at: {}\".format(df_accidents.at[i, 'day']))\n",
    "    # print(\"type of Month: {}\".format(type(row['AccidentMonth'])))\n",
    "    # print(\"type of Year: {}\".format(type(row['AccidentYear'])))\n",
    "    assert df_accidents.at[i, 'day'] % 1 == 0, \"day format is not valid: {}\".format(df_accidents.at[i, 'day'])\n",
    "    assert df_accidents.at[i, 'AccidentHour'] % 1 == 0, \"hour format is not valid: {} is of type {} in row {}\".format(df_accidents.at[i, 'AccidentHour'], type(df_accidents.at[i, 'AccidentHour']), i)\n",
    "    accident_date = datetime.datetime(row['AccidentYear'], row['AccidentMonth'], int(df_accidents.at[i, 'day']), int(df_accidents.at[i, 'AccidentHour']), 30)\n",
    "    df_accidents.at[i, 'date'] = accident_date\n",
    "    \n",
    "    start = 1"
   ]
  },
  {
   "cell_type": "code",
   "execution_count": 6,
   "id": "934f6bb3",
   "metadata": {},
   "outputs": [],
   "source": [
    "# for further processing with pandas\n",
    "df_accidents.to_pickle(\"datasets\\\\accidents.pkl\")\n",
    "\n",
    "# for further processing with spark\n",
    "df_accidents.to_csv('datasets/accidents.csv')"
   ]
  },
  {
   "cell_type": "code",
   "execution_count": 7,
   "id": "548f8e62",
   "metadata": {},
   "outputs": [],
   "source": [
    "# df_accidents.head()\n",
    "# df_accidents[df_accidents[\"AccidentYear\"]==2020]\n",
    "# df_accidents[['AccidentUID', 'AccidentYear', 'AccidentMonth', 'AccidentWeekDay', 'AccidentWeekDay_de', 'AccidentHour_text', 'day', 'date', 'AccidentHour']]"
   ]
  }
 ],
 "metadata": {
  "kernelspec": {
   "display_name": "Python 3",
   "language": "python",
   "name": "python3"
  },
  "language_info": {
   "codemirror_mode": {
    "name": "ipython",
    "version": 3
   },
   "file_extension": ".py",
   "mimetype": "text/x-python",
   "name": "python",
   "nbconvert_exporter": "python",
   "pygments_lexer": "ipython3",
   "version": "3.9.4"
  }
 },
 "nbformat": 4,
 "nbformat_minor": 5
}
